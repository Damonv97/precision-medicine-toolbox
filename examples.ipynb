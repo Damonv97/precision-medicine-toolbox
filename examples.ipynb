{
 "cells": [
  {
   "cell_type": "markdown",
   "metadata": {},
   "source": [
    "# Examples of usage:"
   ]
  },
  {
   "cell_type": "code",
   "execution_count": 1,
   "metadata": {},
   "outputs": [
    {
     "name": "stdout",
     "output_type": "stream",
     "text": [
      "Requirement already satisfied: numpy>=1.16.2 in c:\\users\\s.primakov\\appdata\\local\\continuum\\anaconda3\\lib\\site-packages (from -r requirements.txt (line 1)) (1.18.3)\n",
      "Requirement already satisfied: SimpleITK>=0.9.1 in c:\\users\\s.primakov\\appdata\\local\\continuum\\anaconda3\\lib\\site-packages (from -r requirements.txt (line 2)) (1.1.0)\n",
      "Requirement already satisfied: PyWavelets<=1.0.0,>=0.4.0 in c:\\users\\s.primakov\\appdata\\local\\continuum\\anaconda3\\lib\\site-packages (from -r requirements.txt (line 3)) (0.5.2)\n",
      "Requirement already satisfied: pykwalify>=1.6.0 in c:\\users\\s.primakov\\appdata\\local\\continuum\\anaconda3\\lib\\site-packages (from -r requirements.txt (line 4)) (1.7.0)\n",
      "Requirement already satisfied: six>=1.10.0 in c:\\users\\s.primakov\\appdata\\local\\continuum\\anaconda3\\lib\\site-packages (from -r requirements.txt (line 5)) (1.11.0)\n",
      "Requirement already satisfied: tqdm>=4.40.2 in c:\\users\\s.primakov\\appdata\\local\\continuum\\anaconda3\\lib\\site-packages (from -r requirements.txt (line 6)) (4.45.0)\n",
      "Requirement already satisfied: pydicom>=1.3.0 in c:\\users\\s.primakov\\appdata\\local\\continuum\\anaconda3\\lib\\site-packages (from -r requirements.txt (line 7)) (1.4.2)\n",
      "Requirement already satisfied: pandas>=0.25.1 in c:\\users\\s.primakov\\appdata\\roaming\\python\\python36\\site-packages (from -r requirements.txt (line 8)) (0.25.3)\n",
      "Requirement already satisfied: pyradiomics>=2.2.0 in c:\\users\\s.primakov\\appdata\\local\\continuum\\anaconda3\\lib\\site-packages (from -r requirements.txt (line 9)) (3.0)\n",
      "Requirement already satisfied: scikit-image>=0.14.2 in c:\\users\\s.primakov\\appdata\\local\\continuum\\anaconda3\\lib\\site-packages (from -r requirements.txt (line 10)) (0.16.2)\n",
      "Requirement already satisfied: ipywidgets>=7.4.2 in c:\\users\\s.primakov\\appdata\\local\\continuum\\anaconda3\\lib\\site-packages (from -r requirements.txt (line 11)) (7.5.1)\n",
      "Requirement already satisfied: matplotlib>=3.0.3 in c:\\users\\s.primakov\\appdata\\local\\continuum\\anaconda3\\lib\\site-packages (from -r requirements.txt (line 12)) (3.1.2)\n",
      "Requirement already satisfied: Pillow>=5.4.1 in c:\\users\\s.primakov\\appdata\\local\\continuum\\anaconda3\\lib\\site-packages (from -r requirements.txt (line 13)) (7.1.2)\n",
      "Requirement already satisfied: scikit-learn>=0.21.3 in c:\\users\\s.primakov\\appdata\\local\\continuum\\anaconda3\\lib\\site-packages (from -r requirements.txt (line 14)) (0.22.2.post1)\n",
      "Requirement already satisfied: PyYAML>=3.11 in c:\\users\\s.primakov\\appdata\\local\\continuum\\anaconda3\\lib\\site-packages (from pykwalify>=1.6.0->-r requirements.txt (line 4)) (3.12)\n",
      "Requirement already satisfied: python-dateutil>=2.4.2 in c:\\users\\s.primakov\\appdata\\local\\continuum\\anaconda3\\lib\\site-packages (from pykwalify>=1.6.0->-r requirements.txt (line 4)) (2.6.1)\n",
      "Requirement already satisfied: docopt>=0.6.2 in c:\\users\\s.primakov\\appdata\\local\\continuum\\anaconda3\\lib\\site-packages (from pykwalify>=1.6.0->-r requirements.txt (line 4)) (0.6.2)\n",
      "Requirement already satisfied: pytz>=2017.2 in c:\\users\\s.primakov\\appdata\\local\\continuum\\anaconda3\\lib\\site-packages (from pandas>=0.25.1->-r requirements.txt (line 8)) (2017.3)\n",
      "Requirement already satisfied: imageio>=2.3.0 in c:\\users\\s.primakov\\appdata\\local\\continuum\\anaconda3\\lib\\site-packages (from scikit-image>=0.14.2->-r requirements.txt (line 10)) (2.8.0)\n",
      "Requirement already satisfied: networkx>=2.0 in c:\\users\\s.primakov\\appdata\\local\\continuum\\anaconda3\\lib\\site-packages (from scikit-image>=0.14.2->-r requirements.txt (line 10)) (2.1)\n",
      "Requirement already satisfied: scipy>=0.19.0 in c:\\users\\s.primakov\\appdata\\roaming\\python\\python36\\site-packages (from scikit-image>=0.14.2->-r requirements.txt (line 10)) (1.4.1)\n",
      "Requirement already satisfied: nbformat>=4.2.0 in c:\\users\\s.primakov\\appdata\\local\\continuum\\anaconda3\\lib\\site-packages (from ipywidgets>=7.4.2->-r requirements.txt (line 11)) (4.4.0)\n",
      "Requirement already satisfied: ipython>=4.0.0; python_version >= \"3.3\" in c:\\users\\s.primakov\\appdata\\local\\continuum\\anaconda3\\lib\\site-packages (from ipywidgets>=7.4.2->-r requirements.txt (line 11)) (6.2.1)\n",
      "Requirement already satisfied: traitlets>=4.3.1 in c:\\users\\s.primakov\\appdata\\local\\continuum\\anaconda3\\lib\\site-packages (from ipywidgets>=7.4.2->-r requirements.txt (line 11)) (4.3.2)\n",
      "Requirement already satisfied: widgetsnbextension~=3.5.0 in c:\\users\\s.primakov\\appdata\\local\\continuum\\anaconda3\\lib\\site-packages (from ipywidgets>=7.4.2->-r requirements.txt (line 11)) (3.5.1)\n",
      "Requirement already satisfied: ipykernel>=4.5.1 in c:\\users\\s.primakov\\appdata\\local\\continuum\\anaconda3\\lib\\site-packages (from ipywidgets>=7.4.2->-r requirements.txt (line 11)) (5.1.0)\n",
      "Requirement already satisfied: kiwisolver>=1.0.1 in c:\\users\\s.primakov\\appdata\\local\\continuum\\anaconda3\\lib\\site-packages (from matplotlib>=3.0.3->-r requirements.txt (line 12)) (1.0.1)\n",
      "Requirement already satisfied: pyparsing!=2.0.4,!=2.1.2,!=2.1.6,>=2.0.1 in c:\\users\\s.primakov\\appdata\\local\\continuum\\anaconda3\\lib\\site-packages (from matplotlib>=3.0.3->-r requirements.txt (line 12)) (2.2.0)\n",
      "Requirement already satisfied: cycler>=0.10 in c:\\users\\s.primakov\\appdata\\local\\continuum\\anaconda3\\lib\\site-packages (from matplotlib>=3.0.3->-r requirements.txt (line 12)) (0.10.0)\n",
      "Requirement already satisfied: joblib>=0.11 in c:\\users\\s.primakov\\appdata\\local\\continuum\\anaconda3\\lib\\site-packages (from scikit-learn>=0.21.3->-r requirements.txt (line 14)) (0.14.1)\n",
      "Requirement already satisfied: decorator>=4.1.0 in c:\\users\\s.primakov\\appdata\\local\\continuum\\anaconda3\\lib\\site-packages (from networkx>=2.0->scikit-image>=0.14.2->-r requirements.txt (line 10)) (4.2.1)\n",
      "Requirement already satisfied: ipython_genutils in c:\\users\\s.primakov\\appdata\\local\\continuum\\anaconda3\\lib\\site-packages (from nbformat>=4.2.0->ipywidgets>=7.4.2->-r requirements.txt (line 11)) (0.2.0)\n",
      "Requirement already satisfied: jsonschema!=2.5.0,>=2.4 in c:\\users\\s.primakov\\appdata\\local\\continuum\\anaconda3\\lib\\site-packages (from nbformat>=4.2.0->ipywidgets>=7.4.2->-r requirements.txt (line 11)) (2.6.0)\n",
      "Requirement already satisfied: jupyter_core in c:\\users\\s.primakov\\appdata\\local\\continuum\\anaconda3\\lib\\site-packages (from nbformat>=4.2.0->ipywidgets>=7.4.2->-r requirements.txt (line 11)) (4.4.0)\n",
      "Requirement already satisfied: setuptools>=18.5 in c:\\users\\s.primakov\\appdata\\local\\continuum\\anaconda3\\lib\\site-packages (from ipython>=4.0.0; python_version >= \"3.3\"->ipywidgets>=7.4.2->-r requirements.txt (line 11)) (46.0.0)\n",
      "Requirement already satisfied: jedi>=0.10 in c:\\users\\s.primakov\\appdata\\local\\continuum\\anaconda3\\lib\\site-packages (from ipython>=4.0.0; python_version >= \"3.3\"->ipywidgets>=7.4.2->-r requirements.txt (line 11)) (0.11.1)\n",
      "Requirement already satisfied: pickleshare in c:\\users\\s.primakov\\appdata\\local\\continuum\\anaconda3\\lib\\site-packages (from ipython>=4.0.0; python_version >= \"3.3\"->ipywidgets>=7.4.2->-r requirements.txt (line 11)) (0.7.4)\n",
      "Requirement already satisfied: simplegeneric>0.8 in c:\\users\\s.primakov\\appdata\\local\\continuum\\anaconda3\\lib\\site-packages (from ipython>=4.0.0; python_version >= \"3.3\"->ipywidgets>=7.4.2->-r requirements.txt (line 11)) (0.8.1)\n",
      "Requirement already satisfied: prompt_toolkit<2.0.0,>=1.0.4 in c:\\users\\s.primakov\\appdata\\local\\continuum\\anaconda3\\lib\\site-packages (from ipython>=4.0.0; python_version >= \"3.3\"->ipywidgets>=7.4.2->-r requirements.txt (line 11)) (1.0.15)\n",
      "Requirement already satisfied: pygments in c:\\users\\s.primakov\\appdata\\local\\continuum\\anaconda3\\lib\\site-packages (from ipython>=4.0.0; python_version >= \"3.3\"->ipywidgets>=7.4.2->-r requirements.txt (line 11)) (2.2.0)\n",
      "Requirement already satisfied: colorama in c:\\users\\s.primakov\\appdata\\local\\continuum\\anaconda3\\lib\\site-packages (from ipython>=4.0.0; python_version >= \"3.3\"->ipywidgets>=7.4.2->-r requirements.txt (line 11)) (0.3.9)\n",
      "Requirement already satisfied: notebook>=4.4.1 in c:\\users\\s.primakov\\appdata\\local\\continuum\\anaconda3\\lib\\site-packages (from widgetsnbextension~=3.5.0->ipywidgets>=7.4.2->-r requirements.txt (line 11)) (5.4.0)\n",
      "Requirement already satisfied: tornado>=4.2 in c:\\users\\s.primakov\\appdata\\local\\continuum\\anaconda3\\lib\\site-packages (from ipykernel>=4.5.1->ipywidgets>=7.4.2->-r requirements.txt (line 11)) (4.5.3)\n",
      "Requirement already satisfied: jupyter-client in c:\\users\\s.primakov\\appdata\\local\\continuum\\anaconda3\\lib\\site-packages (from ipykernel>=4.5.1->ipywidgets>=7.4.2->-r requirements.txt (line 11)) (5.2.4)\n",
      "Requirement already satisfied: parso==0.1.* in c:\\users\\s.primakov\\appdata\\local\\continuum\\anaconda3\\lib\\site-packages (from jedi>=0.10->ipython>=4.0.0; python_version >= \"3.3\"->ipywidgets>=7.4.2->-r requirements.txt (line 11)) (0.1.1)\n",
      "Requirement already satisfied: wcwidth in c:\\users\\s.primakov\\appdata\\local\\continuum\\anaconda3\\lib\\site-packages (from prompt_toolkit<2.0.0,>=1.0.4->ipython>=4.0.0; python_version >= \"3.3\"->ipywidgets>=7.4.2->-r requirements.txt (line 11)) (0.1.7)\n",
      "Requirement already satisfied: jinja2 in c:\\users\\s.primakov\\appdata\\local\\continuum\\anaconda3\\lib\\site-packages (from notebook>=4.4.1->widgetsnbextension~=3.5.0->ipywidgets>=7.4.2->-r requirements.txt (line 11)) (2.10)\n",
      "Requirement already satisfied: nbconvert in c:\\users\\s.primakov\\appdata\\local\\continuum\\anaconda3\\lib\\site-packages (from notebook>=4.4.1->widgetsnbextension~=3.5.0->ipywidgets>=7.4.2->-r requirements.txt (line 11)) (5.3.1)\n",
      "Requirement already satisfied: Send2Trash in c:\\users\\s.primakov\\appdata\\local\\continuum\\anaconda3\\lib\\site-packages (from notebook>=4.4.1->widgetsnbextension~=3.5.0->ipywidgets>=7.4.2->-r requirements.txt (line 11)) (1.4.2)\n",
      "Requirement already satisfied: terminado>=0.8.1 in c:\\users\\s.primakov\\appdata\\local\\continuum\\anaconda3\\lib\\site-packages (from notebook>=4.4.1->widgetsnbextension~=3.5.0->ipywidgets>=7.4.2->-r requirements.txt (line 11)) (0.8.1)\n",
      "Requirement already satisfied: pyzmq>=13 in c:\\users\\s.primakov\\appdata\\local\\continuum\\anaconda3\\lib\\site-packages (from jupyter-client->ipykernel>=4.5.1->ipywidgets>=7.4.2->-r requirements.txt (line 11)) (18.0.0)\n",
      "Requirement already satisfied: MarkupSafe>=0.23 in c:\\users\\s.primakov\\appdata\\local\\continuum\\anaconda3\\lib\\site-packages (from jinja2->notebook>=4.4.1->widgetsnbextension~=3.5.0->ipywidgets>=7.4.2->-r requirements.txt (line 11)) (1.0)\n",
      "Requirement already satisfied: mistune>=0.7.4 in c:\\users\\s.primakov\\appdata\\local\\continuum\\anaconda3\\lib\\site-packages (from nbconvert->notebook>=4.4.1->widgetsnbextension~=3.5.0->ipywidgets>=7.4.2->-r requirements.txt (line 11)) (0.8.3)\n",
      "Requirement already satisfied: entrypoints>=0.2.2 in c:\\users\\s.primakov\\appdata\\local\\continuum\\anaconda3\\lib\\site-packages (from nbconvert->notebook>=4.4.1->widgetsnbextension~=3.5.0->ipywidgets>=7.4.2->-r requirements.txt (line 11)) (0.2.3)\n",
      "Requirement already satisfied: bleach in c:\\users\\s.primakov\\appdata\\local\\continuum\\anaconda3\\lib\\site-packages (from nbconvert->notebook>=4.4.1->widgetsnbextension~=3.5.0->ipywidgets>=7.4.2->-r requirements.txt (line 11)) (1.5.0)\n",
      "Requirement already satisfied: pandocfilters>=1.4.1 in c:\\users\\s.primakov\\appdata\\local\\continuum\\anaconda3\\lib\\site-packages (from nbconvert->notebook>=4.4.1->widgetsnbextension~=3.5.0->ipywidgets>=7.4.2->-r requirements.txt (line 11)) (1.4.2)\n",
      "Requirement already satisfied: testpath in c:\\users\\s.primakov\\appdata\\local\\continuum\\anaconda3\\lib\\site-packages (from nbconvert->notebook>=4.4.1->widgetsnbextension~=3.5.0->ipywidgets>=7.4.2->-r requirements.txt (line 11)) (0.3.1)\n",
      "Requirement already satisfied: html5lib!=0.9999,!=0.99999,<0.99999999,>=0.999 in c:\\users\\s.primakov\\appdata\\local\\continuum\\anaconda3\\lib\\site-packages (from bleach->nbconvert->notebook>=4.4.1->widgetsnbextension~=3.5.0->ipywidgets>=7.4.2->-r requirements.txt (line 11)) (0.9999999)\n"
     ]
    }
   ],
   "source": [
    "!pip install -r requirements.txt"
   ]
  },
  {
   "cell_type": "code",
   "execution_count": 2,
   "metadata": {},
   "outputs": [],
   "source": [
    "from tool_box import tool_box\n",
    "import pandas as pd\n",
    "import os\n",
    "from pandas import DataFrame"
   ]
  },
  {
   "cell_type": "markdown",
   "metadata": {},
   "source": [
    "###  DICOM to nrrd conversion"
   ]
  },
  {
   "cell_type": "code",
   "execution_count": 3,
   "metadata": {},
   "outputs": [],
   "source": [
    "##Convert DICOM dataset to the volume (nrrd) format\n",
    "# export_path = ... export path where the converted nrrds will be placed, region_of_interest = ... if you know exact name of\n",
    "# the ROI you want to extract then write it with the ! character infront, eg. region_of_interest = !gtv1 , \n",
    "# if you want to extract all the gtv's in the rtstructure eg. gtv1, gtv2, gtv_whatever then just specify the stem word \n",
    "# eg. region_of_interest = gtv, default value is region_of_interest ='all', where all ROI's in rtstruct will be extracted.\n",
    "        "
   ]
  },
  {
   "cell_type": "code",
   "execution_count": 4,
   "metadata": {},
   "outputs": [],
   "source": [
    "# Set up the parameters for the \n",
    "parameters = {'data_path': r'./data/dcms/', #path_to_your_data\n",
    "              'data_type': 'dcm',\n",
    "              'multi_rts_per_pat': False}   #When False, it will look only for 1 rtstruct in the patient folder, this will\n",
    "                                            #speed up the process, if you have more then 1 rtstruct per patient, set it to True\n",
    "                  \n",
    "export_path =r'./data/'    "
   ]
  },
  {
   "cell_type": "code",
   "execution_count": 5,
   "metadata": {},
   "outputs": [
    {
     "name": "stderr",
     "output_type": "stream",
     "text": [
      "100%|████████████████████████████████████████████████████████████████████████████████████| 3/3 [00:01<00:00,  2.81it/s]\n"
     ]
    }
   ],
   "source": [
    "#Inintialize the dataset \n",
    "Data_MRI = tool_box(**parameters) "
   ]
  },
  {
   "cell_type": "code",
   "execution_count": 6,
   "metadata": {},
   "outputs": [
    {
     "name": "stderr",
     "output_type": "stream",
     "text": [
      "Patients converted: 100%|████████████████████████████████████████████████████████████████| 3/3 [00:08<00:00,  2.79s/it]\n"
     ]
    }
   ],
   "source": [
    "#Run the conversion\n",
    "Data_MRI.convert_to_nrrd(export_path,'gtv')"
   ]
  },
  {
   "cell_type": "code",
   "execution_count": null,
   "metadata": {},
   "outputs": [],
   "source": []
  },
  {
   "cell_type": "code",
   "execution_count": null,
   "metadata": {},
   "outputs": [],
   "source": []
  },
  {
   "cell_type": "markdown",
   "metadata": {},
   "source": [
    "### Quick check of the ROI's in the nrrd dataset"
   ]
  },
  {
   "cell_type": "code",
   "execution_count": 7,
   "metadata": {},
   "outputs": [],
   "source": [
    "#If you want to check your converted images&ROIs or just any volumetric dataset (nrrd/mha), you can use get_jpegs function of\n",
    "#the toolbox, it will generate jpeg images for each slice with the image and overlap of the contour."
   ]
  },
  {
   "cell_type": "code",
   "execution_count": 8,
   "metadata": {},
   "outputs": [
    {
     "name": "stderr",
     "output_type": "stream",
     "text": [
      "100%|██████████████████████████████████████████████████████████████████████████████████| 3/3 [00:00<00:00, 1498.50it/s]\n"
     ]
    }
   ],
   "source": [
    "Data_MRI_nrrd = tool_box(data_path = r'./data/converted_nrrds/',\n",
    "                    data_type='nrrd')"
   ]
  },
  {
   "cell_type": "code",
   "execution_count": 9,
   "metadata": {},
   "outputs": [
    {
     "name": "stderr",
     "output_type": "stream",
     "text": [
      "Patients processed: 100%|████████████████████████████████████████████████████████████████| 5/5 [01:02<00:00, 12.55s/it]\n"
     ]
    }
   ],
   "source": [
    "Data_MRI_nrrd.get_jpegs(r'./data/')"
   ]
  },
  {
   "cell_type": "code",
   "execution_count": null,
   "metadata": {},
   "outputs": [],
   "source": []
  },
  {
   "cell_type": "code",
   "execution_count": 10,
   "metadata": {},
   "outputs": [],
   "source": [
    "#Lets just check one of the patient's right in jupyter"
   ]
  },
  {
   "cell_type": "code",
   "execution_count": 11,
   "metadata": {
    "scrolled": false
   },
   "outputs": [
    {
     "name": "stdout",
     "output_type": "stream",
     "text": [
      "LUNG1-001_20180209_CT_2_GTV-1_mask\n"
     ]
    },
    {
     "data": {
      "application/vnd.jupyter.widget-view+json": {
       "model_id": "9ad57ae122ca4bfbaf5837a878f43976",
       "version_major": 2,
       "version_minor": 0
      },
      "text/plain": [
       "interactive(children=(IntSlider(value=9, description='i', max=19), Output()), _dom_classes=('widget-interact',…"
      ]
     },
     "metadata": {},
     "output_type": "display_data"
    }
   ],
   "source": [
    "%matplotlib inline\n",
    "import matplotlib.pyplot as plt\n",
    "from ipywidgets import interact\n",
    "import numpy as np\n",
    "from PIL import Image\n",
    "\n",
    "def browse_images(images,names):\n",
    "    n = len(images)\n",
    "    def view_image(i):\n",
    "        plt.figure(figsize=(20,10))\n",
    "        plt.imshow(images[i])#, cmap=plt.cm.gray_r, interpolation='nearest')\n",
    "        plt.title('Slice: %s' % names[i])\n",
    "        plt.axis('off')\n",
    "        plt.show()\n",
    "    interact(view_image, i=(0,n-1))\n",
    "    \n",
    "for pat,_ in Data_MRI_nrrd:\n",
    "    _,file_struct = [*os.walk(os.path.join('./data/images_quick_check/',pat))]\n",
    "    root,images = file_struct[0],file_struct[2]\n",
    "    imgs =[np.array(Image.open(os.path.join(root,img))) for img in images]\n",
    "    print(pat)\n",
    "    browse_images(imgs,images)\n",
    "    break\n",
    "\n",
    "\n",
    "    \n"
   ]
  },
  {
   "cell_type": "code",
   "execution_count": null,
   "metadata": {},
   "outputs": [],
   "source": []
  },
  {
   "cell_type": "code",
   "execution_count": null,
   "metadata": {},
   "outputs": [],
   "source": []
  },
  {
   "cell_type": "code",
   "execution_count": null,
   "metadata": {},
   "outputs": [],
   "source": []
  },
  {
   "cell_type": "markdown",
   "metadata": {},
   "source": [
    "### Extract PyRadiomics features"
   ]
  },
  {
   "cell_type": "code",
   "execution_count": 12,
   "metadata": {},
   "outputs": [
    {
     "name": "stderr",
     "output_type": "stream",
     "text": [
      "100%|████████████████████████████████████████████████████████████████████████████████████████████| 3/3 [00:00<?, ?it/s]\n"
     ]
    }
   ],
   "source": [
    "Data_MRI_nrrd = tool_box(data_path = r'./data/converted_nrrds/',\n",
    "                    data_type='nrrd')"
   ]
  },
  {
   "cell_type": "code",
   "execution_count": 13,
   "metadata": {
    "scrolled": true
   },
   "outputs": [
    {
     "name": "stderr",
     "output_type": "stream",
     "text": [
      "Patients processed: 100%|████████████████████████████████████████████████████████████████| 5/5 [01:14<00:00, 14.89s/it]\n"
     ]
    }
   ],
   "source": [
    "#Use your own pyradiomics parameters file, more you can find here: https://github.com/Radiomics/pyradiomics \n",
    "parameters = r\"./example_ct_parameters.yaml\"\n",
    "features = Data_MRI_nrrd.extract_features(parameters,loggenabled=True)"
   ]
  },
  {
   "cell_type": "code",
   "execution_count": 14,
   "metadata": {
    "scrolled": true
   },
   "outputs": [
    {
     "data": {
      "text/html": [
       "<div>\n",
       "<style scoped>\n",
       "    .dataframe tbody tr th:only-of-type {\n",
       "        vertical-align: middle;\n",
       "    }\n",
       "\n",
       "    .dataframe tbody tr th {\n",
       "        vertical-align: top;\n",
       "    }\n",
       "\n",
       "    .dataframe thead th {\n",
       "        text-align: right;\n",
       "    }\n",
       "</style>\n",
       "<table border=\"1\" class=\"dataframe\">\n",
       "  <thead>\n",
       "    <tr style=\"text-align: right;\">\n",
       "      <th></th>\n",
       "      <th>diagnostics_Versions_PyRadiomics</th>\n",
       "      <th>diagnostics_Versions_Numpy</th>\n",
       "      <th>diagnostics_Versions_SimpleITK</th>\n",
       "      <th>diagnostics_Versions_PyWavelet</th>\n",
       "      <th>diagnostics_Versions_Python</th>\n",
       "      <th>diagnostics_Configuration_Settings</th>\n",
       "      <th>diagnostics_Configuration_EnabledImageTypes</th>\n",
       "      <th>diagnostics_Image-original_Hash</th>\n",
       "      <th>diagnostics_Image-original_Dimensionality</th>\n",
       "      <th>diagnostics_Image-original_Spacing</th>\n",
       "      <th>...</th>\n",
       "      <th>wavelet-LLL_gldm_HighGrayLevelEmphasis</th>\n",
       "      <th>wavelet-LLL_gldm_LargeDependenceEmphasis</th>\n",
       "      <th>wavelet-LLL_gldm_LargeDependenceHighGrayLevelEmphasis</th>\n",
       "      <th>wavelet-LLL_gldm_LargeDependenceLowGrayLevelEmphasis</th>\n",
       "      <th>wavelet-LLL_gldm_LowGrayLevelEmphasis</th>\n",
       "      <th>wavelet-LLL_gldm_SmallDependenceEmphasis</th>\n",
       "      <th>wavelet-LLL_gldm_SmallDependenceHighGrayLevelEmphasis</th>\n",
       "      <th>wavelet-LLL_gldm_SmallDependenceLowGrayLevelEmphasis</th>\n",
       "      <th>Patient</th>\n",
       "      <th>ROI</th>\n",
       "    </tr>\n",
       "  </thead>\n",
       "  <tbody>\n",
       "    <tr>\n",
       "      <th>0</th>\n",
       "      <td>v3.0</td>\n",
       "      <td>1.18.3</td>\n",
       "      <td>1.1.0</td>\n",
       "      <td>0.5.2</td>\n",
       "      <td>3.6.4</td>\n",
       "      <td>{'minimumROIDimensions': 2, 'minimumROISize': ...</td>\n",
       "      <td>{'Original': {}, 'LoG': {'sigma': [1.0, 2.0, 3...</td>\n",
       "      <td>01ae3d400f3f6fdacc121a85f52fd9dba8be2253</td>\n",
       "      <td>3D</td>\n",
       "      <td>(0.9765625, 0.9765625, 3.0)</td>\n",
       "      <td>...</td>\n",
       "      <td>14462.536758039314</td>\n",
       "      <td>33.609142408868486</td>\n",
       "      <td>548084.071741353</td>\n",
       "      <td>0.0027591623386472087</td>\n",
       "      <td>0.00013875155227786726</td>\n",
       "      <td>0.2677613556442223</td>\n",
       "      <td>2959.5714944611627</td>\n",
       "      <td>5.8227784555678714e-05</td>\n",
       "      <td>LUNG1-001_20180209_CT_2_GTV-1_mask</td>\n",
       "      <td>GTV-1_mask</td>\n",
       "    </tr>\n",
       "    <tr>\n",
       "      <th>1</th>\n",
       "      <td>v3.0</td>\n",
       "      <td>1.18.3</td>\n",
       "      <td>1.1.0</td>\n",
       "      <td>0.5.2</td>\n",
       "      <td>3.6.4</td>\n",
       "      <td>{'minimumROIDimensions': 2, 'minimumROISize': ...</td>\n",
       "      <td>{'Original': {}, 'LoG': {'sigma': [1.0, 2.0, 3...</td>\n",
       "      <td>5c66c70353901fd238191b88a2584cd8c3f645e5</td>\n",
       "      <td>3D</td>\n",
       "      <td>(0.977, 0.977, 3.0)</td>\n",
       "      <td>...</td>\n",
       "      <td>13208.12549259126</td>\n",
       "      <td>55.600106536368784</td>\n",
       "      <td>832176.2485225748</td>\n",
       "      <td>0.004497426306875555</td>\n",
       "      <td>0.00016233377171621347</td>\n",
       "      <td>0.1889311894310745</td>\n",
       "      <td>1733.8368052732842</td>\n",
       "      <td>5.3429352136211716e-05</td>\n",
       "      <td>LUNG1-002_20180526_CT_1_GTV-1_mask</td>\n",
       "      <td>GTV-1_mask</td>\n",
       "    </tr>\n",
       "    <tr>\n",
       "      <th>2</th>\n",
       "      <td>v3.0</td>\n",
       "      <td>1.18.3</td>\n",
       "      <td>1.1.0</td>\n",
       "      <td>0.5.2</td>\n",
       "      <td>3.6.4</td>\n",
       "      <td>{'minimumROIDimensions': 2, 'minimumROISize': ...</td>\n",
       "      <td>{'Original': {}, 'LoG': {'sigma': [1.0, 2.0, 3...</td>\n",
       "      <td>9a2b123cabcc00593e4255d41cbef78f0cb63630</td>\n",
       "      <td>3D</td>\n",
       "      <td>(0.977, 0.977, 3.0)</td>\n",
       "      <td>...</td>\n",
       "      <td>9142.646956472132</td>\n",
       "      <td>17.90900792971647</td>\n",
       "      <td>209143.44409264647</td>\n",
       "      <td>0.0026732953405101414</td>\n",
       "      <td>0.0003673562141585293</td>\n",
       "      <td>0.4029303292416708</td>\n",
       "      <td>2838.784544208129</td>\n",
       "      <td>0.00019106863067788412</td>\n",
       "      <td>LUNG1-003_20180209_CT_1_GTV-1_mask</td>\n",
       "      <td>GTV-1_mask</td>\n",
       "    </tr>\n",
       "    <tr>\n",
       "      <th>3</th>\n",
       "      <td>v3.0</td>\n",
       "      <td>1.18.3</td>\n",
       "      <td>1.1.0</td>\n",
       "      <td>0.5.2</td>\n",
       "      <td>3.6.4</td>\n",
       "      <td>{'minimumROIDimensions': 2, 'minimumROISize': ...</td>\n",
       "      <td>{'Original': {}, 'LoG': {'sigma': [1.0, 2.0, 3...</td>\n",
       "      <td>9a2b123cabcc00593e4255d41cbef78f0cb63630</td>\n",
       "      <td>3D</td>\n",
       "      <td>(0.977, 0.977, 3.0)</td>\n",
       "      <td>...</td>\n",
       "      <td>1959.5870913486808</td>\n",
       "      <td>57.127036686639336</td>\n",
       "      <td>110707.13145169767</td>\n",
       "      <td>0.030102868247191432</td>\n",
       "      <td>0.0005756760844488658</td>\n",
       "      <td>0.08743995052119405</td>\n",
       "      <td>201.12707131279166</td>\n",
       "      <td>8.353151337486906e-05</td>\n",
       "      <td>LUNG1-003_20180209_CT_1_GTV-2_mask</td>\n",
       "      <td>GTV-2_mask</td>\n",
       "    </tr>\n",
       "    <tr>\n",
       "      <th>4</th>\n",
       "      <td>v3.0</td>\n",
       "      <td>1.18.3</td>\n",
       "      <td>1.1.0</td>\n",
       "      <td>0.5.2</td>\n",
       "      <td>3.6.4</td>\n",
       "      <td>{'minimumROIDimensions': 2, 'minimumROISize': ...</td>\n",
       "      <td>{'Original': {}, 'LoG': {'sigma': [1.0, 2.0, 3...</td>\n",
       "      <td>9a2b123cabcc00593e4255d41cbef78f0cb63630</td>\n",
       "      <td>3D</td>\n",
       "      <td>(0.977, 0.977, 3.0)</td>\n",
       "      <td>...</td>\n",
       "      <td>12522.929147667484</td>\n",
       "      <td>21.910557699052966</td>\n",
       "      <td>283996.4951479013</td>\n",
       "      <td>0.0018352259335414646</td>\n",
       "      <td>0.00020430382406090388</td>\n",
       "      <td>0.1809366847587144</td>\n",
       "      <td>2164.128732620688</td>\n",
       "      <td>0.00013862188235453052</td>\n",
       "      <td>LUNG1-003_20180209_CT_1_GTV-3_mask</td>\n",
       "      <td>GTV-3_mask</td>\n",
       "    </tr>\n",
       "  </tbody>\n",
       "</table>\n",
       "<p>5 rows × 1257 columns</p>\n",
       "</div>"
      ],
      "text/plain": [
       "  diagnostics_Versions_PyRadiomics diagnostics_Versions_Numpy  \\\n",
       "0                             v3.0                     1.18.3   \n",
       "1                             v3.0                     1.18.3   \n",
       "2                             v3.0                     1.18.3   \n",
       "3                             v3.0                     1.18.3   \n",
       "4                             v3.0                     1.18.3   \n",
       "\n",
       "  diagnostics_Versions_SimpleITK diagnostics_Versions_PyWavelet  \\\n",
       "0                          1.1.0                          0.5.2   \n",
       "1                          1.1.0                          0.5.2   \n",
       "2                          1.1.0                          0.5.2   \n",
       "3                          1.1.0                          0.5.2   \n",
       "4                          1.1.0                          0.5.2   \n",
       "\n",
       "  diagnostics_Versions_Python  \\\n",
       "0                       3.6.4   \n",
       "1                       3.6.4   \n",
       "2                       3.6.4   \n",
       "3                       3.6.4   \n",
       "4                       3.6.4   \n",
       "\n",
       "                  diagnostics_Configuration_Settings  \\\n",
       "0  {'minimumROIDimensions': 2, 'minimumROISize': ...   \n",
       "1  {'minimumROIDimensions': 2, 'minimumROISize': ...   \n",
       "2  {'minimumROIDimensions': 2, 'minimumROISize': ...   \n",
       "3  {'minimumROIDimensions': 2, 'minimumROISize': ...   \n",
       "4  {'minimumROIDimensions': 2, 'minimumROISize': ...   \n",
       "\n",
       "         diagnostics_Configuration_EnabledImageTypes  \\\n",
       "0  {'Original': {}, 'LoG': {'sigma': [1.0, 2.0, 3...   \n",
       "1  {'Original': {}, 'LoG': {'sigma': [1.0, 2.0, 3...   \n",
       "2  {'Original': {}, 'LoG': {'sigma': [1.0, 2.0, 3...   \n",
       "3  {'Original': {}, 'LoG': {'sigma': [1.0, 2.0, 3...   \n",
       "4  {'Original': {}, 'LoG': {'sigma': [1.0, 2.0, 3...   \n",
       "\n",
       "            diagnostics_Image-original_Hash  \\\n",
       "0  01ae3d400f3f6fdacc121a85f52fd9dba8be2253   \n",
       "1  5c66c70353901fd238191b88a2584cd8c3f645e5   \n",
       "2  9a2b123cabcc00593e4255d41cbef78f0cb63630   \n",
       "3  9a2b123cabcc00593e4255d41cbef78f0cb63630   \n",
       "4  9a2b123cabcc00593e4255d41cbef78f0cb63630   \n",
       "\n",
       "  diagnostics_Image-original_Dimensionality  \\\n",
       "0                                        3D   \n",
       "1                                        3D   \n",
       "2                                        3D   \n",
       "3                                        3D   \n",
       "4                                        3D   \n",
       "\n",
       "  diagnostics_Image-original_Spacing  ...  \\\n",
       "0        (0.9765625, 0.9765625, 3.0)  ...   \n",
       "1                (0.977, 0.977, 3.0)  ...   \n",
       "2                (0.977, 0.977, 3.0)  ...   \n",
       "3                (0.977, 0.977, 3.0)  ...   \n",
       "4                (0.977, 0.977, 3.0)  ...   \n",
       "\n",
       "  wavelet-LLL_gldm_HighGrayLevelEmphasis  \\\n",
       "0                     14462.536758039314   \n",
       "1                      13208.12549259126   \n",
       "2                      9142.646956472132   \n",
       "3                     1959.5870913486808   \n",
       "4                     12522.929147667484   \n",
       "\n",
       "  wavelet-LLL_gldm_LargeDependenceEmphasis  \\\n",
       "0                       33.609142408868486   \n",
       "1                       55.600106536368784   \n",
       "2                        17.90900792971647   \n",
       "3                       57.127036686639336   \n",
       "4                       21.910557699052966   \n",
       "\n",
       "  wavelet-LLL_gldm_LargeDependenceHighGrayLevelEmphasis  \\\n",
       "0                                   548084.071741353      \n",
       "1                                  832176.2485225748      \n",
       "2                                 209143.44409264647      \n",
       "3                                 110707.13145169767      \n",
       "4                                  283996.4951479013      \n",
       "\n",
       "  wavelet-LLL_gldm_LargeDependenceLowGrayLevelEmphasis  \\\n",
       "0                              0.0027591623386472087     \n",
       "1                               0.004497426306875555     \n",
       "2                              0.0026732953405101414     \n",
       "3                               0.030102868247191432     \n",
       "4                              0.0018352259335414646     \n",
       "\n",
       "  wavelet-LLL_gldm_LowGrayLevelEmphasis  \\\n",
       "0                0.00013875155227786726   \n",
       "1                0.00016233377171621347   \n",
       "2                 0.0003673562141585293   \n",
       "3                 0.0005756760844488658   \n",
       "4                0.00020430382406090388   \n",
       "\n",
       "  wavelet-LLL_gldm_SmallDependenceEmphasis  \\\n",
       "0                       0.2677613556442223   \n",
       "1                       0.1889311894310745   \n",
       "2                       0.4029303292416708   \n",
       "3                      0.08743995052119405   \n",
       "4                       0.1809366847587144   \n",
       "\n",
       "  wavelet-LLL_gldm_SmallDependenceHighGrayLevelEmphasis  \\\n",
       "0                                 2959.5714944611627      \n",
       "1                                 1733.8368052732842      \n",
       "2                                  2838.784544208129      \n",
       "3                                 201.12707131279166      \n",
       "4                                  2164.128732620688      \n",
       "\n",
       "  wavelet-LLL_gldm_SmallDependenceLowGrayLevelEmphasis  \\\n",
       "0                             5.8227784555678714e-05     \n",
       "1                             5.3429352136211716e-05     \n",
       "2                             0.00019106863067788412     \n",
       "3                              8.353151337486906e-05     \n",
       "4                             0.00013862188235453052     \n",
       "\n",
       "                              Patient         ROI  \n",
       "0  LUNG1-001_20180209_CT_2_GTV-1_mask  GTV-1_mask  \n",
       "1  LUNG1-002_20180526_CT_1_GTV-1_mask  GTV-1_mask  \n",
       "2  LUNG1-003_20180209_CT_1_GTV-1_mask  GTV-1_mask  \n",
       "3  LUNG1-003_20180209_CT_1_GTV-2_mask  GTV-2_mask  \n",
       "4  LUNG1-003_20180209_CT_1_GTV-3_mask  GTV-3_mask  \n",
       "\n",
       "[5 rows x 1257 columns]"
      ]
     },
     "execution_count": 14,
     "metadata": {},
     "output_type": "execute_result"
    }
   ],
   "source": [
    "features.head(5)"
   ]
  },
  {
   "cell_type": "code",
   "execution_count": 15,
   "metadata": {},
   "outputs": [],
   "source": [
    "#Erite features to excel file\n",
    "writer = pd.ExcelWriter('features.xlsx')\n",
    "features.to_excel(writer,'Sheet1')\n",
    "writer.save()"
   ]
  },
  {
   "cell_type": "code",
   "execution_count": null,
   "metadata": {},
   "outputs": [],
   "source": []
  }
 ],
 "metadata": {
  "kernelspec": {
   "display_name": "Python 3",
   "language": "python",
   "name": "python3"
  },
  "language_info": {
   "codemirror_mode": {
    "name": "ipython",
    "version": 3
   },
   "file_extension": ".py",
   "mimetype": "text/x-python",
   "name": "python",
   "nbconvert_exporter": "python",
   "pygments_lexer": "ipython3",
   "version": "3.6.4"
  }
 },
 "nbformat": 4,
 "nbformat_minor": 2
}
