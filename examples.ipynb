{
 "cells": [
  {
   "cell_type": "markdown",
   "metadata": {},
   "source": [
    "# Examples of usage:"
   ]
  },
  {
   "cell_type": "code",
   "execution_count": 1,
   "metadata": {},
   "outputs": [],
   "source": [
    "from tool_box import tool_box\n",
    "import pandas as pd\n",
    "import os\n",
    "from pandas import DataFrame"
   ]
  },
  {
   "cell_type": "markdown",
   "metadata": {},
   "source": [
    "###  DICOM to nrrd conversion"
   ]
  },
  {
   "cell_type": "code",
   "execution_count": 3,
   "metadata": {},
   "outputs": [],
   "source": [
    "##Convert DICOM dataset to the volume (nrrd) format\n",
    "# export_path = ... export path where the converted nrrds will be placed, region_of_interest = ... if you know exact name of\n",
    "# the ROI you want to extract then write it with the ! character infront, eg. region_of_interest = !gtv1 , \n",
    "# if you want to extract all the gtv's in the rtstructure eg. gtv1, gtv2, gtv_whatever then just specify the stem word \n",
    "# eg. region_of_interest = gtv, default value is region_of_interest ='all', where all ROI's in rtstruct will be extracted.\n",
    "        "
   ]
  },
  {
   "cell_type": "code",
   "execution_count": 2,
   "metadata": {},
   "outputs": [],
   "source": [
    "# Set up the parameters for the \n",
    "parameters = {'data_path': r'./data/dcms/', #path_to_your_data\n",
    "              'data_type': 'dcm',\n",
    "              'multi_rts_per_pat': False}   #When False, it will look only for 1 rtstruct in the patient folder, this will\n",
    "                                            #speed up the process, if you have more then 1 rtstruct per patient, set it to True\n",
    "                  \n",
    "export_path =r'./data/'    "
   ]
  },
  {
   "cell_type": "code",
   "execution_count": 3,
   "metadata": {},
   "outputs": [
    {
     "name": "stderr",
     "output_type": "stream",
     "text": [
      "100%|████████████████████████████████████████████████████████████████████████████████████| 3/3 [00:02<00:00,  1.34it/s]\n"
     ]
    }
   ],
   "source": [
    "#Inintialize the dataset \n",
    "Data_MRI = tool_box(**parameters) "
   ]
  },
  {
   "cell_type": "code",
   "execution_count": 4,
   "metadata": {},
   "outputs": [
    {
     "name": "stderr",
     "output_type": "stream",
     "text": [
      "Patients converted: 100%|████████████████████████████████████████████████████████████████| 3/3 [00:19<00:00,  6.21s/it]\n"
     ]
    }
   ],
   "source": [
    "#Run the conversion\n",
    "Data_MRI.convert_to_nrrd(export_path,'gtv')"
   ]
  },
  {
   "cell_type": "code",
   "execution_count": null,
   "metadata": {},
   "outputs": [],
   "source": []
  },
  {
   "cell_type": "code",
   "execution_count": null,
   "metadata": {},
   "outputs": [],
   "source": []
  },
  {
   "cell_type": "markdown",
   "metadata": {},
   "source": [
    "### Quick check of the ROI's in the nrrd dataset"
   ]
  },
  {
   "cell_type": "code",
   "execution_count": 7,
   "metadata": {},
   "outputs": [],
   "source": [
    "#If you want to check your converted images&ROIs or just any volumetric dataset (nrrd/mha), you can use get_jpegs function of\n",
    "#the toolbox, it will generate jpeg images for each slice with the image and overlap of the contour."
   ]
  },
  {
   "cell_type": "code",
   "execution_count": 5,
   "metadata": {},
   "outputs": [
    {
     "name": "stderr",
     "output_type": "stream",
     "text": [
      "100%|██████████████████████████████████████████████████████████████████████████████████| 3/3 [00:00<00:00, 1002.06it/s]\n"
     ]
    }
   ],
   "source": [
    "Data_MRI_nrrd = tool_box(data_path = r'./data/converted_nrrds/',\n",
    "                    data_type='nrrd')"
   ]
  },
  {
   "cell_type": "code",
   "execution_count": 6,
   "metadata": {},
   "outputs": [
    {
     "name": "stderr",
     "output_type": "stream",
     "text": [
      "Patients processed: 100%|████████████████████████████████████████████████████████████████| 5/5 [03:15<00:00, 35.83s/it]\n"
     ]
    }
   ],
   "source": [
    "Data_MRI_nrrd.get_jpegs(r'./data/')"
   ]
  },
  {
   "cell_type": "code",
   "execution_count": null,
   "metadata": {},
   "outputs": [],
   "source": []
  },
  {
   "cell_type": "code",
   "execution_count": 10,
   "metadata": {},
   "outputs": [],
   "source": [
    "#Lets just check one of the patient's right in jupyter"
   ]
  },
  {
   "cell_type": "code",
   "execution_count": 7,
   "metadata": {
    "scrolled": false
   },
   "outputs": [
    {
     "name": "stdout",
     "output_type": "stream",
     "text": [
      "LUNG1-001_20180209_CT_2_GTV-1_mask\n"
     ]
    },
    {
     "data": {
      "application/vnd.jupyter.widget-view+json": {
       "model_id": "acb0756c64254b2ab23d140a66287450",
       "version_major": 2,
       "version_minor": 0
      },
      "text/plain": [
       "interactive(children=(IntSlider(value=9, description='i', max=19), Output()), _dom_classes=('widget-interact',…"
      ]
     },
     "metadata": {},
     "output_type": "display_data"
    }
   ],
   "source": [
    "%matplotlib inline\n",
    "import matplotlib.pyplot as plt\n",
    "from ipywidgets import interact\n",
    "import numpy as np\n",
    "from PIL import Image\n",
    "\n",
    "def browse_images(images,names):\n",
    "    n = len(images)\n",
    "    def view_image(i):\n",
    "        plt.figure(figsize=(20,10))\n",
    "        plt.imshow(images[i])#, cmap=plt.cm.gray_r, interpolation='nearest')\n",
    "        plt.title('Slice: %s' % names[i])\n",
    "        plt.axis('off')\n",
    "        plt.show()\n",
    "    interact(view_image, i=(0,n-1))\n",
    "    \n",
    "for pat,_ in Data_MRI_nrrd:\n",
    "    _,file_struct = [*os.walk(os.path.join('./data/images_quick_check/',pat))]\n",
    "    root,images = file_struct[0],file_struct[2]\n",
    "    imgs =[np.array(Image.open(os.path.join(root,img))) for img in images]\n",
    "    print(pat)\n",
    "    browse_images(imgs,images)\n",
    "    break\n",
    "\n",
    "\n",
    "    \n"
   ]
  },
  {
   "cell_type": "code",
   "execution_count": null,
   "metadata": {},
   "outputs": [],
   "source": []
  },
  {
   "cell_type": "code",
   "execution_count": null,
   "metadata": {},
   "outputs": [],
   "source": []
  },
  {
   "cell_type": "markdown",
   "metadata": {},
   "source": [
    "### Extract PyRadiomics features"
   ]
  },
  {
   "cell_type": "code",
   "execution_count": 8,
   "metadata": {},
   "outputs": [
    {
     "name": "stderr",
     "output_type": "stream",
     "text": [
      "100%|██████████████████████████████████████████████████████████████████████████████████| 3/3 [00:00<00:00, 1002.86it/s]\n"
     ]
    }
   ],
   "source": [
    "Data_MRI_nrrd = tool_box(data_path = r'./data/converted_nrrds/',\n",
    "                    data_type='nrrd')"
   ]
  },
  {
   "cell_type": "code",
   "execution_count": 9,
   "metadata": {
    "scrolled": true
   },
   "outputs": [
    {
     "name": "stderr",
     "output_type": "stream",
     "text": [
      "Patients processed: 100%|████████████████████████████████████████████████████████████████| 5/5 [03:26<00:00, 34.61s/it]\n"
     ]
    }
   ],
   "source": [
    "#Use your own pyradiomics parameters file, more you can find here: https://github.com/Radiomics/pyradiomics \n",
    "parameters = r\"./example_ct_parameters.yaml\"\n",
    "features = Data_MRI_nrrd.extract_features(parameters,loggenabled=True)"
   ]
  },
  {
   "cell_type": "code",
   "execution_count": 10,
   "metadata": {
    "scrolled": true
   },
   "outputs": [
    {
     "data": {
      "text/html": [
       "<div>\n",
       "<style scoped>\n",
       "    .dataframe tbody tr th:only-of-type {\n",
       "        vertical-align: middle;\n",
       "    }\n",
       "\n",
       "    .dataframe tbody tr th {\n",
       "        vertical-align: top;\n",
       "    }\n",
       "\n",
       "    .dataframe thead th {\n",
       "        text-align: right;\n",
       "    }\n",
       "</style>\n",
       "<table border=\"1\" class=\"dataframe\">\n",
       "  <thead>\n",
       "    <tr style=\"text-align: right;\">\n",
       "      <th></th>\n",
       "      <th>diagnostics_Versions_PyRadiomics</th>\n",
       "      <th>diagnostics_Versions_Numpy</th>\n",
       "      <th>diagnostics_Versions_SimpleITK</th>\n",
       "      <th>diagnostics_Versions_PyWavelet</th>\n",
       "      <th>diagnostics_Versions_Python</th>\n",
       "      <th>diagnostics_Configuration_Settings</th>\n",
       "      <th>diagnostics_Configuration_EnabledImageTypes</th>\n",
       "      <th>diagnostics_Image-original_Hash</th>\n",
       "      <th>diagnostics_Image-original_Dimensionality</th>\n",
       "      <th>diagnostics_Image-original_Spacing</th>\n",
       "      <th>...</th>\n",
       "      <th>wavelet-LLL_gldm_HighGrayLevelEmphasis</th>\n",
       "      <th>wavelet-LLL_gldm_LargeDependenceEmphasis</th>\n",
       "      <th>wavelet-LLL_gldm_LargeDependenceHighGrayLevelEmphasis</th>\n",
       "      <th>wavelet-LLL_gldm_LargeDependenceLowGrayLevelEmphasis</th>\n",
       "      <th>wavelet-LLL_gldm_LowGrayLevelEmphasis</th>\n",
       "      <th>wavelet-LLL_gldm_SmallDependenceEmphasis</th>\n",
       "      <th>wavelet-LLL_gldm_SmallDependenceHighGrayLevelEmphasis</th>\n",
       "      <th>wavelet-LLL_gldm_SmallDependenceLowGrayLevelEmphasis</th>\n",
       "      <th>Patient</th>\n",
       "      <th>ROI</th>\n",
       "    </tr>\n",
       "  </thead>\n",
       "  <tbody>\n",
       "    <tr>\n",
       "      <th>0</th>\n",
       "      <td>v3.0</td>\n",
       "      <td>1.18.4</td>\n",
       "      <td>1.2.0</td>\n",
       "      <td>1.0.0</td>\n",
       "      <td>3.7.1</td>\n",
       "      <td>{'minimumROIDimensions': 2, 'minimumROISize': ...</td>\n",
       "      <td>{'Original': {}, 'LoG': {'sigma': [1.0, 2.0, 3...</td>\n",
       "      <td>01ae3d400f3f6fdacc121a85f52fd9dba8be2253</td>\n",
       "      <td>3D</td>\n",
       "      <td>(0.9765625, 0.9765625, 3.0)</td>\n",
       "      <td>...</td>\n",
       "      <td>14462.536758039314</td>\n",
       "      <td>33.609142408868486</td>\n",
       "      <td>548084.071741353</td>\n",
       "      <td>0.0027591623386472087</td>\n",
       "      <td>0.00013875155227786726</td>\n",
       "      <td>0.2677613556442223</td>\n",
       "      <td>2959.5714944611627</td>\n",
       "      <td>5.8227784555678714e-05</td>\n",
       "      <td>LUNG1-001_20180209_CT_2_GTV-1_mask</td>\n",
       "      <td>GTV-1_mask</td>\n",
       "    </tr>\n",
       "    <tr>\n",
       "      <th>1</th>\n",
       "      <td>v3.0</td>\n",
       "      <td>1.18.4</td>\n",
       "      <td>1.2.0</td>\n",
       "      <td>1.0.0</td>\n",
       "      <td>3.7.1</td>\n",
       "      <td>{'minimumROIDimensions': 2, 'minimumROISize': ...</td>\n",
       "      <td>{'Original': {}, 'LoG': {'sigma': [1.0, 2.0, 3...</td>\n",
       "      <td>5c66c70353901fd238191b88a2584cd8c3f645e5</td>\n",
       "      <td>3D</td>\n",
       "      <td>(0.977, 0.977, 3.0)</td>\n",
       "      <td>...</td>\n",
       "      <td>13208.12549259126</td>\n",
       "      <td>55.600106536368784</td>\n",
       "      <td>832176.2485225748</td>\n",
       "      <td>0.004497426306875555</td>\n",
       "      <td>0.00016233377171621347</td>\n",
       "      <td>0.1889311894310745</td>\n",
       "      <td>1733.8368052732842</td>\n",
       "      <td>5.3429352136211716e-05</td>\n",
       "      <td>LUNG1-002_20180526_CT_1_GTV-1_mask</td>\n",
       "      <td>GTV-1_mask</td>\n",
       "    </tr>\n",
       "    <tr>\n",
       "      <th>2</th>\n",
       "      <td>v3.0</td>\n",
       "      <td>1.18.4</td>\n",
       "      <td>1.2.0</td>\n",
       "      <td>1.0.0</td>\n",
       "      <td>3.7.1</td>\n",
       "      <td>{'minimumROIDimensions': 2, 'minimumROISize': ...</td>\n",
       "      <td>{'Original': {}, 'LoG': {'sigma': [1.0, 2.0, 3...</td>\n",
       "      <td>9a2b123cabcc00593e4255d41cbef78f0cb63630</td>\n",
       "      <td>3D</td>\n",
       "      <td>(0.977, 0.977, 3.0)</td>\n",
       "      <td>...</td>\n",
       "      <td>9142.646956472132</td>\n",
       "      <td>17.90900792971647</td>\n",
       "      <td>209143.44409264647</td>\n",
       "      <td>0.0026732953405101414</td>\n",
       "      <td>0.0003673562141585293</td>\n",
       "      <td>0.4029303292416708</td>\n",
       "      <td>2838.784544208129</td>\n",
       "      <td>0.00019106863067788412</td>\n",
       "      <td>LUNG1-003_20180209_CT_1_GTV-1_mask</td>\n",
       "      <td>GTV-1_mask</td>\n",
       "    </tr>\n",
       "    <tr>\n",
       "      <th>3</th>\n",
       "      <td>v3.0</td>\n",
       "      <td>1.18.4</td>\n",
       "      <td>1.2.0</td>\n",
       "      <td>1.0.0</td>\n",
       "      <td>3.7.1</td>\n",
       "      <td>{'minimumROIDimensions': 2, 'minimumROISize': ...</td>\n",
       "      <td>{'Original': {}, 'LoG': {'sigma': [1.0, 2.0, 3...</td>\n",
       "      <td>9a2b123cabcc00593e4255d41cbef78f0cb63630</td>\n",
       "      <td>3D</td>\n",
       "      <td>(0.977, 0.977, 3.0)</td>\n",
       "      <td>...</td>\n",
       "      <td>1959.5870913486808</td>\n",
       "      <td>57.127036686639336</td>\n",
       "      <td>110707.13145169767</td>\n",
       "      <td>0.030102868247191432</td>\n",
       "      <td>0.0005756760844488658</td>\n",
       "      <td>0.08743995052119405</td>\n",
       "      <td>201.12707131279166</td>\n",
       "      <td>8.353151337486906e-05</td>\n",
       "      <td>LUNG1-003_20180209_CT_1_GTV-2_mask</td>\n",
       "      <td>GTV-2_mask</td>\n",
       "    </tr>\n",
       "    <tr>\n",
       "      <th>4</th>\n",
       "      <td>v3.0</td>\n",
       "      <td>1.18.4</td>\n",
       "      <td>1.2.0</td>\n",
       "      <td>1.0.0</td>\n",
       "      <td>3.7.1</td>\n",
       "      <td>{'minimumROIDimensions': 2, 'minimumROISize': ...</td>\n",
       "      <td>{'Original': {}, 'LoG': {'sigma': [1.0, 2.0, 3...</td>\n",
       "      <td>9a2b123cabcc00593e4255d41cbef78f0cb63630</td>\n",
       "      <td>3D</td>\n",
       "      <td>(0.977, 0.977, 3.0)</td>\n",
       "      <td>...</td>\n",
       "      <td>12522.929147667484</td>\n",
       "      <td>21.910557699052966</td>\n",
       "      <td>283996.4951479013</td>\n",
       "      <td>0.0018352259335414646</td>\n",
       "      <td>0.00020430382406090388</td>\n",
       "      <td>0.1809366847587144</td>\n",
       "      <td>2164.128732620688</td>\n",
       "      <td>0.00013862188235453052</td>\n",
       "      <td>LUNG1-003_20180209_CT_1_GTV-3_mask</td>\n",
       "      <td>GTV-3_mask</td>\n",
       "    </tr>\n",
       "  </tbody>\n",
       "</table>\n",
       "<p>5 rows × 1257 columns</p>\n",
       "</div>"
      ],
      "text/plain": [
       "  diagnostics_Versions_PyRadiomics diagnostics_Versions_Numpy  \\\n",
       "0                             v3.0                     1.18.4   \n",
       "1                             v3.0                     1.18.4   \n",
       "2                             v3.0                     1.18.4   \n",
       "3                             v3.0                     1.18.4   \n",
       "4                             v3.0                     1.18.4   \n",
       "\n",
       "  diagnostics_Versions_SimpleITK diagnostics_Versions_PyWavelet  \\\n",
       "0                          1.2.0                          1.0.0   \n",
       "1                          1.2.0                          1.0.0   \n",
       "2                          1.2.0                          1.0.0   \n",
       "3                          1.2.0                          1.0.0   \n",
       "4                          1.2.0                          1.0.0   \n",
       "\n",
       "  diagnostics_Versions_Python  \\\n",
       "0                       3.7.1   \n",
       "1                       3.7.1   \n",
       "2                       3.7.1   \n",
       "3                       3.7.1   \n",
       "4                       3.7.1   \n",
       "\n",
       "                  diagnostics_Configuration_Settings  \\\n",
       "0  {'minimumROIDimensions': 2, 'minimumROISize': ...   \n",
       "1  {'minimumROIDimensions': 2, 'minimumROISize': ...   \n",
       "2  {'minimumROIDimensions': 2, 'minimumROISize': ...   \n",
       "3  {'minimumROIDimensions': 2, 'minimumROISize': ...   \n",
       "4  {'minimumROIDimensions': 2, 'minimumROISize': ...   \n",
       "\n",
       "         diagnostics_Configuration_EnabledImageTypes  \\\n",
       "0  {'Original': {}, 'LoG': {'sigma': [1.0, 2.0, 3...   \n",
       "1  {'Original': {}, 'LoG': {'sigma': [1.0, 2.0, 3...   \n",
       "2  {'Original': {}, 'LoG': {'sigma': [1.0, 2.0, 3...   \n",
       "3  {'Original': {}, 'LoG': {'sigma': [1.0, 2.0, 3...   \n",
       "4  {'Original': {}, 'LoG': {'sigma': [1.0, 2.0, 3...   \n",
       "\n",
       "            diagnostics_Image-original_Hash  \\\n",
       "0  01ae3d400f3f6fdacc121a85f52fd9dba8be2253   \n",
       "1  5c66c70353901fd238191b88a2584cd8c3f645e5   \n",
       "2  9a2b123cabcc00593e4255d41cbef78f0cb63630   \n",
       "3  9a2b123cabcc00593e4255d41cbef78f0cb63630   \n",
       "4  9a2b123cabcc00593e4255d41cbef78f0cb63630   \n",
       "\n",
       "  diagnostics_Image-original_Dimensionality  \\\n",
       "0                                        3D   \n",
       "1                                        3D   \n",
       "2                                        3D   \n",
       "3                                        3D   \n",
       "4                                        3D   \n",
       "\n",
       "  diagnostics_Image-original_Spacing  ...  \\\n",
       "0        (0.9765625, 0.9765625, 3.0)  ...   \n",
       "1                (0.977, 0.977, 3.0)  ...   \n",
       "2                (0.977, 0.977, 3.0)  ...   \n",
       "3                (0.977, 0.977, 3.0)  ...   \n",
       "4                (0.977, 0.977, 3.0)  ...   \n",
       "\n",
       "  wavelet-LLL_gldm_HighGrayLevelEmphasis  \\\n",
       "0                     14462.536758039314   \n",
       "1                      13208.12549259126   \n",
       "2                      9142.646956472132   \n",
       "3                     1959.5870913486808   \n",
       "4                     12522.929147667484   \n",
       "\n",
       "  wavelet-LLL_gldm_LargeDependenceEmphasis  \\\n",
       "0                       33.609142408868486   \n",
       "1                       55.600106536368784   \n",
       "2                        17.90900792971647   \n",
       "3                       57.127036686639336   \n",
       "4                       21.910557699052966   \n",
       "\n",
       "  wavelet-LLL_gldm_LargeDependenceHighGrayLevelEmphasis  \\\n",
       "0                                   548084.071741353      \n",
       "1                                  832176.2485225748      \n",
       "2                                 209143.44409264647      \n",
       "3                                 110707.13145169767      \n",
       "4                                  283996.4951479013      \n",
       "\n",
       "  wavelet-LLL_gldm_LargeDependenceLowGrayLevelEmphasis  \\\n",
       "0                              0.0027591623386472087     \n",
       "1                               0.004497426306875555     \n",
       "2                              0.0026732953405101414     \n",
       "3                               0.030102868247191432     \n",
       "4                              0.0018352259335414646     \n",
       "\n",
       "  wavelet-LLL_gldm_LowGrayLevelEmphasis  \\\n",
       "0                0.00013875155227786726   \n",
       "1                0.00016233377171621347   \n",
       "2                 0.0003673562141585293   \n",
       "3                 0.0005756760844488658   \n",
       "4                0.00020430382406090388   \n",
       "\n",
       "  wavelet-LLL_gldm_SmallDependenceEmphasis  \\\n",
       "0                       0.2677613556442223   \n",
       "1                       0.1889311894310745   \n",
       "2                       0.4029303292416708   \n",
       "3                      0.08743995052119405   \n",
       "4                       0.1809366847587144   \n",
       "\n",
       "  wavelet-LLL_gldm_SmallDependenceHighGrayLevelEmphasis  \\\n",
       "0                                 2959.5714944611627      \n",
       "1                                 1733.8368052732842      \n",
       "2                                  2838.784544208129      \n",
       "3                                 201.12707131279166      \n",
       "4                                  2164.128732620688      \n",
       "\n",
       "  wavelet-LLL_gldm_SmallDependenceLowGrayLevelEmphasis  \\\n",
       "0                             5.8227784555678714e-05     \n",
       "1                             5.3429352136211716e-05     \n",
       "2                             0.00019106863067788412     \n",
       "3                              8.353151337486906e-05     \n",
       "4                             0.00013862188235453052     \n",
       "\n",
       "                              Patient         ROI  \n",
       "0  LUNG1-001_20180209_CT_2_GTV-1_mask  GTV-1_mask  \n",
       "1  LUNG1-002_20180526_CT_1_GTV-1_mask  GTV-1_mask  \n",
       "2  LUNG1-003_20180209_CT_1_GTV-1_mask  GTV-1_mask  \n",
       "3  LUNG1-003_20180209_CT_1_GTV-2_mask  GTV-2_mask  \n",
       "4  LUNG1-003_20180209_CT_1_GTV-3_mask  GTV-3_mask  \n",
       "\n",
       "[5 rows x 1257 columns]"
      ]
     },
     "execution_count": 10,
     "metadata": {},
     "output_type": "execute_result"
    }
   ],
   "source": [
    "features.head(5)"
   ]
  },
  {
   "cell_type": "code",
   "execution_count": 12,
   "metadata": {},
   "outputs": [],
   "source": [
    "#Write features to excel file\n",
    "writer = pd.ExcelWriter('features.xlsx')\n",
    "features.to_excel(writer,'Sheet1')\n",
    "writer.save()"
   ]
  },
  {
   "cell_type": "code",
   "execution_count": null,
   "metadata": {},
   "outputs": [],
   "source": []
  },
  {
   "cell_type": "code",
   "execution_count": null,
   "metadata": {},
   "outputs": [],
   "source": []
  },
  {
   "cell_type": "markdown",
   "metadata": {},
   "source": [
    "### Initialize radiomics feature set"
   ]
  },
  {
   "cell_type": "code",
   "execution_count": 2,
   "metadata": {},
   "outputs": [],
   "source": [
    "from features_set import features_set"
   ]
  },
  {
   "cell_type": "code",
   "execution_count": 10,
   "metadata": {},
   "outputs": [],
   "source": [
    "# set up the parameters\n",
    "parameters = {\n",
    "    'feature_path': 'features.xlsx', # path to csv/xls file with features\n",
    "    'patient_column': 'Patient', # name of column with patient id\n",
    "}"
   ]
  },
  {
   "cell_type": "code",
   "execution_count": 11,
   "metadata": {},
   "outputs": [
    {
     "name": "stdout",
     "output_type": "stream",
     "text": [
      "No outcome column specified\n"
     ]
    }
   ],
   "source": [
    "# initialize feature set\n",
    "fs = features_set(**parameters)"
   ]
  },
  {
   "cell_type": "code",
   "execution_count": 12,
   "metadata": {},
   "outputs": [
    {
     "data": {
      "text/plain": [
       "[]"
      ]
     },
     "execution_count": 12,
     "metadata": {},
     "output_type": "execute_result"
    }
   ],
   "source": [
    "# checking class labels\n",
    "# there is no outcome column specified for 'features.xlsx' → no class labels\n",
    "fs._class_label"
   ]
  },
  {
   "cell_type": "code",
   "execution_count": 6,
   "metadata": {},
   "outputs": [
    {
     "data": {
      "text/plain": [
       "['LUNG1-001_20180209_CT_2_GTV-1_mask',\n",
       " 'LUNG1-002_20180526_CT_1_GTV-1_mask',\n",
       " 'LUNG1-003_20180209_CT_1_GTV-1_mask',\n",
       " 'LUNG1-003_20180209_CT_1_GTV-2_mask',\n",
       " 'LUNG1-003_20180209_CT_1_GTV-3_mask']"
      ]
     },
     "execution_count": 6,
     "metadata": {},
     "output_type": "execute_result"
    }
   ],
   "source": [
    "# checking patients' names\n",
    "fs._patient_name"
   ]
  },
  {
   "cell_type": "code",
   "execution_count": 13,
   "metadata": {},
   "outputs": [
    {
     "data": {
      "text/html": [
       "<div>\n",
       "<style scoped>\n",
       "    .dataframe tbody tr th:only-of-type {\n",
       "        vertical-align: middle;\n",
       "    }\n",
       "\n",
       "    .dataframe tbody tr th {\n",
       "        vertical-align: top;\n",
       "    }\n",
       "\n",
       "    .dataframe thead th {\n",
       "        text-align: right;\n",
       "    }\n",
       "</style>\n",
       "<table border=\"1\" class=\"dataframe\">\n",
       "  <thead>\n",
       "    <tr style=\"text-align: right;\">\n",
       "      <th></th>\n",
       "      <th>original_shape_Elongation</th>\n",
       "      <th>original_shape_Flatness</th>\n",
       "      <th>original_shape_LeastAxisLength</th>\n",
       "      <th>original_shape_MajorAxisLength</th>\n",
       "      <th>original_shape_Maximum2DDiameterColumn</th>\n",
       "      <th>original_shape_Maximum2DDiameterRow</th>\n",
       "      <th>original_shape_Maximum2DDiameterSlice</th>\n",
       "      <th>original_shape_Maximum3DDiameter</th>\n",
       "      <th>original_shape_MeshVolume</th>\n",
       "      <th>original_shape_MinorAxisLength</th>\n",
       "      <th>...</th>\n",
       "      <th>wavelet-LLL_gldm_HighGrayLevelEmphasis</th>\n",
       "      <th>wavelet-LLL_gldm_LargeDependenceEmphasis</th>\n",
       "      <th>wavelet-LLL_gldm_LargeDependenceHighGrayLevelEmphasis</th>\n",
       "      <th>wavelet-LLL_gldm_LargeDependenceLowGrayLevelEmphasis</th>\n",
       "      <th>wavelet-LLL_gldm_LowGrayLevelEmphasis</th>\n",
       "      <th>wavelet-LLL_gldm_SmallDependenceEmphasis</th>\n",
       "      <th>wavelet-LLL_gldm_SmallDependenceHighGrayLevelEmphasis</th>\n",
       "      <th>wavelet-LLL_gldm_SmallDependenceLowGrayLevelEmphasis</th>\n",
       "      <th>ROI</th>\n",
       "      <th>Outcome</th>\n",
       "    </tr>\n",
       "    <tr>\n",
       "      <th>Patient</th>\n",
       "      <th></th>\n",
       "      <th></th>\n",
       "      <th></th>\n",
       "      <th></th>\n",
       "      <th></th>\n",
       "      <th></th>\n",
       "      <th></th>\n",
       "      <th></th>\n",
       "      <th></th>\n",
       "      <th></th>\n",
       "      <th></th>\n",
       "      <th></th>\n",
       "      <th></th>\n",
       "      <th></th>\n",
       "      <th></th>\n",
       "      <th></th>\n",
       "      <th></th>\n",
       "      <th></th>\n",
       "      <th></th>\n",
       "      <th></th>\n",
       "      <th></th>\n",
       "    </tr>\n",
       "  </thead>\n",
       "  <tbody>\n",
       "    <tr>\n",
       "      <th>LUNG1-001_20180209_CT_2_GTV-1_mask</th>\n",
       "      <td>0.732658</td>\n",
       "      <td>0.548834</td>\n",
       "      <td>46.151744</td>\n",
       "      <td>84.090588</td>\n",
       "      <td>95.336247</td>\n",
       "      <td>83.186537</td>\n",
       "      <td>95.425364</td>\n",
       "      <td>96.104110</td>\n",
       "      <td>155379.500000</td>\n",
       "      <td>61.609664</td>\n",
       "      <td>...</td>\n",
       "      <td>14462.536758</td>\n",
       "      <td>33.609142</td>\n",
       "      <td>548084.071741</td>\n",
       "      <td>0.002759</td>\n",
       "      <td>0.000139</td>\n",
       "      <td>0.267761</td>\n",
       "      <td>2959.571494</td>\n",
       "      <td>0.000058</td>\n",
       "      <td>GTV-1_mask</td>\n",
       "      <td>0</td>\n",
       "    </tr>\n",
       "    <tr>\n",
       "      <th>LUNG1-002_20180526_CT_1_GTV-1_mask</th>\n",
       "      <td>0.878035</td>\n",
       "      <td>0.755488</td>\n",
       "      <td>70.110114</td>\n",
       "      <td>92.801132</td>\n",
       "      <td>116.931604</td>\n",
       "      <td>101.833197</td>\n",
       "      <td>104.316825</td>\n",
       "      <td>125.674182</td>\n",
       "      <td>358446.791667</td>\n",
       "      <td>81.482668</td>\n",
       "      <td>...</td>\n",
       "      <td>13208.125493</td>\n",
       "      <td>55.600107</td>\n",
       "      <td>832176.248523</td>\n",
       "      <td>0.004497</td>\n",
       "      <td>0.000162</td>\n",
       "      <td>0.188931</td>\n",
       "      <td>1733.836805</td>\n",
       "      <td>0.000053</td>\n",
       "      <td>GTV-1_mask</td>\n",
       "      <td>0</td>\n",
       "    </tr>\n",
       "    <tr>\n",
       "      <th>LUNG1-003_20180209_CT_1_GTV-1_mask</th>\n",
       "      <td>0.544631</td>\n",
       "      <td>0.356597</td>\n",
       "      <td>25.559022</td>\n",
       "      <td>71.674815</td>\n",
       "      <td>56.639209</td>\n",
       "      <td>83.528438</td>\n",
       "      <td>62.265560</td>\n",
       "      <td>84.011904</td>\n",
       "      <td>34987.000000</td>\n",
       "      <td>39.036358</td>\n",
       "      <td>...</td>\n",
       "      <td>9142.646956</td>\n",
       "      <td>17.909008</td>\n",
       "      <td>209143.444093</td>\n",
       "      <td>0.002673</td>\n",
       "      <td>0.000367</td>\n",
       "      <td>0.402930</td>\n",
       "      <td>2838.784544</td>\n",
       "      <td>0.000191</td>\n",
       "      <td>GTV-1_mask</td>\n",
       "      <td>1</td>\n",
       "    </tr>\n",
       "    <tr>\n",
       "      <th>LUNG1-003_20180209_CT_1_GTV-2_mask</th>\n",
       "      <td>0.803906</td>\n",
       "      <td>0.745582</td>\n",
       "      <td>33.756505</td>\n",
       "      <td>45.275381</td>\n",
       "      <td>46.173586</td>\n",
       "      <td>52.801515</td>\n",
       "      <td>52.201533</td>\n",
       "      <td>54.626001</td>\n",
       "      <td>37989.625000</td>\n",
       "      <td>36.397153</td>\n",
       "      <td>...</td>\n",
       "      <td>1959.587091</td>\n",
       "      <td>57.127037</td>\n",
       "      <td>110707.131452</td>\n",
       "      <td>0.030103</td>\n",
       "      <td>0.000576</td>\n",
       "      <td>0.087440</td>\n",
       "      <td>201.127071</td>\n",
       "      <td>0.000084</td>\n",
       "      <td>GTV-2_mask</td>\n",
       "      <td>1</td>\n",
       "    </tr>\n",
       "    <tr>\n",
       "      <th>LUNG1-003_20180209_CT_1_GTV-3_mask</th>\n",
       "      <td>0.377035</td>\n",
       "      <td>0.264280</td>\n",
       "      <td>17.982429</td>\n",
       "      <td>68.043203</td>\n",
       "      <td>52.924474</td>\n",
       "      <td>34.828150</td>\n",
       "      <td>52.952809</td>\n",
       "      <td>54.872580</td>\n",
       "      <td>8490.875000</td>\n",
       "      <td>25.654681</td>\n",
       "      <td>...</td>\n",
       "      <td>12522.929148</td>\n",
       "      <td>21.910558</td>\n",
       "      <td>283996.495148</td>\n",
       "      <td>0.001835</td>\n",
       "      <td>0.000204</td>\n",
       "      <td>0.180937</td>\n",
       "      <td>2164.128733</td>\n",
       "      <td>0.000139</td>\n",
       "      <td>GTV-3_mask</td>\n",
       "      <td>1</td>\n",
       "    </tr>\n",
       "  </tbody>\n",
       "</table>\n",
       "<p>5 rows × 1220 columns</p>\n",
       "</div>"
      ],
      "text/plain": [
       "                                    original_shape_Elongation  \\\n",
       "Patient                                                         \n",
       "LUNG1-001_20180209_CT_2_GTV-1_mask                   0.732658   \n",
       "LUNG1-002_20180526_CT_1_GTV-1_mask                   0.878035   \n",
       "LUNG1-003_20180209_CT_1_GTV-1_mask                   0.544631   \n",
       "LUNG1-003_20180209_CT_1_GTV-2_mask                   0.803906   \n",
       "LUNG1-003_20180209_CT_1_GTV-3_mask                   0.377035   \n",
       "\n",
       "                                    original_shape_Flatness  \\\n",
       "Patient                                                       \n",
       "LUNG1-001_20180209_CT_2_GTV-1_mask                 0.548834   \n",
       "LUNG1-002_20180526_CT_1_GTV-1_mask                 0.755488   \n",
       "LUNG1-003_20180209_CT_1_GTV-1_mask                 0.356597   \n",
       "LUNG1-003_20180209_CT_1_GTV-2_mask                 0.745582   \n",
       "LUNG1-003_20180209_CT_1_GTV-3_mask                 0.264280   \n",
       "\n",
       "                                    original_shape_LeastAxisLength  \\\n",
       "Patient                                                              \n",
       "LUNG1-001_20180209_CT_2_GTV-1_mask                       46.151744   \n",
       "LUNG1-002_20180526_CT_1_GTV-1_mask                       70.110114   \n",
       "LUNG1-003_20180209_CT_1_GTV-1_mask                       25.559022   \n",
       "LUNG1-003_20180209_CT_1_GTV-2_mask                       33.756505   \n",
       "LUNG1-003_20180209_CT_1_GTV-3_mask                       17.982429   \n",
       "\n",
       "                                    original_shape_MajorAxisLength  \\\n",
       "Patient                                                              \n",
       "LUNG1-001_20180209_CT_2_GTV-1_mask                       84.090588   \n",
       "LUNG1-002_20180526_CT_1_GTV-1_mask                       92.801132   \n",
       "LUNG1-003_20180209_CT_1_GTV-1_mask                       71.674815   \n",
       "LUNG1-003_20180209_CT_1_GTV-2_mask                       45.275381   \n",
       "LUNG1-003_20180209_CT_1_GTV-3_mask                       68.043203   \n",
       "\n",
       "                                    original_shape_Maximum2DDiameterColumn  \\\n",
       "Patient                                                                      \n",
       "LUNG1-001_20180209_CT_2_GTV-1_mask                               95.336247   \n",
       "LUNG1-002_20180526_CT_1_GTV-1_mask                              116.931604   \n",
       "LUNG1-003_20180209_CT_1_GTV-1_mask                               56.639209   \n",
       "LUNG1-003_20180209_CT_1_GTV-2_mask                               46.173586   \n",
       "LUNG1-003_20180209_CT_1_GTV-3_mask                               52.924474   \n",
       "\n",
       "                                    original_shape_Maximum2DDiameterRow  \\\n",
       "Patient                                                                   \n",
       "LUNG1-001_20180209_CT_2_GTV-1_mask                            83.186537   \n",
       "LUNG1-002_20180526_CT_1_GTV-1_mask                           101.833197   \n",
       "LUNG1-003_20180209_CT_1_GTV-1_mask                            83.528438   \n",
       "LUNG1-003_20180209_CT_1_GTV-2_mask                            52.801515   \n",
       "LUNG1-003_20180209_CT_1_GTV-3_mask                            34.828150   \n",
       "\n",
       "                                    original_shape_Maximum2DDiameterSlice  \\\n",
       "Patient                                                                     \n",
       "LUNG1-001_20180209_CT_2_GTV-1_mask                              95.425364   \n",
       "LUNG1-002_20180526_CT_1_GTV-1_mask                             104.316825   \n",
       "LUNG1-003_20180209_CT_1_GTV-1_mask                              62.265560   \n",
       "LUNG1-003_20180209_CT_1_GTV-2_mask                              52.201533   \n",
       "LUNG1-003_20180209_CT_1_GTV-3_mask                              52.952809   \n",
       "\n",
       "                                    original_shape_Maximum3DDiameter  \\\n",
       "Patient                                                                \n",
       "LUNG1-001_20180209_CT_2_GTV-1_mask                         96.104110   \n",
       "LUNG1-002_20180526_CT_1_GTV-1_mask                        125.674182   \n",
       "LUNG1-003_20180209_CT_1_GTV-1_mask                         84.011904   \n",
       "LUNG1-003_20180209_CT_1_GTV-2_mask                         54.626001   \n",
       "LUNG1-003_20180209_CT_1_GTV-3_mask                         54.872580   \n",
       "\n",
       "                                    original_shape_MeshVolume  \\\n",
       "Patient                                                         \n",
       "LUNG1-001_20180209_CT_2_GTV-1_mask              155379.500000   \n",
       "LUNG1-002_20180526_CT_1_GTV-1_mask              358446.791667   \n",
       "LUNG1-003_20180209_CT_1_GTV-1_mask               34987.000000   \n",
       "LUNG1-003_20180209_CT_1_GTV-2_mask               37989.625000   \n",
       "LUNG1-003_20180209_CT_1_GTV-3_mask                8490.875000   \n",
       "\n",
       "                                    original_shape_MinorAxisLength  ...  \\\n",
       "Patient                                                             ...   \n",
       "LUNG1-001_20180209_CT_2_GTV-1_mask                       61.609664  ...   \n",
       "LUNG1-002_20180526_CT_1_GTV-1_mask                       81.482668  ...   \n",
       "LUNG1-003_20180209_CT_1_GTV-1_mask                       39.036358  ...   \n",
       "LUNG1-003_20180209_CT_1_GTV-2_mask                       36.397153  ...   \n",
       "LUNG1-003_20180209_CT_1_GTV-3_mask                       25.654681  ...   \n",
       "\n",
       "                                    wavelet-LLL_gldm_HighGrayLevelEmphasis  \\\n",
       "Patient                                                                      \n",
       "LUNG1-001_20180209_CT_2_GTV-1_mask                            14462.536758   \n",
       "LUNG1-002_20180526_CT_1_GTV-1_mask                            13208.125493   \n",
       "LUNG1-003_20180209_CT_1_GTV-1_mask                             9142.646956   \n",
       "LUNG1-003_20180209_CT_1_GTV-2_mask                             1959.587091   \n",
       "LUNG1-003_20180209_CT_1_GTV-3_mask                            12522.929148   \n",
       "\n",
       "                                    wavelet-LLL_gldm_LargeDependenceEmphasis  \\\n",
       "Patient                                                                        \n",
       "LUNG1-001_20180209_CT_2_GTV-1_mask                                 33.609142   \n",
       "LUNG1-002_20180526_CT_1_GTV-1_mask                                 55.600107   \n",
       "LUNG1-003_20180209_CT_1_GTV-1_mask                                 17.909008   \n",
       "LUNG1-003_20180209_CT_1_GTV-2_mask                                 57.127037   \n",
       "LUNG1-003_20180209_CT_1_GTV-3_mask                                 21.910558   \n",
       "\n",
       "                                    wavelet-LLL_gldm_LargeDependenceHighGrayLevelEmphasis  \\\n",
       "Patient                                                                                     \n",
       "LUNG1-001_20180209_CT_2_GTV-1_mask                                      548084.071741       \n",
       "LUNG1-002_20180526_CT_1_GTV-1_mask                                      832176.248523       \n",
       "LUNG1-003_20180209_CT_1_GTV-1_mask                                      209143.444093       \n",
       "LUNG1-003_20180209_CT_1_GTV-2_mask                                      110707.131452       \n",
       "LUNG1-003_20180209_CT_1_GTV-3_mask                                      283996.495148       \n",
       "\n",
       "                                    wavelet-LLL_gldm_LargeDependenceLowGrayLevelEmphasis  \\\n",
       "Patient                                                                                    \n",
       "LUNG1-001_20180209_CT_2_GTV-1_mask                                           0.002759      \n",
       "LUNG1-002_20180526_CT_1_GTV-1_mask                                           0.004497      \n",
       "LUNG1-003_20180209_CT_1_GTV-1_mask                                           0.002673      \n",
       "LUNG1-003_20180209_CT_1_GTV-2_mask                                           0.030103      \n",
       "LUNG1-003_20180209_CT_1_GTV-3_mask                                           0.001835      \n",
       "\n",
       "                                    wavelet-LLL_gldm_LowGrayLevelEmphasis  \\\n",
       "Patient                                                                     \n",
       "LUNG1-001_20180209_CT_2_GTV-1_mask                               0.000139   \n",
       "LUNG1-002_20180526_CT_1_GTV-1_mask                               0.000162   \n",
       "LUNG1-003_20180209_CT_1_GTV-1_mask                               0.000367   \n",
       "LUNG1-003_20180209_CT_1_GTV-2_mask                               0.000576   \n",
       "LUNG1-003_20180209_CT_1_GTV-3_mask                               0.000204   \n",
       "\n",
       "                                    wavelet-LLL_gldm_SmallDependenceEmphasis  \\\n",
       "Patient                                                                        \n",
       "LUNG1-001_20180209_CT_2_GTV-1_mask                                  0.267761   \n",
       "LUNG1-002_20180526_CT_1_GTV-1_mask                                  0.188931   \n",
       "LUNG1-003_20180209_CT_1_GTV-1_mask                                  0.402930   \n",
       "LUNG1-003_20180209_CT_1_GTV-2_mask                                  0.087440   \n",
       "LUNG1-003_20180209_CT_1_GTV-3_mask                                  0.180937   \n",
       "\n",
       "                                    wavelet-LLL_gldm_SmallDependenceHighGrayLevelEmphasis  \\\n",
       "Patient                                                                                     \n",
       "LUNG1-001_20180209_CT_2_GTV-1_mask                                        2959.571494       \n",
       "LUNG1-002_20180526_CT_1_GTV-1_mask                                        1733.836805       \n",
       "LUNG1-003_20180209_CT_1_GTV-1_mask                                        2838.784544       \n",
       "LUNG1-003_20180209_CT_1_GTV-2_mask                                         201.127071       \n",
       "LUNG1-003_20180209_CT_1_GTV-3_mask                                        2164.128733       \n",
       "\n",
       "                                    wavelet-LLL_gldm_SmallDependenceLowGrayLevelEmphasis  \\\n",
       "Patient                                                                                    \n",
       "LUNG1-001_20180209_CT_2_GTV-1_mask                                           0.000058      \n",
       "LUNG1-002_20180526_CT_1_GTV-1_mask                                           0.000053      \n",
       "LUNG1-003_20180209_CT_1_GTV-1_mask                                           0.000191      \n",
       "LUNG1-003_20180209_CT_1_GTV-2_mask                                           0.000084      \n",
       "LUNG1-003_20180209_CT_1_GTV-3_mask                                           0.000139      \n",
       "\n",
       "                                           ROI  Outcome  \n",
       "Patient                                                  \n",
       "LUNG1-001_20180209_CT_2_GTV-1_mask  GTV-1_mask        0  \n",
       "LUNG1-002_20180526_CT_1_GTV-1_mask  GTV-1_mask        0  \n",
       "LUNG1-003_20180209_CT_1_GTV-1_mask  GTV-1_mask        1  \n",
       "LUNG1-003_20180209_CT_1_GTV-2_mask  GTV-2_mask        1  \n",
       "LUNG1-003_20180209_CT_1_GTV-3_mask  GTV-3_mask        1  \n",
       "\n",
       "[5 rows x 1220 columns]"
      ]
     },
     "execution_count": 13,
     "metadata": {},
     "output_type": "execute_result"
    }
   ],
   "source": [
    "# feature dataframe\n",
    "fs._feature_dataframe"
   ]
  },
  {
   "cell_type": "code",
   "execution_count": 14,
   "metadata": {},
   "outputs": [
    {
     "data": {
      "text/plain": [
       "['original_shape_Elongation',\n",
       " 'original_shape_Flatness',\n",
       " 'original_shape_LeastAxisLength',\n",
       " 'original_shape_MajorAxisLength',\n",
       " 'original_shape_Maximum2DDiameterColumn',\n",
       " 'original_shape_Maximum2DDiameterRow',\n",
       " 'original_shape_Maximum2DDiameterSlice',\n",
       " 'original_shape_Maximum3DDiameter',\n",
       " 'original_shape_MeshVolume',\n",
       " 'original_shape_MinorAxisLength',\n",
       " 'original_shape_Sphericity',\n",
       " 'original_shape_SurfaceArea',\n",
       " 'original_shape_SurfaceVolumeRatio',\n",
       " 'original_shape_VoxelVolume',\n",
       " 'original_firstorder_10Percentile',\n",
       " 'original_firstorder_90Percentile',\n",
       " 'original_firstorder_Energy',\n",
       " 'original_firstorder_Entropy',\n",
       " 'original_firstorder_InterquartileRange',\n",
       " 'original_firstorder_Kurtosis']"
      ]
     },
     "execution_count": 14,
     "metadata": {},
     "output_type": "execute_result"
    }
   ],
   "source": [
    "# checking first 20 features\n",
    "fs._feature_column[:20]"
   ]
  },
  {
   "cell_type": "code",
   "execution_count": null,
   "metadata": {},
   "outputs": [],
   "source": []
  }
 ],
 "metadata": {
  "kernelspec": {
   "display_name": "Python 3",
   "language": "python",
   "name": "python3"
  },
  "language_info": {
   "codemirror_mode": {
    "name": "ipython",
    "version": 3
   },
   "file_extension": ".py",
   "mimetype": "text/x-python",
   "name": "python",
   "nbconvert_exporter": "python",
   "pygments_lexer": "ipython3",
   "version": "3.7.1"
  }
 },
 "nbformat": 4,
 "nbformat_minor": 2
}
