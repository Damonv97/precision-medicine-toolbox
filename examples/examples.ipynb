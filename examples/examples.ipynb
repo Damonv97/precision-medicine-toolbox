{
 "cells": [
  {
   "cell_type": "markdown",
   "metadata": {},
   "source": [
    "# Examples of usage:"
   ]
  },
  {
   "cell_type": "code",
   "execution_count": null,
   "metadata": {},
   "outputs": [],
   "source": [
    "import os,sys\n",
    "sys.path.append(os.path.abspath(\"..\"))\n",
    "from tool_box import tool_box\n",
    "import pandas as pd\n",
    "from pandas import DataFrame\n",
    "import matplotlib.pyplot as plt\n",
    "import numpy as np\n",
    "import seaborn as sb\n",
    "\n",
    "%matplotlib inline"
   ]
  },
  {
   "cell_type": "code",
   "execution_count": null,
   "metadata": {},
   "outputs": [],
   "source": []
  },
  {
   "cell_type": "markdown",
   "metadata": {},
   "source": [
    "###  DICOM to nrrd conversion"
   ]
  },
  {
   "cell_type": "code",
   "execution_count": null,
   "metadata": {},
   "outputs": [],
   "source": [
    "##Convert DICOM dataset to the volume (nrrd) format\n",
    "# export_path = ... export path where the converted nrrds will be placed, region_of_interest = ... if you know exact name of\n",
    "# the ROI you want to extract then write it with the ! character infront, eg. region_of_interest = !gtv1 , \n",
    "# if you want to extract all the gtv's in the rtstructure eg. gtv1, gtv2, gtv_whatever then just specify the stem word \n",
    "# eg. region_of_interest = gtv, default value is region_of_interest ='all', where all ROI's in rtstruct will be extracted.\n",
    "        "
   ]
  },
  {
   "cell_type": "code",
   "execution_count": null,
   "metadata": {},
   "outputs": [],
   "source": [
    "# Set up the parameters for the \n",
    "parameters = {'data_path': r'../data/dcms/', #path_to_your_data\n",
    "              'data_type': 'dcm',\n",
    "              'multi_rts_per_pat': False}   #When False, it will look only for 1 rtstruct in the patient folder, this will\n",
    "                                            #speed up the process, if you have more then 1 rtstruct per patient, set it to True\n",
    "                  \n",
    "export_path =r'../data/'    "
   ]
  },
  {
   "cell_type": "code",
   "execution_count": null,
   "metadata": {},
   "outputs": [],
   "source": [
    "#Inintialize the dataset \n",
    "data_ct = tool_box(**parameters) "
   ]
  },
  {
   "cell_type": "code",
   "execution_count": null,
   "metadata": {},
   "outputs": [],
   "source": [
    "#Run the conversion\n",
    "data_ct.convert_to_nrrd(export_path,'gtv')"
   ]
  },
  {
   "cell_type": "code",
   "execution_count": null,
   "metadata": {},
   "outputs": [],
   "source": []
  },
  {
   "cell_type": "code",
   "execution_count": null,
   "metadata": {},
   "outputs": [],
   "source": []
  },
  {
   "cell_type": "markdown",
   "metadata": {},
   "source": [
    "### Quick check of the ROI's in the nrrd dataset"
   ]
  },
  {
   "cell_type": "code",
   "execution_count": null,
   "metadata": {},
   "outputs": [],
   "source": [
    "#If you want to check your converted images&ROIs or just any volumetric dataset (nrrd/mha), you can use get_jpegs function of\n",
    "#the toolbox, it will generate jpeg images for each slice with the image and overlap of the contour."
   ]
  },
  {
   "cell_type": "code",
   "execution_count": null,
   "metadata": {},
   "outputs": [],
   "source": [
    "data_ct_nrrd = tool_box(data_path = r'../data/converted_nrrds/',\n",
    "                    data_type='nrrd')"
   ]
  },
  {
   "cell_type": "code",
   "execution_count": null,
   "metadata": {},
   "outputs": [],
   "source": [
    "data_ct_nrrd.get_jpegs(r'../data/')"
   ]
  },
  {
   "cell_type": "code",
   "execution_count": null,
   "metadata": {},
   "outputs": [],
   "source": []
  },
  {
   "cell_type": "code",
   "execution_count": null,
   "metadata": {},
   "outputs": [],
   "source": [
    "#Lets just check one of the patients"
   ]
  },
  {
   "cell_type": "code",
   "execution_count": null,
   "metadata": {
    "scrolled": false
   },
   "outputs": [],
   "source": [
    "from ipywidgets import interact\n",
    "import numpy as np\n",
    "from PIL import Image\n",
    "\n",
    "def browse_images(images,names):\n",
    "    n = len(images)\n",
    "    def view_image(i):\n",
    "        plt.figure(figsize=(20,10))\n",
    "        plt.imshow(images[i])#, cmap=plt.cm.gray_r, interpolation='nearest')\n",
    "        plt.title('Slice: %s' % names[i])\n",
    "        plt.axis('off')\n",
    "        plt.show()\n",
    "    interact(view_image, i=(0,n-1))\n",
    "    \n",
    "for pat,_ in data_ct_nrrd:\n",
    "    _,file_struct = [*os.walk(os.path.join('../data/images_quick_check/',pat))]\n",
    "    root,images = file_struct[0],file_struct[2]\n",
    "    imgs =[np.array(Image.open(os.path.join(root,img))) for img in images]\n",
    "    print(pat)\n",
    "    browse_images(imgs,images)\n",
    "    break\n",
    "\n",
    "\n",
    "    \n"
   ]
  },
  {
   "cell_type": "code",
   "execution_count": null,
   "metadata": {},
   "outputs": [],
   "source": []
  },
  {
   "cell_type": "code",
   "execution_count": null,
   "metadata": {},
   "outputs": [],
   "source": []
  },
  {
   "cell_type": "markdown",
   "metadata": {},
   "source": [
    "### Extract PyRadiomics features"
   ]
  },
  {
   "cell_type": "code",
   "execution_count": null,
   "metadata": {},
   "outputs": [],
   "source": [
    "data_ct_nrrd = tool_box(data_path = r'../data/converted_nrrds/',\n",
    "                    data_type='nrrd')"
   ]
  },
  {
   "cell_type": "code",
   "execution_count": null,
   "metadata": {
    "scrolled": true
   },
   "outputs": [],
   "source": [
    "#Use your own pyradiomics parameters file, more you can find here: https://github.com/Radiomics/pyradiomics \n",
    "parameters = r\"../example_ct_parameters.yaml\"\n",
    "features = data_ct_nrrd.extract_features(parameters,loggenabled=True)"
   ]
  },
  {
   "cell_type": "code",
   "execution_count": null,
   "metadata": {
    "scrolled": true
   },
   "outputs": [],
   "source": [
    "features.head(5)"
   ]
  },
  {
   "cell_type": "code",
   "execution_count": null,
   "metadata": {},
   "outputs": [],
   "source": [
    "#Write features to excel file\n",
    "writer = pd.ExcelWriter('../data/features/extracted_features.xlsx')\n",
    "features.to_excel(writer,'Sheet1')\n",
    "writer.save()"
   ]
  },
  {
   "cell_type": "code",
   "execution_count": null,
   "metadata": {},
   "outputs": [],
   "source": []
  },
  {
   "cell_type": "markdown",
   "metadata": {},
   "source": [
    "### Explore the dataset"
   ]
  },
  {
   "cell_type": "code",
   "execution_count": null,
   "metadata": {},
   "outputs": [],
   "source": [
    "# Set up the parameters for the \n",
    "parameters = {'data_path': r'../data/dcms/', #path_to_your_data\n",
    "              'data_type': 'dcm'}    "
   ]
  },
  {
   "cell_type": "code",
   "execution_count": null,
   "metadata": {},
   "outputs": [],
   "source": [
    "data_dcms = tool_box(**parameters)\n",
    "dataset_description = data_dcms.get_dataset_description() "
   ]
  },
  {
   "cell_type": "code",
   "execution_count": null,
   "metadata": {},
   "outputs": [],
   "source": [
    "dataset_description.head(3)"
   ]
  },
  {
   "cell_type": "code",
   "execution_count": null,
   "metadata": {},
   "outputs": [],
   "source": [
    "# For example you can check for reduntant files by looking at unique modality values in your dataset\n",
    "print('Unique modalities found: ',np.unique(dataset_description.Modality.values)[0])"
   ]
  },
  {
   "cell_type": "code",
   "execution_count": null,
   "metadata": {},
   "outputs": [],
   "source": [
    "##There is two pre-set parameter dictionaries for 'CT' and 'MRI', but you can also send a custom list, \n",
    "#in this case the dicom tags should have the same names as corresponding pydicom (DICOM keyword, https://pydicom.github.io/pydicom/dev/old/base_element.html)\n",
    "ct_dcms = tool_box(**parameters)\n",
    "dataset_description = ct_dcms.get_dataset_description('CT') "
   ]
  },
  {
   "cell_type": "code",
   "execution_count": null,
   "metadata": {},
   "outputs": [],
   "source": [
    "dataset_description.head(3)"
   ]
  },
  {
   "cell_type": "code",
   "execution_count": null,
   "metadata": {},
   "outputs": [],
   "source": [
    "#Lets plot some of the scans parameters\n",
    "\n",
    "sb.set(context='poster', style='whitegrid')\n",
    "\n",
    "study_date = sorted([ 'Nan' if x=='' or x=='NaN' else str(x[0:4]) for x in list(dataset_description['SeriesDate'])])[2:]\n",
    "conv_kernel =['Nan' if x=='' or x=='NaN' else x for x in list(dataset_description['ConvolutionKernel'])]\n",
    "tube_current =[-1 if x=='' or x=='NaN' else x for x in list(dataset_description['XRayTubeCurrent'])]\n",
    "exposure =[-1 if x=='' or x=='NaN' else x for x in list(dataset_description['Exposure'])]\n",
    "ps = sorted([(x[0]) for x in list(filter(lambda x: x != 'NaN', dataset_description['PixelSpacing'].values))])\n",
    "sl_th = sorted([str(x)[0:3] for x in list(filter(lambda x: x != 'NaN', dataset_description['SliceThickness'].values))])\n",
    "figures,descriptions = [study_date,conv_kernel,tube_current,exposure,ps,sl_th],['Study Date','Conv Kernel','Tube Current','Exposure','Pixel spacing','Slice Thickness']\n",
    "\n",
    "fig,ax = plt.subplots(2,3,figsize=(25,15))\n",
    "for i in range(2):\n",
    "    for j in range(3):\n",
    "        ax[i,j].hist(figures.pop(0),alpha=0.7)\n",
    "        ax[i,j].set_title(descriptions.pop(0),fontsize=20)\n",
    "    \n",
    "    \n"
   ]
  },
  {
   "cell_type": "code",
   "execution_count": null,
   "metadata": {},
   "outputs": [],
   "source": []
  },
  {
   "cell_type": "code",
   "execution_count": null,
   "metadata": {},
   "outputs": [],
   "source": []
  }
 ],
 "metadata": {
  "kernelspec": {
   "display_name": "Python 3",
   "language": "python",
   "name": "python3"
  },
  "language_info": {
   "codemirror_mode": {
    "name": "ipython",
    "version": 3
   },
   "file_extension": ".py",
   "mimetype": "text/x-python",
   "name": "python",
   "nbconvert_exporter": "python",
   "pygments_lexer": "ipython3",
   "version": "3.7.3"
  }
 },
 "nbformat": 4,
 "nbformat_minor": 2
}
