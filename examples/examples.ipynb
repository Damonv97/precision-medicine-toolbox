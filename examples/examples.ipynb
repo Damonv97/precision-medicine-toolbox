{
 "cells": [
  {
   "cell_type": "markdown",
   "metadata": {},
   "source": [
    "# Examples of usage:"
   ]
  },
  {
   "cell_type": "code",
   "execution_count": null,
   "metadata": {},
   "outputs": [],
   "source": [
    "import os,sys\n",
    "sys.path.append(os.path.abspath(\"..\"))\n",
    "from tool_box import tool_box\n",
    "import pandas as pd\n",
    "from pandas import DataFrame"
   ]
  },
  {
   "cell_type": "code",
   "execution_count": null,
   "metadata": {},
   "outputs": [],
   "source": []
  },
  {
   "cell_type": "markdown",
   "metadata": {},
   "source": [
    "###  DICOM to nrrd conversion"
   ]
  },
  {
   "cell_type": "code",
   "execution_count": null,
   "metadata": {},
   "outputs": [],
   "source": [
    "##Convert DICOM dataset to the volume (nrrd) format\n",
    "# export_path = ... export path where the converted nrrds will be placed, region_of_interest = ... if you know exact name of\n",
    "# the ROI you want to extract then write it with the ! character infront, eg. region_of_interest = !gtv1 , \n",
    "# if you want to extract all the gtv's in the rtstructure eg. gtv1, gtv2, gtv_whatever then just specify the stem word \n",
    "# eg. region_of_interest = gtv, default value is region_of_interest ='all', where all ROI's in rtstruct will be extracted.\n",
    "        "
   ]
  },
  {
   "cell_type": "code",
   "execution_count": null,
   "metadata": {},
   "outputs": [],
   "source": [
    "# Set up the parameters for the \n",
    "parameters = {'data_path': r'../data/dcms/', #path_to_your_data\n",
    "              'data_type': 'dcm',\n",
    "              'multi_rts_per_pat': False}   #When False, it will look only for 1 rtstruct in the patient folder, this will\n",
    "                                            #speed up the process, if you have more then 1 rtstruct per patient, set it to True\n",
    "                  \n",
    "export_path =r'../data/'    "
   ]
  },
  {
   "cell_type": "code",
   "execution_count": null,
   "metadata": {},
   "outputs": [],
   "source": [
    "#Inintialize the dataset \n",
    "Data_MRI = tool_box(**parameters) "
   ]
  },
  {
   "cell_type": "code",
   "execution_count": null,
   "metadata": {},
   "outputs": [],
   "source": [
    "#Run the conversion\n",
    "Data_MRI.convert_to_nrrd(export_path,'gtv')"
   ]
  },
  {
   "cell_type": "code",
   "execution_count": null,
   "metadata": {},
   "outputs": [],
   "source": []
  },
  {
   "cell_type": "code",
   "execution_count": null,
   "metadata": {},
   "outputs": [],
   "source": []
  },
  {
   "cell_type": "markdown",
   "metadata": {},
   "source": [
    "### Quick check of the ROI's in the nrrd dataset"
   ]
  },
  {
   "cell_type": "code",
   "execution_count": null,
   "metadata": {},
   "outputs": [],
   "source": [
    "#If you want to check your converted images&ROIs or just any volumetric dataset (nrrd/mha), you can use get_jpegs function of\n",
    "#the toolbox, it will generate jpeg images for each slice with the image and overlap of the contour."
   ]
  },
  {
   "cell_type": "code",
   "execution_count": null,
   "metadata": {},
   "outputs": [],
   "source": [
    "Data_MRI_nrrd = tool_box(data_path = r'../data/converted_nrrds/',\n",
    "                    data_type='nrrd')"
   ]
  },
  {
   "cell_type": "code",
   "execution_count": null,
   "metadata": {},
   "outputs": [],
   "source": [
    "Data_MRI_nrrd.get_jpegs(r'../data/')"
   ]
  },
  {
   "cell_type": "code",
   "execution_count": null,
   "metadata": {},
   "outputs": [],
   "source": []
  },
  {
   "cell_type": "code",
   "execution_count": null,
   "metadata": {},
   "outputs": [],
   "source": [
    "#Lets just check one of the patient's right in jupyter"
   ]
  },
  {
   "cell_type": "code",
   "execution_count": null,
   "metadata": {
    "scrolled": false
   },
   "outputs": [],
   "source": [
    "%matplotlib inline\n",
    "import matplotlib.pyplot as plt\n",
    "from ipywidgets import interact\n",
    "import numpy as np\n",
    "from PIL import Image\n",
    "\n",
    "def browse_images(images,names):\n",
    "    n = len(images)\n",
    "    def view_image(i):\n",
    "        plt.figure(figsize=(20,10))\n",
    "        plt.imshow(images[i])#, cmap=plt.cm.gray_r, interpolation='nearest')\n",
    "        plt.title('Slice: %s' % names[i])\n",
    "        plt.axis('off')\n",
    "        plt.show()\n",
    "    interact(view_image, i=(0,n-1))\n",
    "    \n",
    "for pat,_ in Data_MRI_nrrd:\n",
    "    _,file_struct = [*os.walk(os.path.join('../data/images_quick_check/',pat))]\n",
    "    root,images = file_struct[0],file_struct[2]\n",
    "    imgs =[np.array(Image.open(os.path.join(root,img))) for img in images]\n",
    "    print(pat)\n",
    "    browse_images(imgs,images)\n",
    "    break\n",
    "\n",
    "\n",
    "    \n"
   ]
  },
  {
   "cell_type": "code",
   "execution_count": null,
   "metadata": {},
   "outputs": [],
   "source": []
  },
  {
   "cell_type": "code",
   "execution_count": null,
   "metadata": {},
   "outputs": [],
   "source": []
  },
  {
   "cell_type": "markdown",
   "metadata": {},
   "source": [
    "### Extract PyRadiomics features"
   ]
  },
  {
   "cell_type": "code",
   "execution_count": null,
   "metadata": {},
   "outputs": [],
   "source": [
    "Data_MRI_nrrd = tool_box(data_path = r'../data/converted_nrrds/',\n",
    "                    data_type='nrrd')"
   ]
  },
  {
   "cell_type": "code",
   "execution_count": null,
   "metadata": {
    "scrolled": true
   },
   "outputs": [],
   "source": [
    "#Use your own pyradiomics parameters file, more you can find here: https://github.com/Radiomics/pyradiomics \n",
    "parameters = r\"../example_ct_parameters.yaml\"\n",
    "features = Data_MRI_nrrd.extract_features(parameters,loggenabled=True)"
   ]
  },
  {
   "cell_type": "code",
   "execution_count": null,
   "metadata": {
    "scrolled": true
   },
   "outputs": [],
   "source": [
    "features.head(5)"
   ]
  },
  {
   "cell_type": "code",
   "execution_count": null,
   "metadata": {},
   "outputs": [],
   "source": [
    "#Write features to excel file\n",
    "writer = pd.ExcelWriter('../data/features/extracted_features.xlsx')\n",
    "features.to_excel(writer,'Sheet1')\n",
    "writer.save()"
   ]
  },
  {
   "cell_type": "code",
   "execution_count": null,
   "metadata": {},
   "outputs": [],
   "source": []
  },
  {
   "cell_type": "code",
   "execution_count": null,
   "metadata": {},
   "outputs": [],
   "source": []
  }
 ],
 "metadata": {
  "kernelspec": {
   "display_name": "Python 3",
   "language": "python",
   "name": "python3"
  }
 },
 "nbformat": 4,
 "nbformat_minor": 2
}
