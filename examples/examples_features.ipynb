{
 "cells": [
  {
   "cell_type": "markdown",
   "metadata": {},
   "source": [
    "# Examples of feature set class usage:"
   ]
  },
  {
   "cell_type": "code",
   "execution_count": null,
   "metadata": {},
   "outputs": [],
   "source": [
    "import os,sys\n",
    "sys.path.append(os.path.abspath(\"..\"))\n",
    "from features_set import features_set\n",
    "import pandas as pd"
   ]
  },
  {
   "cell_type": "code",
   "execution_count": null,
   "metadata": {},
   "outputs": [],
   "source": []
  },
  {
   "cell_type": "markdown",
   "metadata": {},
   "source": [
    "In order to demonstrate the functionality of the class we generated the binary outcomes for open source survival data for Lung1 NSCLC dataset.\n",
    "'Features.xlsx' file contains radiomics features, extracted from Lung1 NSCLC dataset (https://wiki.cancerimagingarchive.net/display/Public/NSCLC-Radiomics). Clinical data for this dataset is available via the same link."
   ]
  },
  {
   "cell_type": "code",
   "execution_count": null,
   "metadata": {},
   "outputs": [],
   "source": [
    "# The code to generate the binary outcomes for 1, 1.5 and 2 year boundaries\n",
    "# loading file with Lung1 clinical data\n",
    "clinical_df = pd.read_csv('../data/features/NSCLC Radiomics Lung1.clinical-version3-Oct 2019.csv')\n",
    "# adding boolean 1-,1.5-,2-year survival variables\n",
    "for i in [1,1.5,2]:\n",
    "    clinical_df['%syearsurvival'%i] = clinical_df['Survival.time'] > 365*i\n",
    "    clinical_df.loc[(clinical_df['Survival.time'] <= 365*i)&(clinical_df['deadstatus.event']==0), '%syearsurvival'%i] = None\n",
    "# save the extended clinical data\n",
    "clinical_df.to_excel('../data/features/extended_clinical_df.xlsx')"
   ]
  },
  {
   "cell_type": "code",
   "execution_count": null,
   "metadata": {},
   "outputs": [],
   "source": []
  },
  {
   "cell_type": "markdown",
   "metadata": {},
   "source": [
    "### Initialization of the feature class"
   ]
  },
  {
   "cell_type": "code",
   "execution_count": null,
   "metadata": {},
   "outputs": [],
   "source": [
    "# set up the parameters\n",
    "parameters = {\n",
    "    'feature_path': '../data/features/features.xlsx', # path to csv/xls file with features\n",
    "    'outcome_path': '../data/features/extended_clinical_df.xlsx', #path to csv/xls file with outcome\n",
    "    'patient_column': 'Patient', # name of column with patient id\n",
    "    'patient_in_outcome_column': 'PatientID', # name of column with patient id in clinical data file\n",
    "    'outcome_column': '1yearsurvival' # name of outcome column\n",
    "}\n",
    "\n",
    "# initialize feature set\n",
    "rad_features = features_set(**parameters)\n",
    "# excluding patients with unknown outcome (in case they are represented)\n",
    "rad_features.handle_nan(axis=1)"
   ]
  },
  {
   "cell_type": "code",
   "execution_count": null,
   "metadata": {},
   "outputs": [],
   "source": [
    "#display feature dataframe\n",
    "rad_features._feature_outcome_dataframe.head(5)"
   ]
  },
  {
   "cell_type": "code",
   "execution_count": null,
   "metadata": {},
   "outputs": [],
   "source": []
  },
  {
   "cell_type": "markdown",
   "metadata": {},
   "source": [
    "### Visualization of features distribution\n",
    "Visualization functions are made to be interactive. Each visualization function will generate a separate html file and open it in your browser window. You can also render them by pressing on <b>\"download plot as a png\"</b> button on the control panel in right top corner."
   ]
  },
  {
   "cell_type": "code",
   "execution_count": null,
   "metadata": {},
   "outputs": [],
   "source": [
    "# visualization of feature values distribution in classes (in .html report)\n",
    "rad_features.plot_binary_distribution(rad_features._feature_column[:100])"
   ]
  },
  {
   "cell_type": "markdown",
   "metadata": {},
   "source": [
    "Example of plotted distributions of feature values in classes:\n",
    " \n",
    "<img src=\"../res/images/distr.png\" width=\"1000\" />"
   ]
  },
  {
   "cell_type": "code",
   "execution_count": null,
   "metadata": {},
   "outputs": [],
   "source": []
  },
  {
   "cell_type": "markdown",
   "metadata": {},
   "source": [
    "### Visualization of features correlation"
   ]
  },
  {
   "cell_type": "code",
   "execution_count": null,
   "metadata": {},
   "outputs": [],
   "source": [
    "# visualization of feature mutual (Spearman) correlation coefficient matrix (in .html report)\n",
    "rad_features.plot_correlation_matrix(rad_features._feature_column[:100])"
   ]
  },
  {
   "cell_type": "markdown",
   "metadata": {},
   "source": [
    "Example of feature correlation matrix:\n",
    "<img src=\"../res/images/corr.png\" width=\"800\" />"
   ]
  },
  {
   "cell_type": "code",
   "execution_count": null,
   "metadata": {},
   "outputs": [],
   "source": []
  },
  {
   "cell_type": "markdown",
   "metadata": {},
   "source": [
    "### Mann-Whitney Bonferroni corrected p-values test (binary classes)"
   ]
  },
  {
   "cell_type": "code",
   "execution_count": null,
   "metadata": {},
   "outputs": [],
   "source": [
    "# visualization of Mann-Whitney Bonferroni corrected p-values for binary classes test (in .html report)\n",
    "rad_features.plot_MW_p(rad_features._feature_column[:100])"
   ]
  },
  {
   "cell_type": "markdown",
   "metadata": {},
   "source": [
    "Example of Mann-Whitney p-values:\n",
    "<img src=\"../res/images/p_MW.png\" width=\"800\" />"
   ]
  },
  {
   "cell_type": "code",
   "execution_count": null,
   "metadata": {},
   "outputs": [],
   "source": []
  },
  {
   "cell_type": "markdown",
   "metadata": {},
   "source": [
    "### Univariate ROC-curves"
   ]
  },
  {
   "cell_type": "code",
   "execution_count": null,
   "metadata": {},
   "outputs": [],
   "source": [
    "# visualization of univariate ROC-curves (in .html report)\n",
    "rad_features.plot_univariate_roc(rad_features._feature_column[:100])"
   ]
  },
  {
   "cell_type": "markdown",
   "metadata": {},
   "source": [
    "Example of univariate feature ROC:\n",
    "![](./data/images/roc.png)"
   ]
  },
  {
   "cell_type": "code",
   "execution_count": null,
   "metadata": {},
   "outputs": [],
   "source": []
  },
  {
   "cell_type": "markdown",
   "metadata": {},
   "source": [
    "### Features statistics & correlation with volume"
   ]
  },
  {
   "cell_type": "code",
   "execution_count": null,
   "metadata": {},
   "outputs": [],
   "source": [
    "# calculation of basic statistics for each feature (in .xlsx):\n",
    "# number of NaN, mean, std, min, max; if applicable: MW-p, univariate ROC AUC, volume correlation\n",
    "rad_features.calculate_basic_stats(volume_feature='original_shape_VoxelVolume')\n",
    "display(pd.read_excel('../data/features/features_basic_stats.xlsx').head())"
   ]
  },
  {
   "cell_type": "code",
   "execution_count": null,
   "metadata": {},
   "outputs": [],
   "source": []
  },
  {
   "cell_type": "markdown",
   "metadata": {},
   "source": [
    "### Analyze the volume alone performance "
   ]
  },
  {
   "cell_type": "code",
   "execution_count": null,
   "metadata": {},
   "outputs": [],
   "source": [
    "# volume analysis\n",
    "rad_features.volume_analysis(volume_feature='original_shape_VoxelVolume')\n"
   ]
  },
  {
   "cell_type": "markdown",
   "metadata": {},
   "source": [
    "<div id=\"the whole thing\" style=\"height:100%; width:100%; overflow: hidden;\">\n",
    "    <div id=\"leftThing\" style=\"float: left; width:40%;\"> Example of volume precision-recall curve:\n",
    "        <img src=\"../res/images/vol_prc.png\" width=\"500\" />\n",
    "    </div>\n",
    "    <div id=\"leftThing\" style=\"float: left; width:60%;\"> Example of volume Spearman correlation coefficients:\n",
    "        <img src=\"../res/images/vol_corr.png\" width=\"500\" />\n",
    "    </div>\n",
    "</div>"
   ]
  },
  {
   "cell_type": "markdown",
   "metadata": {},
   "source": []
  },
  {
   "cell_type": "code",
   "execution_count": null,
   "metadata": {},
   "outputs": [],
   "source": []
  }
 ],
 "metadata": {
  "kernelspec": {
   "display_name": "Python 3",
   "language": "python",
   "name": "python3"
  },
  "language_info": {
   "codemirror_mode": {
    "name": "ipython",
    "version": 3
   },
   "file_extension": ".py",
   "mimetype": "text/x-python",
   "name": "python",
   "nbconvert_exporter": "python",
   "pygments_lexer": "ipython3",
   "version": "3.6.4"
  }
 },
 "nbformat": 4,
 "nbformat_minor": 2
}
