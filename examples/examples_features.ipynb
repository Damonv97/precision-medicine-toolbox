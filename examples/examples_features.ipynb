{
 "cells": [
  {
   "cell_type": "markdown",
   "metadata": {},
   "source": [
    "# Examples of feature set usage:"
   ]
  },
  {
   "cell_type": "code",
   "execution_count": null,
   "metadata": {},
   "outputs": [],
   "source": [
    "import os,sys\n",
    "sys.path.append(os.path.abspath(\"..\"))\n",
    "from features_set import features_set\n",
    "import pandas as pd"
   ]
  },
  {
   "cell_type": "markdown",
   "metadata": {},
   "source": [
    "<b>Structure of a module</b>\n",
    "  \n",
    "![](../res/images/module.png)"
   ]
  },
  {
   "cell_type": "markdown",
   "metadata": {},
   "source": [
    "## Binary classes"
   ]
  },
  {
   "cell_type": "code",
   "execution_count": null,
   "metadata": {},
   "outputs": [],
   "source": [
    "# set up the parameters\n",
    "parameters = {\n",
    "    'feature_path': \"../data/features/features.xlsx\", # path to csv/xls file with features\n",
    "    'outcome_path': \"../data/features/extended_clinical_df.xlsx\", #path to csv/xls file with outcome\n",
    "    'patient_column': 'Patient', # name of column with patient id\n",
    "    'patient_in_outcome_column': 'PatientID', # name of column with patient id in clinical data file\n",
    "    'outcome_column': '1yearsurvival' # name of outcome column\n",
    "}"
   ]
  },
  {
   "cell_type": "code",
   "execution_count": null,
   "metadata": {},
   "outputs": [],
   "source": [
    "# initialize feature set\n",
    "fs = features_set(**parameters)"
   ]
  },
  {
   "cell_type": "code",
   "execution_count": null,
   "metadata": {},
   "outputs": [],
   "source": [
    "# excluding patients with unknown outcome (in case they are represented)\n",
    "fs.handle_nan(axis=0)"
   ]
  },
  {
   "cell_type": "code",
   "execution_count": null,
   "metadata": {},
   "outputs": [],
   "source": [
    "fs._feature_outcome_dataframe.head(5)"
   ]
  },
  {
   "cell_type": "code",
   "execution_count": null,
   "metadata": {},
   "outputs": [],
   "source": [
    "# visualization of feature values distribution in classes (in .html report)\n",
    "fs.plot_distribution(fs._feature_column[:100])"
   ]
  },
  {
   "cell_type": "markdown",
   "metadata": {},
   "source": [
    "<b>Example of plotted distributions of feature values in classes:</b>\n",
    "![](../res/images/distr.png)"
   ]
  },
  {
   "cell_type": "code",
   "execution_count": null,
   "metadata": {},
   "outputs": [],
   "source": [
    "# visualization of feature mutual (Spearman) correlation coefficient matrix (in .html report)\n",
    "fs.plot_correlation_matrix(fs._feature_column[:100])"
   ]
  },
  {
   "cell_type": "markdown",
   "metadata": {},
   "source": [
    "Example of feature correlation matrix:\n",
    "![](../res/images/corr.png)"
   ]
  },
  {
   "cell_type": "code",
   "execution_count": null,
   "metadata": {},
   "outputs": [],
   "source": [
    "# visualization of Mann-Whitney Bonferroni corrected p-values for binary classes test (in .html report)\n",
    "fs.plot_MW_p(fs._feature_column[:100])"
   ]
  },
  {
   "cell_type": "markdown",
   "metadata": {},
   "source": [
    "Example of Mann-Whitney p-values:\n",
    "![](../res/images/p_MW.png)"
   ]
  },
  {
   "cell_type": "code",
   "execution_count": null,
   "metadata": {},
   "outputs": [],
   "source": [
    "# visualization of univariate ROC-curves (in .html report)\n",
    "fs.plot_univariate_roc(fs._feature_column[:100])"
   ]
  },
  {
   "cell_type": "markdown",
   "metadata": {},
   "source": [
    "Example of univariate feature ROC:\n",
    "![](../res/images/roc.png)"
   ]
  },
  {
   "cell_type": "code",
   "execution_count": null,
   "metadata": {},
   "outputs": [],
   "source": [
    "# calculation of basic statistics for each feature (in .xlsx):\n",
    "# number of NaN, mean, std, min, max; if applicable: MW-p, univariate ROC AUC, volume correlation\n",
    "fs.calculate_basic_stats(volume_feature='original_shape_VoxelVolume')"
   ]
  },
  {
   "cell_type": "code",
   "execution_count": null,
   "metadata": {},
   "outputs": [],
   "source": [
    "# checking the excel table\n",
    "print('Basic statistics for each feature')\n",
    "pd.read_excel('../data/features/features_basic_stats.xlsx')"
   ]
  },
  {
   "cell_type": "code",
   "execution_count": null,
   "metadata": {},
   "outputs": [],
   "source": [
    "# volume analysis\n",
    "fs.volume_analysis(volume_feature='original_shape_VoxelVolume')"
   ]
  },
  {
   "cell_type": "markdown",
   "metadata": {},
   "source": [
    "<b>Example of volume precision-recall curve:</b>\n",
    "![](../res/images/vol_prc.png)"
   ]
  },
  {
   "cell_type": "markdown",
   "metadata": {},
   "source": [
    "<b>Example of volume Spearman correlation coefficients:</b>\n",
    "![](../res/images/vol_corr.png)"
   ]
  },
  {
   "cell_type": "markdown",
   "metadata": {},
   "source": [
    "## Multi-class"
   ]
  },
  {
   "cell_type": "code",
   "execution_count": null,
   "metadata": {},
   "outputs": [],
   "source": [
    "parameters = {\n",
    "    'feature_path': \"../data/features/features.xlsx\", # path to csv/xls file with features\n",
    "    'outcome_path': \"../data/features/extended_clinical_df.xlsx\", #path to csv/xls file with outcome\n",
    "    'patient_column': 'Patient', # name of column with patient id\n",
    "    'patient_in_outcome_column': 'PatientID', # name of column with patient id in clinical data file\n",
    "    'outcome_column': 'Overall.Stage' # name of outcome column\n",
    "}"
   ]
  },
  {
   "cell_type": "code",
   "execution_count": null,
   "metadata": {},
   "outputs": [],
   "source": [
    "fs = features_set(**parameters)"
   ]
  },
  {
   "cell_type": "code",
   "execution_count": null,
   "metadata": {},
   "outputs": [],
   "source": [
    "fs._feature_outcome_dataframe[fs._feature_outcome_dataframe['Overall.Stage'].isnull()]"
   ]
  },
  {
   "cell_type": "code",
   "execution_count": null,
   "metadata": {},
   "outputs": [],
   "source": [
    "fs.handle_nan(axis=0)"
   ]
  },
  {
   "cell_type": "code",
   "execution_count": null,
   "metadata": {},
   "outputs": [],
   "source": [
    "fs.plot_distribution(fs._feature_column[:100])"
   ]
  },
  {
   "cell_type": "code",
   "execution_count": null,
   "metadata": {},
   "outputs": [],
   "source": [
    "fs.plot_distribution(fs._feature_column[:100], ['I', 'IIIb'])"
   ]
  },
  {
   "cell_type": "code",
   "execution_count": null,
   "metadata": {},
   "outputs": [],
   "source": [
    "fs.plot_correlation_matrix(fs._feature_column[:100])"
   ]
  },
  {
   "cell_type": "code",
   "execution_count": null,
   "metadata": {},
   "outputs": [],
   "source": [
    "fs.plot_MW_p(fs._feature_column[:100], ['I', 'IIIb'])"
   ]
  },
  {
   "cell_type": "code",
   "execution_count": null,
   "metadata": {},
   "outputs": [],
   "source": [
    "fs.plot_univariate_roc(fs._feature_column[:100], ['I', 'IIIb'])"
   ]
  },
  {
   "cell_type": "code",
   "execution_count": null,
   "metadata": {},
   "outputs": [],
   "source": [
    "fs.calculate_basic_stats(volume_feature='original_shape_VoxelVolume')"
   ]
  },
  {
   "cell_type": "code",
   "execution_count": null,
   "metadata": {},
   "outputs": [],
   "source": [
    "fs.volume_analysis(volume_feature='original_shape_VoxelVolume')"
   ]
  },
  {
   "cell_type": "code",
   "execution_count": null,
   "metadata": {},
   "outputs": [],
   "source": [
    "print('Basic statistics for each feature')\n",
    "pd.read_excel('../data/features/features_basic_stats.xlsx')"
   ]
  },
  {
   "cell_type": "code",
   "execution_count": null,
   "metadata": {},
   "outputs": [],
   "source": []
  }
 ],
 "metadata": {
  "kernelspec": {
   "display_name": "Python 3",
   "language": "python",
   "name": "python3"
  },
  "language_info": {
   "codemirror_mode": {
    "name": "ipython",
    "version": 3
   },
   "file_extension": ".py",
   "mimetype": "text/x-python",
   "name": "python",
   "nbconvert_exporter": "python",
   "pygments_lexer": "ipython3",
   "version": "3.6.4"
  }
 },
 "nbformat": 4,
 "nbformat_minor": 2
}
