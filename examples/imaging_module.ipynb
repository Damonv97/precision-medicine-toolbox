{
 "cells": [
  {
   "cell_type": "markdown",
   "metadata": {},
   "source": [
    "# Imaging module tutorial"
   ]
  },
  {
   "cell_type": "markdown",
   "metadata": {},
   "source": [
    "This tutorial shows how to convert DICOM into NRRD, check ROI segmentation, extract the radiomic features, and explore the imaging parameters."
   ]
  },
  {
   "cell_type": "markdown",
   "metadata": {},
   "source": [
    "Importing modules:"
   ]
  },
  {
   "cell_type": "code",
   "execution_count": 3,
   "metadata": {},
   "outputs": [],
   "source": [
    "import os,sys\n",
    "sys.path.append(os.path.abspath(\"..\"))\n",
    "from tool_box import tool_box\n",
    "import pandas as pd\n",
    "from pandas import DataFrame\n",
    "import matplotlib.pyplot as plt\n",
    "import numpy as np\n",
    "import seaborn as sb\n",
    "\n",
    "%matplotlib inline"
   ]
  },
  {
   "cell_type": "markdown",
   "metadata": {},
   "source": [
    "## Data download"
   ]
  },
  {
   "cell_type": "markdown",
   "metadata": {},
   "source": [
    "The Lung1 dataset (Aerts et al., 2014) contains pretreatment scans of 422 non-small cell lung cancer (NSCLC) patients, as well as manually deliniated gross tumor volume (GTV) for each patient, and clinical outcomes. More information you can find on the dataset web page and in the corresponding paper https://doi.org/10.1038/ncomms5006. For consistency, we recommend you to download the data to the '../data/dcms' folder of this project. You can find the data and its description (and the original paper) following the link below:\n",
    "https://wiki.cancerimagingarchive.net/display/Public/NSCLC-Radiomics\n",
    "\n",
    "To download the dataset, you might need to install the download manager: https://wiki.cancerimagingarchive.net/display/NBIA/Downloading+TCIA+Images#DownloadingTCIAImages-DownloadingtheNBIADataRetriever\n",
    "\n",
    "Finally, you will have the '../data/dcms' folder with CT images (it will require 33 GB of disc space!)."
   ]
  },
  {
   "cell_type": "markdown",
   "metadata": {},
   "source": [
    "##  DICOM to NRRD conversion"
   ]
  },
  {
   "cell_type": "markdown",
   "metadata": {},
   "source": [
    "To convert DICOM dataset to the volume (nrrd) format, set up the parameters:  \n",
    "\n",
    "* '*export_path = ...*' export path where the converted NRRDs will be placed,  \n",
    "* '*region_of_interest = ...*' if you know exact name of the ROI you want to extract, then write it with the '!' character in front, eg. '*region_of_interest = !gtv1*',\n",
    "* if you want to extract all the GTVs in the rtstruct eg. '*gtv1*', '*gtv2*', '*gtv_whatever*', then just specify the stem word, eg. '*region_of_interest = gtv*', \n",
    "* default value is '*region_of_interest ='all'*', where all ROI's in rtstruct will be extracted."
   ]
  },
  {
   "cell_type": "code",
   "execution_count": 4,
   "metadata": {},
   "outputs": [],
   "source": [
    "parameters = {'data_path': r'../data/dcms/', # path_to_your_DICOM_data\n",
    "              'data_type': 'dcm', # original data format: DICOM\n",
    "              'multi_rts_per_pat': False}   # when False, it will look only for 1 rtstruct in the patient folder, \n",
    "                                            # this will speed up the process, \n",
    "                                            # if you have more then 1 rtstruct per patient, set it to True\n",
    "                  \n",
    "export_path =r'../data/' # the function will create 'converted_nrrd' folder in the specified directory       "
   ]
  },
  {
   "cell_type": "markdown",
   "metadata": {},
   "source": [
    "Initialize the dataset (originally downloaded directory with DICOM files):"
   ]
  },
  {
   "cell_type": "code",
   "execution_count": 5,
   "metadata": {},
   "outputs": [
    {
     "name": "stderr",
     "output_type": "stream",
     "text": [
      "100%|████████████████████████████████████████████████████████████████████████████████████| 3/3 [00:01<00:00,  2.28it/s]\n"
     ]
    }
   ],
   "source": [
    "data_ct = tool_box(**parameters) "
   ]
  },
  {
   "cell_type": "markdown",
   "metadata": {},
   "source": [
    "Run the conversion:"
   ]
  },
  {
   "cell_type": "code",
   "execution_count": 6,
   "metadata": {},
   "outputs": [
    {
     "name": "stderr",
     "output_type": "stream",
     "text": [
      "Patients converted: 100%|████████████████████████████████████████████████████████████████| 3/3 [00:08<00:00,  2.91s/it]\n"
     ]
    }
   ],
   "source": [
    "data_ct.convert_to_nrrd(export_path, 'gtv')"
   ]
  },
  {
   "cell_type": "markdown",
   "metadata": {},
   "source": [
    "## Quick check of the ROI's in the NRRD dataset"
   ]
  },
  {
   "cell_type": "markdown",
   "metadata": {},
   "source": [
    "If you want to check your converted images & ROIs, or just any volumetric dataset (NRRD/MHA), you can use get_jpegs function of the toolbox. It will generate JPEG images for each slice with the image and overlap of the contour."
   ]
  },
  {
   "cell_type": "markdown",
   "metadata": {},
   "source": [
    "Initialize the dataset (converted NRRD files):"
   ]
  },
  {
   "cell_type": "code",
   "execution_count": 10,
   "metadata": {},
   "outputs": [
    {
     "name": "stderr",
     "output_type": "stream",
     "text": [
      "100%|██████████████████████████████████████████████████████████████████████████████████| 3/3 [00:00<00:00, 2997.36it/s]\n"
     ]
    }
   ],
   "source": [
    "data_ct_nrrd = tool_box(data_path = r'../data/converted_nrrds/', data_type='nrrd')"
   ]
  },
  {
   "cell_type": "markdown",
   "metadata": {},
   "source": [
    "Run the visualization:"
   ]
  },
  {
   "cell_type": "code",
   "execution_count": 8,
   "metadata": {},
   "outputs": [
    {
     "name": "stderr",
     "output_type": "stream",
     "text": [
      "Patients processed: 100%|████████████████████████████████████████████████████████████████| 5/5 [00:45<00:00,  9.13s/it]\n"
     ]
    }
   ],
   "source": [
    "data_ct_nrrd.get_jpegs(r'../data/') # the function will create 'images_quick_check' folder in the specified directory "
   ]
  },
  {
   "cell_type": "markdown",
   "metadata": {},
   "source": [
    "Let's check one of the patients:"
   ]
  },
  {
   "cell_type": "code",
   "execution_count": 9,
   "metadata": {
    "scrolled": false
   },
   "outputs": [
    {
     "name": "stdout",
     "output_type": "stream",
     "text": [
      "LUNG1-001_20180209_CT_2_GTV-1_mask\n"
     ]
    },
    {
     "data": {
      "application/vnd.jupyter.widget-view+json": {
       "model_id": "676f9d944e844be7b391c8a4f275edf0",
       "version_major": 2,
       "version_minor": 0
      },
      "text/plain": [
       "interactive(children=(IntSlider(value=10, description='i', max=20), Output()), _dom_classes=('widget-interact'…"
      ]
     },
     "metadata": {},
     "output_type": "display_data"
    }
   ],
   "source": [
    "from ipywidgets import interact\n",
    "import numpy as np\n",
    "from PIL import Image\n",
    "\n",
    "def browse_images(images,names):\n",
    "    n = len(images)\n",
    "    def view_image(i):\n",
    "        plt.figure(figsize=(20,10))\n",
    "        plt.imshow(images[i])#, cmap=plt.cm.gray_r, interpolation='nearest')\n",
    "        plt.title('Slice: %s' % names[i])\n",
    "        plt.axis('off')\n",
    "        plt.show()\n",
    "    interact(view_image, i=(0,n-1))\n",
    "    \n",
    "for pat,_ in data_ct_nrrd:\n",
    "    _,file_struct = [*os.walk(os.path.join('../data/images_quick_check/',pat))]\n",
    "    root,images = file_struct[0],file_struct[2]\n",
    "    imgs =[np.array(Image.open(os.path.join(root,img))) for img in images]\n",
    "    print(pat)\n",
    "    browse_images(imgs,images)\n",
    "    break"
   ]
  },
  {
   "cell_type": "markdown",
   "metadata": {},
   "source": [
    "## PyRadiomics features extraction"
   ]
  },
  {
   "cell_type": "markdown",
   "metadata": {},
   "source": [
    "In our toolbox, we are using PyRadiomics software (https://pyradiomics.readthedocs.io/en/latest/) to extract the features. You can read the full documentation for the currently stable version: https://pyradiomics.readthedocs.io/_/downloads/en/stable/pdf/."
   ]
  },
  {
   "cell_type": "markdown",
   "metadata": {},
   "source": [
    "Initialize the dataset (converted NRRD files):"
   ]
  },
  {
   "cell_type": "code",
   "execution_count": 11,
   "metadata": {},
   "outputs": [
    {
     "name": "stderr",
     "output_type": "stream",
     "text": [
      "100%|██████████████████████████████████████████████████████████████████████████████████| 3/3 [00:00<00:00, 2999.50it/s]\n"
     ]
    }
   ],
   "source": [
    "data_ct_nrrd = tool_box(data_path = r'../data/converted_nrrds/',\n",
    "                    data_type='nrrd')"
   ]
  },
  {
   "cell_type": "markdown",
   "metadata": {},
   "source": [
    "We are using PyRadiomics parameters file customized for CT data:"
   ]
  },
  {
   "cell_type": "code",
   "execution_count": 12,
   "metadata": {
    "scrolled": true
   },
   "outputs": [
    {
     "name": "stderr",
     "output_type": "stream",
     "text": [
      "Patients processed: 100%|████████████████████████████████████████████████████████████████| 5/5 [01:00<00:00, 12.13s/it]\n"
     ]
    }
   ],
   "source": [
    "parameters = r\"example_ct_parameters.yaml\"\n",
    "features = data_ct_nrrd.extract_features(parameters, loggenabled=True)"
   ]
  },
  {
   "cell_type": "markdown",
   "metadata": {},
   "source": [
    "Printing the features for first 3 ROIs:"
   ]
  },
  {
   "cell_type": "code",
   "execution_count": 13,
   "metadata": {
    "scrolled": true
   },
   "outputs": [
    {
     "data": {
      "text/html": [
       "<div>\n",
       "<style scoped>\n",
       "    .dataframe tbody tr th:only-of-type {\n",
       "        vertical-align: middle;\n",
       "    }\n",
       "\n",
       "    .dataframe tbody tr th {\n",
       "        vertical-align: top;\n",
       "    }\n",
       "\n",
       "    .dataframe thead th {\n",
       "        text-align: right;\n",
       "    }\n",
       "</style>\n",
       "<table border=\"1\" class=\"dataframe\">\n",
       "  <thead>\n",
       "    <tr style=\"text-align: right;\">\n",
       "      <th></th>\n",
       "      <th>diagnostics_Versions_PyRadiomics</th>\n",
       "      <th>diagnostics_Versions_Numpy</th>\n",
       "      <th>diagnostics_Versions_SimpleITK</th>\n",
       "      <th>diagnostics_Versions_PyWavelet</th>\n",
       "      <th>diagnostics_Versions_Python</th>\n",
       "      <th>diagnostics_Configuration_Settings</th>\n",
       "      <th>diagnostics_Configuration_EnabledImageTypes</th>\n",
       "      <th>diagnostics_Image-original_Hash</th>\n",
       "      <th>diagnostics_Image-original_Dimensionality</th>\n",
       "      <th>diagnostics_Image-original_Spacing</th>\n",
       "      <th>...</th>\n",
       "      <th>wavelet-LLL_gldm_HighGrayLevelEmphasis</th>\n",
       "      <th>wavelet-LLL_gldm_LargeDependenceEmphasis</th>\n",
       "      <th>wavelet-LLL_gldm_LargeDependenceHighGrayLevelEmphasis</th>\n",
       "      <th>wavelet-LLL_gldm_LargeDependenceLowGrayLevelEmphasis</th>\n",
       "      <th>wavelet-LLL_gldm_LowGrayLevelEmphasis</th>\n",
       "      <th>wavelet-LLL_gldm_SmallDependenceEmphasis</th>\n",
       "      <th>wavelet-LLL_gldm_SmallDependenceHighGrayLevelEmphasis</th>\n",
       "      <th>wavelet-LLL_gldm_SmallDependenceLowGrayLevelEmphasis</th>\n",
       "      <th>Patient</th>\n",
       "      <th>ROI</th>\n",
       "    </tr>\n",
       "  </thead>\n",
       "  <tbody>\n",
       "    <tr>\n",
       "      <th>0</th>\n",
       "      <td>v3.0</td>\n",
       "      <td>1.18.5</td>\n",
       "      <td>1.2.0</td>\n",
       "      <td>1.1.1</td>\n",
       "      <td>3.7.1</td>\n",
       "      <td>{'minimumROIDimensions': 2, 'minimumROISize': ...</td>\n",
       "      <td>{'Original': {}, 'LoG': {'sigma': [1.0, 2.0, 3...</td>\n",
       "      <td>01ae3d400f3f6fdacc121a85f52fd9dba8be2253</td>\n",
       "      <td>3D</td>\n",
       "      <td>(0.9765625, 0.9765625, 3.0)</td>\n",
       "      <td>...</td>\n",
       "      <td>14462.536758039314</td>\n",
       "      <td>33.609142408868486</td>\n",
       "      <td>548084.071741353</td>\n",
       "      <td>0.0027591623386472087</td>\n",
       "      <td>0.00013875155227786726</td>\n",
       "      <td>0.2677613556442223</td>\n",
       "      <td>2959.5714944611627</td>\n",
       "      <td>5.8227784555678714e-05</td>\n",
       "      <td>LUNG1-001_20180209_CT_2_GTV-1_mask</td>\n",
       "      <td>GTV-1_mask</td>\n",
       "    </tr>\n",
       "    <tr>\n",
       "      <th>1</th>\n",
       "      <td>v3.0</td>\n",
       "      <td>1.18.5</td>\n",
       "      <td>1.2.0</td>\n",
       "      <td>1.1.1</td>\n",
       "      <td>3.7.1</td>\n",
       "      <td>{'minimumROIDimensions': 2, 'minimumROISize': ...</td>\n",
       "      <td>{'Original': {}, 'LoG': {'sigma': [1.0, 2.0, 3...</td>\n",
       "      <td>5c66c70353901fd238191b88a2584cd8c3f645e5</td>\n",
       "      <td>3D</td>\n",
       "      <td>(0.977, 0.977, 3.0)</td>\n",
       "      <td>...</td>\n",
       "      <td>13208.12549259126</td>\n",
       "      <td>55.600106536368784</td>\n",
       "      <td>832176.2485225748</td>\n",
       "      <td>0.004497426306875555</td>\n",
       "      <td>0.00016233377171621347</td>\n",
       "      <td>0.1889311894310745</td>\n",
       "      <td>1733.8368052732842</td>\n",
       "      <td>5.3429352136211716e-05</td>\n",
       "      <td>LUNG1-002_20180526_CT_1_GTV-1_mask</td>\n",
       "      <td>GTV-1_mask</td>\n",
       "    </tr>\n",
       "    <tr>\n",
       "      <th>2</th>\n",
       "      <td>v3.0</td>\n",
       "      <td>1.18.5</td>\n",
       "      <td>1.2.0</td>\n",
       "      <td>1.1.1</td>\n",
       "      <td>3.7.1</td>\n",
       "      <td>{'minimumROIDimensions': 2, 'minimumROISize': ...</td>\n",
       "      <td>{'Original': {}, 'LoG': {'sigma': [1.0, 2.0, 3...</td>\n",
       "      <td>9a2b123cabcc00593e4255d41cbef78f0cb63630</td>\n",
       "      <td>3D</td>\n",
       "      <td>(0.977, 0.977, 3.0)</td>\n",
       "      <td>...</td>\n",
       "      <td>9142.646956472132</td>\n",
       "      <td>17.90900792971647</td>\n",
       "      <td>209143.44409264647</td>\n",
       "      <td>0.0026732953405101414</td>\n",
       "      <td>0.0003673562141585293</td>\n",
       "      <td>0.4029303292416708</td>\n",
       "      <td>2838.784544208129</td>\n",
       "      <td>0.00019106863067788412</td>\n",
       "      <td>LUNG1-003_20180209_CT_1_GTV-1_mask</td>\n",
       "      <td>GTV-1_mask</td>\n",
       "    </tr>\n",
       "  </tbody>\n",
       "</table>\n",
       "<p>3 rows × 1257 columns</p>\n",
       "</div>"
      ],
      "text/plain": [
       "  diagnostics_Versions_PyRadiomics diagnostics_Versions_Numpy  \\\n",
       "0                             v3.0                     1.18.5   \n",
       "1                             v3.0                     1.18.5   \n",
       "2                             v3.0                     1.18.5   \n",
       "\n",
       "  diagnostics_Versions_SimpleITK diagnostics_Versions_PyWavelet  \\\n",
       "0                          1.2.0                          1.1.1   \n",
       "1                          1.2.0                          1.1.1   \n",
       "2                          1.2.0                          1.1.1   \n",
       "\n",
       "  diagnostics_Versions_Python  \\\n",
       "0                       3.7.1   \n",
       "1                       3.7.1   \n",
       "2                       3.7.1   \n",
       "\n",
       "                  diagnostics_Configuration_Settings  \\\n",
       "0  {'minimumROIDimensions': 2, 'minimumROISize': ...   \n",
       "1  {'minimumROIDimensions': 2, 'minimumROISize': ...   \n",
       "2  {'minimumROIDimensions': 2, 'minimumROISize': ...   \n",
       "\n",
       "         diagnostics_Configuration_EnabledImageTypes  \\\n",
       "0  {'Original': {}, 'LoG': {'sigma': [1.0, 2.0, 3...   \n",
       "1  {'Original': {}, 'LoG': {'sigma': [1.0, 2.0, 3...   \n",
       "2  {'Original': {}, 'LoG': {'sigma': [1.0, 2.0, 3...   \n",
       "\n",
       "            diagnostics_Image-original_Hash  \\\n",
       "0  01ae3d400f3f6fdacc121a85f52fd9dba8be2253   \n",
       "1  5c66c70353901fd238191b88a2584cd8c3f645e5   \n",
       "2  9a2b123cabcc00593e4255d41cbef78f0cb63630   \n",
       "\n",
       "  diagnostics_Image-original_Dimensionality  \\\n",
       "0                                        3D   \n",
       "1                                        3D   \n",
       "2                                        3D   \n",
       "\n",
       "  diagnostics_Image-original_Spacing  ...  \\\n",
       "0        (0.9765625, 0.9765625, 3.0)  ...   \n",
       "1                (0.977, 0.977, 3.0)  ...   \n",
       "2                (0.977, 0.977, 3.0)  ...   \n",
       "\n",
       "  wavelet-LLL_gldm_HighGrayLevelEmphasis  \\\n",
       "0                     14462.536758039314   \n",
       "1                      13208.12549259126   \n",
       "2                      9142.646956472132   \n",
       "\n",
       "  wavelet-LLL_gldm_LargeDependenceEmphasis  \\\n",
       "0                       33.609142408868486   \n",
       "1                       55.600106536368784   \n",
       "2                        17.90900792971647   \n",
       "\n",
       "  wavelet-LLL_gldm_LargeDependenceHighGrayLevelEmphasis  \\\n",
       "0                                   548084.071741353      \n",
       "1                                  832176.2485225748      \n",
       "2                                 209143.44409264647      \n",
       "\n",
       "  wavelet-LLL_gldm_LargeDependenceLowGrayLevelEmphasis  \\\n",
       "0                              0.0027591623386472087     \n",
       "1                               0.004497426306875555     \n",
       "2                              0.0026732953405101414     \n",
       "\n",
       "  wavelet-LLL_gldm_LowGrayLevelEmphasis  \\\n",
       "0                0.00013875155227786726   \n",
       "1                0.00016233377171621347   \n",
       "2                 0.0003673562141585293   \n",
       "\n",
       "  wavelet-LLL_gldm_SmallDependenceEmphasis  \\\n",
       "0                       0.2677613556442223   \n",
       "1                       0.1889311894310745   \n",
       "2                       0.4029303292416708   \n",
       "\n",
       "  wavelet-LLL_gldm_SmallDependenceHighGrayLevelEmphasis  \\\n",
       "0                                 2959.5714944611627      \n",
       "1                                 1733.8368052732842      \n",
       "2                                  2838.784544208129      \n",
       "\n",
       "  wavelet-LLL_gldm_SmallDependenceLowGrayLevelEmphasis  \\\n",
       "0                             5.8227784555678714e-05     \n",
       "1                             5.3429352136211716e-05     \n",
       "2                             0.00019106863067788412     \n",
       "\n",
       "                              Patient         ROI  \n",
       "0  LUNG1-001_20180209_CT_2_GTV-1_mask  GTV-1_mask  \n",
       "1  LUNG1-002_20180526_CT_1_GTV-1_mask  GTV-1_mask  \n",
       "2  LUNG1-003_20180209_CT_1_GTV-1_mask  GTV-1_mask  \n",
       "\n",
       "[3 rows x 1257 columns]"
      ]
     },
     "execution_count": 13,
     "metadata": {},
     "output_type": "execute_result"
    }
   ],
   "source": [
    "features.head(3)"
   ]
  },
  {
   "cell_type": "markdown",
   "metadata": {},
   "source": [
    "Writing the features into the Excel file (you will find it in the 'data/features' folder):"
   ]
  },
  {
   "cell_type": "code",
   "execution_count": 14,
   "metadata": {},
   "outputs": [],
   "source": [
    "writer = pd.ExcelWriter('../data/features/extracted_features.xlsx') \n",
    "features.to_excel(writer, 'Sheet1')\n",
    "writer.save()"
   ]
  },
  {
   "cell_type": "markdown",
   "metadata": {},
   "source": [
    "## Dataset exploration"
   ]
  },
  {
   "cell_type": "markdown",
   "metadata": {},
   "source": [
    "Initialize the dataset:"
   ]
  },
  {
   "cell_type": "code",
   "execution_count": 16,
   "metadata": {},
   "outputs": [
    {
     "name": "stderr",
     "output_type": "stream",
     "text": [
      "100%|████████████████████████████████████████████████████████████████████████████████████| 3/3 [00:01<00:00,  1.60it/s]\n"
     ]
    }
   ],
   "source": [
    "parameters = {'data_path': r'../data/dcms/', #path_to_your_DICOM_data\n",
    "              'data_type': 'dcm'}    \n",
    "data_dcms = tool_box(**parameters)"
   ]
  },
  {
   "cell_type": "markdown",
   "metadata": {},
   "source": [
    "Get the default metainformation from the DICOM files and print first 10:"
   ]
  },
  {
   "cell_type": "code",
   "execution_count": 18,
   "metadata": {},
   "outputs": [
    {
     "name": "stderr",
     "output_type": "stream",
     "text": [
      "Patients processed: 100%|████████████████████████████████████████████████████████████████| 3/3 [00:02<00:00,  1.25it/s]\n"
     ]
    },
    {
     "data": {
      "text/html": [
       "<div>\n",
       "<style scoped>\n",
       "    .dataframe tbody tr th:only-of-type {\n",
       "        vertical-align: middle;\n",
       "    }\n",
       "\n",
       "    .dataframe tbody tr th {\n",
       "        vertical-align: top;\n",
       "    }\n",
       "\n",
       "    .dataframe thead th {\n",
       "        text-align: right;\n",
       "    }\n",
       "</style>\n",
       "<table border=\"1\" class=\"dataframe\">\n",
       "  <thead>\n",
       "    <tr style=\"text-align: right;\">\n",
       "      <th></th>\n",
       "      <th>Modality</th>\n",
       "      <th>SliceThickness</th>\n",
       "      <th>PixelSpacing</th>\n",
       "      <th>SeriesDate</th>\n",
       "      <th>Manufacturer</th>\n",
       "      <th>patient</th>\n",
       "      <th>slice#</th>\n",
       "    </tr>\n",
       "  </thead>\n",
       "  <tbody>\n",
       "    <tr>\n",
       "      <th>0</th>\n",
       "      <td>CT</td>\n",
       "      <td>3.0</td>\n",
       "      <td>[0.9765625, 0.9765625]</td>\n",
       "      <td>20180209</td>\n",
       "      <td>SIEMENS</td>\n",
       "      <td>LUNG1-001_20180209_CT_2</td>\n",
       "      <td>0</td>\n",
       "    </tr>\n",
       "    <tr>\n",
       "      <th>1</th>\n",
       "      <td>CT</td>\n",
       "      <td>3.0</td>\n",
       "      <td>[0.9765625, 0.9765625]</td>\n",
       "      <td>20180209</td>\n",
       "      <td>SIEMENS</td>\n",
       "      <td>LUNG1-001_20180209_CT_2</td>\n",
       "      <td>1</td>\n",
       "    </tr>\n",
       "    <tr>\n",
       "      <th>2</th>\n",
       "      <td>CT</td>\n",
       "      <td>3.0</td>\n",
       "      <td>[0.9765625, 0.9765625]</td>\n",
       "      <td>20180209</td>\n",
       "      <td>SIEMENS</td>\n",
       "      <td>LUNG1-001_20180209_CT_2</td>\n",
       "      <td>2</td>\n",
       "    </tr>\n",
       "    <tr>\n",
       "      <th>3</th>\n",
       "      <td>CT</td>\n",
       "      <td>3.0</td>\n",
       "      <td>[0.9765625, 0.9765625]</td>\n",
       "      <td>20180209</td>\n",
       "      <td>SIEMENS</td>\n",
       "      <td>LUNG1-001_20180209_CT_2</td>\n",
       "      <td>3</td>\n",
       "    </tr>\n",
       "    <tr>\n",
       "      <th>4</th>\n",
       "      <td>CT</td>\n",
       "      <td>3.0</td>\n",
       "      <td>[0.9765625, 0.9765625]</td>\n",
       "      <td>20180209</td>\n",
       "      <td>SIEMENS</td>\n",
       "      <td>LUNG1-001_20180209_CT_2</td>\n",
       "      <td>4</td>\n",
       "    </tr>\n",
       "    <tr>\n",
       "      <th>5</th>\n",
       "      <td>CT</td>\n",
       "      <td>3.0</td>\n",
       "      <td>[0.9765625, 0.9765625]</td>\n",
       "      <td>20180209</td>\n",
       "      <td>SIEMENS</td>\n",
       "      <td>LUNG1-001_20180209_CT_2</td>\n",
       "      <td>5</td>\n",
       "    </tr>\n",
       "    <tr>\n",
       "      <th>6</th>\n",
       "      <td>CT</td>\n",
       "      <td>3.0</td>\n",
       "      <td>[0.9765625, 0.9765625]</td>\n",
       "      <td>20180209</td>\n",
       "      <td>SIEMENS</td>\n",
       "      <td>LUNG1-001_20180209_CT_2</td>\n",
       "      <td>6</td>\n",
       "    </tr>\n",
       "    <tr>\n",
       "      <th>7</th>\n",
       "      <td>CT</td>\n",
       "      <td>3.0</td>\n",
       "      <td>[0.9765625, 0.9765625]</td>\n",
       "      <td>20180209</td>\n",
       "      <td>SIEMENS</td>\n",
       "      <td>LUNG1-001_20180209_CT_2</td>\n",
       "      <td>7</td>\n",
       "    </tr>\n",
       "    <tr>\n",
       "      <th>8</th>\n",
       "      <td>CT</td>\n",
       "      <td>3.0</td>\n",
       "      <td>[0.9765625, 0.9765625]</td>\n",
       "      <td>20180209</td>\n",
       "      <td>SIEMENS</td>\n",
       "      <td>LUNG1-001_20180209_CT_2</td>\n",
       "      <td>8</td>\n",
       "    </tr>\n",
       "    <tr>\n",
       "      <th>9</th>\n",
       "      <td>CT</td>\n",
       "      <td>3.0</td>\n",
       "      <td>[0.9765625, 0.9765625]</td>\n",
       "      <td>20180209</td>\n",
       "      <td>SIEMENS</td>\n",
       "      <td>LUNG1-001_20180209_CT_2</td>\n",
       "      <td>9</td>\n",
       "    </tr>\n",
       "  </tbody>\n",
       "</table>\n",
       "</div>"
      ],
      "text/plain": [
       "  Modality  SliceThickness            PixelSpacing SeriesDate Manufacturer  \\\n",
       "0       CT             3.0  [0.9765625, 0.9765625]   20180209      SIEMENS   \n",
       "1       CT             3.0  [0.9765625, 0.9765625]   20180209      SIEMENS   \n",
       "2       CT             3.0  [0.9765625, 0.9765625]   20180209      SIEMENS   \n",
       "3       CT             3.0  [0.9765625, 0.9765625]   20180209      SIEMENS   \n",
       "4       CT             3.0  [0.9765625, 0.9765625]   20180209      SIEMENS   \n",
       "5       CT             3.0  [0.9765625, 0.9765625]   20180209      SIEMENS   \n",
       "6       CT             3.0  [0.9765625, 0.9765625]   20180209      SIEMENS   \n",
       "7       CT             3.0  [0.9765625, 0.9765625]   20180209      SIEMENS   \n",
       "8       CT             3.0  [0.9765625, 0.9765625]   20180209      SIEMENS   \n",
       "9       CT             3.0  [0.9765625, 0.9765625]   20180209      SIEMENS   \n",
       "\n",
       "                   patient slice#  \n",
       "0  LUNG1-001_20180209_CT_2      0  \n",
       "1  LUNG1-001_20180209_CT_2      1  \n",
       "2  LUNG1-001_20180209_CT_2      2  \n",
       "3  LUNG1-001_20180209_CT_2      3  \n",
       "4  LUNG1-001_20180209_CT_2      4  \n",
       "5  LUNG1-001_20180209_CT_2      5  \n",
       "6  LUNG1-001_20180209_CT_2      6  \n",
       "7  LUNG1-001_20180209_CT_2      7  \n",
       "8  LUNG1-001_20180209_CT_2      8  \n",
       "9  LUNG1-001_20180209_CT_2      9  "
      ]
     },
     "execution_count": 18,
     "metadata": {},
     "output_type": "execute_result"
    }
   ],
   "source": [
    "dataset_description = data_dcms.get_dataset_description() \n",
    "dataset_description.head(10)"
   ]
  },
  {
   "cell_type": "markdown",
   "metadata": {},
   "source": [
    "You can check for the needed info by printing unique values of the tags:"
   ]
  },
  {
   "cell_type": "code",
   "execution_count": 19,
   "metadata": {},
   "outputs": [
    {
     "name": "stdout",
     "output_type": "stream",
     "text": [
      "Unique modalities found:  CT\n"
     ]
    }
   ],
   "source": [
    "print('Unique modalities found: ', np.unique(dataset_description.Modality.values)[0])"
   ]
  },
  {
   "cell_type": "markdown",
   "metadata": {},
   "source": [
    "There are two pre-set parameter dictionaries for 'CT' and 'MRI' with the extended amount of parameters, parsed from the DICOM tags. These parameters are specific for these imaging modalities. You can also send a custom list of parameters. In this case the DICOM tags should have the same names as corresponding pydicom (DICOM keyword, https://pydicom.github.io/pydicom/dev/old/base_element.html)."
   ]
  },
  {
   "cell_type": "markdown",
   "metadata": {},
   "source": [
    "Get the CT-specific metainformation from the DICOM files and print first 10:"
   ]
  },
  {
   "cell_type": "code",
   "execution_count": 21,
   "metadata": {},
   "outputs": [
    {
     "name": "stderr",
     "output_type": "stream",
     "text": [
      "100%|████████████████████████████████████████████████████████████████████████████████████| 3/3 [00:00<00:00,  3.39it/s]\n",
      "Patients processed: 100%|████████████████████████████████████████████████████████████████| 3/3 [00:02<00:00,  1.09it/s]\n"
     ]
    },
    {
     "data": {
      "text/html": [
       "<div>\n",
       "<style scoped>\n",
       "    .dataframe tbody tr th:only-of-type {\n",
       "        vertical-align: middle;\n",
       "    }\n",
       "\n",
       "    .dataframe tbody tr th {\n",
       "        vertical-align: top;\n",
       "    }\n",
       "\n",
       "    .dataframe thead th {\n",
       "        text-align: right;\n",
       "    }\n",
       "</style>\n",
       "<table border=\"1\" class=\"dataframe\">\n",
       "  <thead>\n",
       "    <tr style=\"text-align: right;\">\n",
       "      <th></th>\n",
       "      <th>PatientName</th>\n",
       "      <th>ConvolutionKernel</th>\n",
       "      <th>SliceThickness</th>\n",
       "      <th>PixelSpacing</th>\n",
       "      <th>KVP</th>\n",
       "      <th>Exposure</th>\n",
       "      <th>XRayTubeCurrent</th>\n",
       "      <th>SeriesDate</th>\n",
       "      <th>patient</th>\n",
       "      <th>slice#</th>\n",
       "    </tr>\n",
       "  </thead>\n",
       "  <tbody>\n",
       "    <tr>\n",
       "      <th>0</th>\n",
       "      <td>LUNG1-001</td>\n",
       "      <td>B19f</td>\n",
       "      <td>3.0</td>\n",
       "      <td>[0.9765625, 0.9765625]</td>\n",
       "      <td>120.0</td>\n",
       "      <td>400</td>\n",
       "      <td>80</td>\n",
       "      <td>20180209</td>\n",
       "      <td>LUNG1-001_20180209_CT_2</td>\n",
       "      <td>0</td>\n",
       "    </tr>\n",
       "    <tr>\n",
       "      <th>1</th>\n",
       "      <td>LUNG1-001</td>\n",
       "      <td>B19f</td>\n",
       "      <td>3.0</td>\n",
       "      <td>[0.9765625, 0.9765625]</td>\n",
       "      <td>120.0</td>\n",
       "      <td>400</td>\n",
       "      <td>80</td>\n",
       "      <td>20180209</td>\n",
       "      <td>LUNG1-001_20180209_CT_2</td>\n",
       "      <td>1</td>\n",
       "    </tr>\n",
       "    <tr>\n",
       "      <th>2</th>\n",
       "      <td>LUNG1-001</td>\n",
       "      <td>B19f</td>\n",
       "      <td>3.0</td>\n",
       "      <td>[0.9765625, 0.9765625]</td>\n",
       "      <td>120.0</td>\n",
       "      <td>400</td>\n",
       "      <td>80</td>\n",
       "      <td>20180209</td>\n",
       "      <td>LUNG1-001_20180209_CT_2</td>\n",
       "      <td>2</td>\n",
       "    </tr>\n",
       "    <tr>\n",
       "      <th>3</th>\n",
       "      <td>LUNG1-001</td>\n",
       "      <td>B19f</td>\n",
       "      <td>3.0</td>\n",
       "      <td>[0.9765625, 0.9765625]</td>\n",
       "      <td>120.0</td>\n",
       "      <td>400</td>\n",
       "      <td>80</td>\n",
       "      <td>20180209</td>\n",
       "      <td>LUNG1-001_20180209_CT_2</td>\n",
       "      <td>3</td>\n",
       "    </tr>\n",
       "    <tr>\n",
       "      <th>4</th>\n",
       "      <td>LUNG1-001</td>\n",
       "      <td>B19f</td>\n",
       "      <td>3.0</td>\n",
       "      <td>[0.9765625, 0.9765625]</td>\n",
       "      <td>120.0</td>\n",
       "      <td>400</td>\n",
       "      <td>80</td>\n",
       "      <td>20180209</td>\n",
       "      <td>LUNG1-001_20180209_CT_2</td>\n",
       "      <td>4</td>\n",
       "    </tr>\n",
       "    <tr>\n",
       "      <th>5</th>\n",
       "      <td>LUNG1-001</td>\n",
       "      <td>B19f</td>\n",
       "      <td>3.0</td>\n",
       "      <td>[0.9765625, 0.9765625]</td>\n",
       "      <td>120.0</td>\n",
       "      <td>400</td>\n",
       "      <td>80</td>\n",
       "      <td>20180209</td>\n",
       "      <td>LUNG1-001_20180209_CT_2</td>\n",
       "      <td>5</td>\n",
       "    </tr>\n",
       "    <tr>\n",
       "      <th>6</th>\n",
       "      <td>LUNG1-001</td>\n",
       "      <td>B19f</td>\n",
       "      <td>3.0</td>\n",
       "      <td>[0.9765625, 0.9765625]</td>\n",
       "      <td>120.0</td>\n",
       "      <td>400</td>\n",
       "      <td>80</td>\n",
       "      <td>20180209</td>\n",
       "      <td>LUNG1-001_20180209_CT_2</td>\n",
       "      <td>6</td>\n",
       "    </tr>\n",
       "    <tr>\n",
       "      <th>7</th>\n",
       "      <td>LUNG1-001</td>\n",
       "      <td>B19f</td>\n",
       "      <td>3.0</td>\n",
       "      <td>[0.9765625, 0.9765625]</td>\n",
       "      <td>120.0</td>\n",
       "      <td>400</td>\n",
       "      <td>80</td>\n",
       "      <td>20180209</td>\n",
       "      <td>LUNG1-001_20180209_CT_2</td>\n",
       "      <td>7</td>\n",
       "    </tr>\n",
       "    <tr>\n",
       "      <th>8</th>\n",
       "      <td>LUNG1-001</td>\n",
       "      <td>B19f</td>\n",
       "      <td>3.0</td>\n",
       "      <td>[0.9765625, 0.9765625]</td>\n",
       "      <td>120.0</td>\n",
       "      <td>400</td>\n",
       "      <td>80</td>\n",
       "      <td>20180209</td>\n",
       "      <td>LUNG1-001_20180209_CT_2</td>\n",
       "      <td>8</td>\n",
       "    </tr>\n",
       "    <tr>\n",
       "      <th>9</th>\n",
       "      <td>LUNG1-001</td>\n",
       "      <td>B19f</td>\n",
       "      <td>3.0</td>\n",
       "      <td>[0.9765625, 0.9765625]</td>\n",
       "      <td>120.0</td>\n",
       "      <td>400</td>\n",
       "      <td>80</td>\n",
       "      <td>20180209</td>\n",
       "      <td>LUNG1-001_20180209_CT_2</td>\n",
       "      <td>9</td>\n",
       "    </tr>\n",
       "  </tbody>\n",
       "</table>\n",
       "</div>"
      ],
      "text/plain": [
       "  PatientName ConvolutionKernel  SliceThickness            PixelSpacing  \\\n",
       "0   LUNG1-001              B19f             3.0  [0.9765625, 0.9765625]   \n",
       "1   LUNG1-001              B19f             3.0  [0.9765625, 0.9765625]   \n",
       "2   LUNG1-001              B19f             3.0  [0.9765625, 0.9765625]   \n",
       "3   LUNG1-001              B19f             3.0  [0.9765625, 0.9765625]   \n",
       "4   LUNG1-001              B19f             3.0  [0.9765625, 0.9765625]   \n",
       "5   LUNG1-001              B19f             3.0  [0.9765625, 0.9765625]   \n",
       "6   LUNG1-001              B19f             3.0  [0.9765625, 0.9765625]   \n",
       "7   LUNG1-001              B19f             3.0  [0.9765625, 0.9765625]   \n",
       "8   LUNG1-001              B19f             3.0  [0.9765625, 0.9765625]   \n",
       "9   LUNG1-001              B19f             3.0  [0.9765625, 0.9765625]   \n",
       "\n",
       "     KVP Exposure XRayTubeCurrent SeriesDate                  patient slice#  \n",
       "0  120.0      400              80   20180209  LUNG1-001_20180209_CT_2      0  \n",
       "1  120.0      400              80   20180209  LUNG1-001_20180209_CT_2      1  \n",
       "2  120.0      400              80   20180209  LUNG1-001_20180209_CT_2      2  \n",
       "3  120.0      400              80   20180209  LUNG1-001_20180209_CT_2      3  \n",
       "4  120.0      400              80   20180209  LUNG1-001_20180209_CT_2      4  \n",
       "5  120.0      400              80   20180209  LUNG1-001_20180209_CT_2      5  \n",
       "6  120.0      400              80   20180209  LUNG1-001_20180209_CT_2      6  \n",
       "7  120.0      400              80   20180209  LUNG1-001_20180209_CT_2      7  \n",
       "8  120.0      400              80   20180209  LUNG1-001_20180209_CT_2      8  \n",
       "9  120.0      400              80   20180209  LUNG1-001_20180209_CT_2      9  "
      ]
     },
     "execution_count": 21,
     "metadata": {},
     "output_type": "execute_result"
    }
   ],
   "source": [
    "ct_dcms = tool_box(**parameters)\n",
    "dataset_description = ct_dcms.get_dataset_description('CT') \n",
    "dataset_description.head(10)"
   ]
  },
  {
   "cell_type": "markdown",
   "metadata": {},
   "source": [
    "Let's plot some of the scans parameters:"
   ]
  },
  {
   "cell_type": "code",
   "execution_count": 22,
   "metadata": {},
   "outputs": [
    {
     "data": {
      "image/png": "[encoded data removed]",
      "text/plain": [
       "<Figure size 1800x1080 with 6 Axes>"
      ]
     },
     "metadata": {},
     "output_type": "display_data"
    }
   ],
   "source": [
    "sb.set(context='poster', style='whitegrid')\n",
    "\n",
    "study_date = sorted([ 'Nan' if x=='' or x=='NaN' else str(x[0:4]) for x in list(dataset_description['SeriesDate'])])[2:]\n",
    "conv_kernel =['Nan' if x=='' or x=='NaN' else x for x in list(dataset_description['ConvolutionKernel'])]\n",
    "tube_current =[-1 if x=='' or x=='NaN' else x for x in list(dataset_description['XRayTubeCurrent'])]\n",
    "exposure =[-1 if x=='' or x=='NaN' else x for x in list(dataset_description['Exposure'])]\n",
    "ps = sorted([(x[0]) for x in list(filter(lambda x: x != 'NaN', dataset_description['PixelSpacing'].values))])\n",
    "sl_th = sorted([str(x)[0:3] for x in list(filter(lambda x: x != 'NaN', dataset_description['SliceThickness'].values))])\n",
    "figures,descriptions = [study_date,conv_kernel,tube_current,exposure,ps,sl_th],['Study Date','Conv Kernel','Tube Current','Exposure','Pixel spacing','Slice Thickness']\n",
    "\n",
    "fig,ax = plt.subplots(2,3,figsize=(25,15))\n",
    "for i in range(2):\n",
    "    for j in range(3):\n",
    "        ax[i,j].hist(figures.pop(0),alpha=0.7)\n",
    "        ax[i,j].set_title(descriptions.pop(0),fontsize=20)"
   ]
  }
 ],
 "metadata": {
  "kernelspec": {
   "display_name": "Python 3",
   "language": "python",
   "name": "python3"
  },
  "language_info": {
   "codemirror_mode": {
    "name": "ipython",
    "version": 3
   },
   "file_extension": ".py",
   "mimetype": "text/x-python",
   "name": "python",
   "nbconvert_exporter": "python",
   "pygments_lexer": "ipython3",
   "version": "3.7.1"
  }
 },
 "nbformat": 4,
 "nbformat_minor": 2
}
