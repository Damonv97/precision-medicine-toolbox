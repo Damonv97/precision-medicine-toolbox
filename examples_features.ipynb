{
 "cells": [
  {
   "cell_type": "markdown",
   "metadata": {},
   "source": [
    "# Examples of feature set class usage:"
   ]
  },
  {
   "cell_type": "code",
   "execution_count": 6,
   "metadata": {},
   "outputs": [],
   "source": [
    "from features_set import features_set\n",
    "import pandas as pd"
   ]
  },
  {
   "cell_type": "code",
   "execution_count": null,
   "metadata": {},
   "outputs": [],
   "source": []
  },
  {
   "cell_type": "markdown",
   "metadata": {},
   "source": [
    "In order to demonstrate the functionality of the class we generated the binary outcomes for open source survival data for Lung1 NSCLC dataset.\n",
    "'Features.xlsx' file contains radiomics features, extracted from Lung1 NSCLC dataset (https://wiki.cancerimagingarchive.net/display/Public/NSCLC-Radiomics). Clinical data for this dataset is available via the same link."
   ]
  },
  {
   "cell_type": "code",
   "execution_count": 7,
   "metadata": {},
   "outputs": [],
   "source": [
    "# The code to generate the binary outcomes for 1, 1.5 and 2 year boundaries\n",
    "# loading file with Lung1 clinical data\n",
    "clinical_df = pd.read_csv('./data/features/NSCLC Radiomics Lung1.clinical-version3-Oct 2019.csv')\n",
    "# adding boolean 1-,1.5-,2-year survival variables\n",
    "for i in [1,1.5,2]:\n",
    "    clinical_df['%syearsurvival'%i] = clinical_df['Survival.time'] > 365*i\n",
    "    clinical_df.loc[(clinical_df['Survival.time'] <= 365*i)&(clinical_df['deadstatus.event']==0), '%syearsurvival'%i] = None\n",
    "# save the extended clinical data\n",
    "clinical_df.to_excel('./data/features/extended_clinical_df.xlsx')"
   ]
  },
  {
   "cell_type": "code",
   "execution_count": null,
   "metadata": {},
   "outputs": [],
   "source": []
  },
  {
   "cell_type": "markdown",
   "metadata": {},
   "source": [
    "### Initialization of the feature class"
   ]
  },
  {
   "cell_type": "code",
   "execution_count": 8,
   "metadata": {},
   "outputs": [
    {
     "ename": "XLRDError",
     "evalue": "Unsupported format, or corrupt file: Expected BOF record; found b'\\n\\n\\n\\n\\n<!D'",
     "output_type": "error",
     "traceback": [
      "\u001b[1;31m---------------------------------------------------------------------------\u001b[0m",
      "\u001b[1;31mXLRDError\u001b[0m                                 Traceback (most recent call last)",
      "\u001b[1;32m<ipython-input-8-31ca571a9572>\u001b[0m in \u001b[0;36m<module>\u001b[1;34m()\u001b[0m\n\u001b[0;32m      9\u001b[0m \u001b[1;33m\u001b[0m\u001b[0m\n\u001b[0;32m     10\u001b[0m \u001b[1;31m# initialize feature set\u001b[0m\u001b[1;33m\u001b[0m\u001b[1;33m\u001b[0m\u001b[0m\n\u001b[1;32m---> 11\u001b[1;33m \u001b[0mrad_features\u001b[0m \u001b[1;33m=\u001b[0m \u001b[0mfeatures_set\u001b[0m\u001b[1;33m(\u001b[0m\u001b[1;33m**\u001b[0m\u001b[0mparameters\u001b[0m\u001b[1;33m)\u001b[0m\u001b[1;33m\u001b[0m\u001b[0m\n\u001b[0m\u001b[0;32m     12\u001b[0m \u001b[1;31m# excluding patients with unknown outcome (in case they are represented)\u001b[0m\u001b[1;33m\u001b[0m\u001b[1;33m\u001b[0m\u001b[0m\n\u001b[0;32m     13\u001b[0m \u001b[0mrad_features\u001b[0m\u001b[1;33m.\u001b[0m\u001b[0mhandle_nan\u001b[0m\u001b[1;33m(\u001b[0m\u001b[0maxis\u001b[0m\u001b[1;33m=\u001b[0m\u001b[1;36m1\u001b[0m\u001b[1;33m)\u001b[0m\u001b[1;33m\u001b[0m\u001b[0m\n",
      "\u001b[1;32m~\\Documents\\GitHub\\The_Dlab_toolbox\\features_set.py\u001b[0m in \u001b[0;36m__init__\u001b[1;34m(self, feature_path, outcome_path, feature_column, feature_column_to_drop, outcome_column, patient_column, patient_in_outcome_column, patient_to_drop)\u001b[0m\n\u001b[0;32m     42\u001b[0m         \u001b[0mself\u001b[0m\u001b[1;33m.\u001b[0m\u001b[0m_class_label\u001b[0m \u001b[1;33m=\u001b[0m \u001b[1;33m[\u001b[0m\u001b[1;33m]\u001b[0m\u001b[1;33m\u001b[0m\u001b[0m\n\u001b[0;32m     43\u001b[0m         \u001b[0mself\u001b[0m\u001b[1;33m.\u001b[0m\u001b[0m_outcome\u001b[0m \u001b[1;33m=\u001b[0m \u001b[1;33m[\u001b[0m\u001b[1;33m]\u001b[0m\u001b[1;33m\u001b[0m\u001b[0m\n\u001b[1;32m---> 44\u001b[1;33m         \u001b[0mself\u001b[0m\u001b[1;33m.\u001b[0m\u001b[0m__read_file\u001b[0m\u001b[1;33m(\u001b[0m\u001b[1;33m)\u001b[0m\u001b[1;33m\u001b[0m\u001b[0m\n\u001b[0m\u001b[0;32m     45\u001b[0m \u001b[1;33m\u001b[0m\u001b[0m\n\u001b[0;32m     46\u001b[0m     \u001b[1;32mdef\u001b[0m \u001b[0m__read_file\u001b[0m\u001b[1;33m(\u001b[0m\u001b[0mself\u001b[0m\u001b[1;33m)\u001b[0m\u001b[1;33m:\u001b[0m\u001b[1;33m\u001b[0m\u001b[0m\n",
      "\u001b[1;32m~\\Documents\\GitHub\\The_Dlab_toolbox\\features_set.py\u001b[0m in \u001b[0;36m__read_file\u001b[1;34m(self)\u001b[0m\n\u001b[0;32m     49\u001b[0m             \u001b[0mfeature_df\u001b[0m \u001b[1;33m=\u001b[0m \u001b[0mpd\u001b[0m\u001b[1;33m.\u001b[0m\u001b[0mread_csv\u001b[0m\u001b[1;33m(\u001b[0m\u001b[0mself\u001b[0m\u001b[1;33m.\u001b[0m\u001b[0m_feature_path\u001b[0m\u001b[1;33m)\u001b[0m\u001b[1;33m\u001b[0m\u001b[0m\n\u001b[0;32m     50\u001b[0m         \u001b[1;32melif\u001b[0m \u001b[1;34m'.xls'\u001b[0m \u001b[1;32min\u001b[0m \u001b[0mself\u001b[0m\u001b[1;33m.\u001b[0m\u001b[0m_feature_path\u001b[0m\u001b[1;33m:\u001b[0m\u001b[1;33m\u001b[0m\u001b[0m\n\u001b[1;32m---> 51\u001b[1;33m             \u001b[0mfeature_df\u001b[0m \u001b[1;33m=\u001b[0m \u001b[0mpd\u001b[0m\u001b[1;33m.\u001b[0m\u001b[0mread_excel\u001b[0m\u001b[1;33m(\u001b[0m\u001b[0mself\u001b[0m\u001b[1;33m.\u001b[0m\u001b[0m_feature_path\u001b[0m\u001b[1;33m)\u001b[0m\u001b[1;33m\u001b[0m\u001b[0m\n\u001b[0m\u001b[0;32m     52\u001b[0m         \u001b[1;32melse\u001b[0m\u001b[1;33m:\u001b[0m\u001b[1;33m\u001b[0m\u001b[0m\n\u001b[0;32m     53\u001b[0m             \u001b[0mprint\u001b[0m\u001b[1;33m(\u001b[0m\u001b[1;34m'Data format is not supported'\u001b[0m\u001b[1;33m)\u001b[0m\u001b[1;33m\u001b[0m\u001b[0m\n",
      "\u001b[1;32m~\\AppData\\Roaming\\Python\\Python36\\site-packages\\pandas\\util\\_decorators.py\u001b[0m in \u001b[0;36mwrapper\u001b[1;34m(*args, **kwargs)\u001b[0m\n\u001b[0;32m    206\u001b[0m                 \u001b[1;32melse\u001b[0m\u001b[1;33m:\u001b[0m\u001b[1;33m\u001b[0m\u001b[0m\n\u001b[0;32m    207\u001b[0m                     \u001b[0mkwargs\u001b[0m\u001b[1;33m[\u001b[0m\u001b[0mnew_arg_name\u001b[0m\u001b[1;33m]\u001b[0m \u001b[1;33m=\u001b[0m \u001b[0mnew_arg_value\u001b[0m\u001b[1;33m\u001b[0m\u001b[0m\n\u001b[1;32m--> 208\u001b[1;33m             \u001b[1;32mreturn\u001b[0m \u001b[0mfunc\u001b[0m\u001b[1;33m(\u001b[0m\u001b[1;33m*\u001b[0m\u001b[0margs\u001b[0m\u001b[1;33m,\u001b[0m \u001b[1;33m**\u001b[0m\u001b[0mkwargs\u001b[0m\u001b[1;33m)\u001b[0m\u001b[1;33m\u001b[0m\u001b[0m\n\u001b[0m\u001b[0;32m    209\u001b[0m \u001b[1;33m\u001b[0m\u001b[0m\n\u001b[0;32m    210\u001b[0m         \u001b[1;32mreturn\u001b[0m \u001b[0mwrapper\u001b[0m\u001b[1;33m\u001b[0m\u001b[0m\n",
      "\u001b[1;32m~\\AppData\\Roaming\\Python\\Python36\\site-packages\\pandas\\io\\excel\\_base.py\u001b[0m in \u001b[0;36mread_excel\u001b[1;34m(io, sheet_name, header, names, index_col, usecols, squeeze, dtype, engine, converters, true_values, false_values, skiprows, nrows, na_values, keep_default_na, verbose, parse_dates, date_parser, thousands, comment, skip_footer, skipfooter, convert_float, mangle_dupe_cols, **kwds)\u001b[0m\n\u001b[0;32m    308\u001b[0m \u001b[1;33m\u001b[0m\u001b[0m\n\u001b[0;32m    309\u001b[0m     \u001b[1;32mif\u001b[0m \u001b[1;32mnot\u001b[0m \u001b[0misinstance\u001b[0m\u001b[1;33m(\u001b[0m\u001b[0mio\u001b[0m\u001b[1;33m,\u001b[0m \u001b[0mExcelFile\u001b[0m\u001b[1;33m)\u001b[0m\u001b[1;33m:\u001b[0m\u001b[1;33m\u001b[0m\u001b[0m\n\u001b[1;32m--> 310\u001b[1;33m         \u001b[0mio\u001b[0m \u001b[1;33m=\u001b[0m \u001b[0mExcelFile\u001b[0m\u001b[1;33m(\u001b[0m\u001b[0mio\u001b[0m\u001b[1;33m,\u001b[0m \u001b[0mengine\u001b[0m\u001b[1;33m=\u001b[0m\u001b[0mengine\u001b[0m\u001b[1;33m)\u001b[0m\u001b[1;33m\u001b[0m\u001b[0m\n\u001b[0m\u001b[0;32m    311\u001b[0m     \u001b[1;32melif\u001b[0m \u001b[0mengine\u001b[0m \u001b[1;32mand\u001b[0m \u001b[0mengine\u001b[0m \u001b[1;33m!=\u001b[0m \u001b[0mio\u001b[0m\u001b[1;33m.\u001b[0m\u001b[0mengine\u001b[0m\u001b[1;33m:\u001b[0m\u001b[1;33m\u001b[0m\u001b[0m\n\u001b[0;32m    312\u001b[0m         raise ValueError(\n",
      "\u001b[1;32m~\\AppData\\Roaming\\Python\\Python36\\site-packages\\pandas\\io\\excel\\_base.py\u001b[0m in \u001b[0;36m__init__\u001b[1;34m(self, io, engine)\u001b[0m\n\u001b[0;32m    817\u001b[0m         \u001b[0mself\u001b[0m\u001b[1;33m.\u001b[0m\u001b[0m_io\u001b[0m \u001b[1;33m=\u001b[0m \u001b[0m_stringify_path\u001b[0m\u001b[1;33m(\u001b[0m\u001b[0mio\u001b[0m\u001b[1;33m)\u001b[0m\u001b[1;33m\u001b[0m\u001b[0m\n\u001b[0;32m    818\u001b[0m \u001b[1;33m\u001b[0m\u001b[0m\n\u001b[1;32m--> 819\u001b[1;33m         \u001b[0mself\u001b[0m\u001b[1;33m.\u001b[0m\u001b[0m_reader\u001b[0m \u001b[1;33m=\u001b[0m \u001b[0mself\u001b[0m\u001b[1;33m.\u001b[0m\u001b[0m_engines\u001b[0m\u001b[1;33m[\u001b[0m\u001b[0mengine\u001b[0m\u001b[1;33m]\u001b[0m\u001b[1;33m(\u001b[0m\u001b[0mself\u001b[0m\u001b[1;33m.\u001b[0m\u001b[0m_io\u001b[0m\u001b[1;33m)\u001b[0m\u001b[1;33m\u001b[0m\u001b[0m\n\u001b[0m\u001b[0;32m    820\u001b[0m \u001b[1;33m\u001b[0m\u001b[0m\n\u001b[0;32m    821\u001b[0m     \u001b[1;32mdef\u001b[0m \u001b[0m__fspath__\u001b[0m\u001b[1;33m(\u001b[0m\u001b[0mself\u001b[0m\u001b[1;33m)\u001b[0m\u001b[1;33m:\u001b[0m\u001b[1;33m\u001b[0m\u001b[0m\n",
      "\u001b[1;32m~\\AppData\\Roaming\\Python\\Python36\\site-packages\\pandas\\io\\excel\\_xlrd.py\u001b[0m in \u001b[0;36m__init__\u001b[1;34m(self, filepath_or_buffer)\u001b[0m\n\u001b[0;32m     19\u001b[0m         \u001b[0merr_msg\u001b[0m \u001b[1;33m=\u001b[0m \u001b[1;34m\"Install xlrd >= 1.0.0 for Excel support\"\u001b[0m\u001b[1;33m\u001b[0m\u001b[0m\n\u001b[0;32m     20\u001b[0m         \u001b[0mimport_optional_dependency\u001b[0m\u001b[1;33m(\u001b[0m\u001b[1;34m\"xlrd\"\u001b[0m\u001b[1;33m,\u001b[0m \u001b[0mextra\u001b[0m\u001b[1;33m=\u001b[0m\u001b[0merr_msg\u001b[0m\u001b[1;33m)\u001b[0m\u001b[1;33m\u001b[0m\u001b[0m\n\u001b[1;32m---> 21\u001b[1;33m         \u001b[0msuper\u001b[0m\u001b[1;33m(\u001b[0m\u001b[1;33m)\u001b[0m\u001b[1;33m.\u001b[0m\u001b[0m__init__\u001b[0m\u001b[1;33m(\u001b[0m\u001b[0mfilepath_or_buffer\u001b[0m\u001b[1;33m)\u001b[0m\u001b[1;33m\u001b[0m\u001b[0m\n\u001b[0m\u001b[0;32m     22\u001b[0m \u001b[1;33m\u001b[0m\u001b[0m\n\u001b[0;32m     23\u001b[0m     \u001b[1;33m@\u001b[0m\u001b[0mproperty\u001b[0m\u001b[1;33m\u001b[0m\u001b[0m\n",
      "\u001b[1;32m~\\AppData\\Roaming\\Python\\Python36\\site-packages\\pandas\\io\\excel\\_base.py\u001b[0m in \u001b[0;36m__init__\u001b[1;34m(self, filepath_or_buffer)\u001b[0m\n\u001b[0;32m    357\u001b[0m             \u001b[0mself\u001b[0m\u001b[1;33m.\u001b[0m\u001b[0mbook\u001b[0m \u001b[1;33m=\u001b[0m \u001b[0mself\u001b[0m\u001b[1;33m.\u001b[0m\u001b[0mload_workbook\u001b[0m\u001b[1;33m(\u001b[0m\u001b[0mfilepath_or_buffer\u001b[0m\u001b[1;33m)\u001b[0m\u001b[1;33m\u001b[0m\u001b[0m\n\u001b[0;32m    358\u001b[0m         \u001b[1;32melif\u001b[0m \u001b[0misinstance\u001b[0m\u001b[1;33m(\u001b[0m\u001b[0mfilepath_or_buffer\u001b[0m\u001b[1;33m,\u001b[0m \u001b[0mstr\u001b[0m\u001b[1;33m)\u001b[0m\u001b[1;33m:\u001b[0m\u001b[1;33m\u001b[0m\u001b[0m\n\u001b[1;32m--> 359\u001b[1;33m             \u001b[0mself\u001b[0m\u001b[1;33m.\u001b[0m\u001b[0mbook\u001b[0m \u001b[1;33m=\u001b[0m \u001b[0mself\u001b[0m\u001b[1;33m.\u001b[0m\u001b[0mload_workbook\u001b[0m\u001b[1;33m(\u001b[0m\u001b[0mfilepath_or_buffer\u001b[0m\u001b[1;33m)\u001b[0m\u001b[1;33m\u001b[0m\u001b[0m\n\u001b[0m\u001b[0;32m    360\u001b[0m         \u001b[1;32melse\u001b[0m\u001b[1;33m:\u001b[0m\u001b[1;33m\u001b[0m\u001b[0m\n\u001b[0;32m    361\u001b[0m             raise ValueError(\n",
      "\u001b[1;32m~\\AppData\\Roaming\\Python\\Python36\\site-packages\\pandas\\io\\excel\\_xlrd.py\u001b[0m in \u001b[0;36mload_workbook\u001b[1;34m(self, filepath_or_buffer)\u001b[0m\n\u001b[0;32m     34\u001b[0m             \u001b[1;32mreturn\u001b[0m \u001b[0mopen_workbook\u001b[0m\u001b[1;33m(\u001b[0m\u001b[0mfile_contents\u001b[0m\u001b[1;33m=\u001b[0m\u001b[0mdata\u001b[0m\u001b[1;33m)\u001b[0m\u001b[1;33m\u001b[0m\u001b[0m\n\u001b[0;32m     35\u001b[0m         \u001b[1;32melse\u001b[0m\u001b[1;33m:\u001b[0m\u001b[1;33m\u001b[0m\u001b[0m\n\u001b[1;32m---> 36\u001b[1;33m             \u001b[1;32mreturn\u001b[0m \u001b[0mopen_workbook\u001b[0m\u001b[1;33m(\u001b[0m\u001b[0mfilepath_or_buffer\u001b[0m\u001b[1;33m)\u001b[0m\u001b[1;33m\u001b[0m\u001b[0m\n\u001b[0m\u001b[0;32m     37\u001b[0m \u001b[1;33m\u001b[0m\u001b[0m\n\u001b[0;32m     38\u001b[0m     \u001b[1;33m@\u001b[0m\u001b[0mproperty\u001b[0m\u001b[1;33m\u001b[0m\u001b[0m\n",
      "\u001b[1;32m~\\AppData\\Local\\Continuum\\anaconda3\\lib\\site-packages\\xlrd\\__init__.py\u001b[0m in \u001b[0;36mopen_workbook\u001b[1;34m(filename, logfile, verbosity, use_mmap, file_contents, encoding_override, formatting_info, on_demand, ragged_rows)\u001b[0m\n\u001b[0;32m    160\u001b[0m         \u001b[0mformatting_info\u001b[0m\u001b[1;33m=\u001b[0m\u001b[0mformatting_info\u001b[0m\u001b[1;33m,\u001b[0m\u001b[1;33m\u001b[0m\u001b[0m\n\u001b[0;32m    161\u001b[0m         \u001b[0mon_demand\u001b[0m\u001b[1;33m=\u001b[0m\u001b[0mon_demand\u001b[0m\u001b[1;33m,\u001b[0m\u001b[1;33m\u001b[0m\u001b[0m\n\u001b[1;32m--> 162\u001b[1;33m         \u001b[0mragged_rows\u001b[0m\u001b[1;33m=\u001b[0m\u001b[0mragged_rows\u001b[0m\u001b[1;33m,\u001b[0m\u001b[1;33m\u001b[0m\u001b[0m\n\u001b[0m\u001b[0;32m    163\u001b[0m         )\n\u001b[0;32m    164\u001b[0m     \u001b[1;32mreturn\u001b[0m \u001b[0mbk\u001b[0m\u001b[1;33m\u001b[0m\u001b[0m\n",
      "\u001b[1;32m~\\AppData\\Local\\Continuum\\anaconda3\\lib\\site-packages\\xlrd\\book.py\u001b[0m in \u001b[0;36mopen_workbook_xls\u001b[1;34m(filename, logfile, verbosity, use_mmap, file_contents, encoding_override, formatting_info, on_demand, ragged_rows)\u001b[0m\n\u001b[0;32m     89\u001b[0m         \u001b[0mt1\u001b[0m \u001b[1;33m=\u001b[0m \u001b[0mtime\u001b[0m\u001b[1;33m.\u001b[0m\u001b[0mclock\u001b[0m\u001b[1;33m(\u001b[0m\u001b[1;33m)\u001b[0m\u001b[1;33m\u001b[0m\u001b[0m\n\u001b[0;32m     90\u001b[0m         \u001b[0mbk\u001b[0m\u001b[1;33m.\u001b[0m\u001b[0mload_time_stage_1\u001b[0m \u001b[1;33m=\u001b[0m \u001b[0mt1\u001b[0m \u001b[1;33m-\u001b[0m \u001b[0mt0\u001b[0m\u001b[1;33m\u001b[0m\u001b[0m\n\u001b[1;32m---> 91\u001b[1;33m         \u001b[0mbiff_version\u001b[0m \u001b[1;33m=\u001b[0m \u001b[0mbk\u001b[0m\u001b[1;33m.\u001b[0m\u001b[0mgetbof\u001b[0m\u001b[1;33m(\u001b[0m\u001b[0mXL_WORKBOOK_GLOBALS\u001b[0m\u001b[1;33m)\u001b[0m\u001b[1;33m\u001b[0m\u001b[0m\n\u001b[0m\u001b[0;32m     92\u001b[0m         \u001b[1;32mif\u001b[0m \u001b[1;32mnot\u001b[0m \u001b[0mbiff_version\u001b[0m\u001b[1;33m:\u001b[0m\u001b[1;33m\u001b[0m\u001b[0m\n\u001b[0;32m     93\u001b[0m             \u001b[1;32mraise\u001b[0m \u001b[0mXLRDError\u001b[0m\u001b[1;33m(\u001b[0m\u001b[1;34m\"Can't determine file's BIFF version\"\u001b[0m\u001b[1;33m)\u001b[0m\u001b[1;33m\u001b[0m\u001b[0m\n",
      "\u001b[1;32m~\\AppData\\Local\\Continuum\\anaconda3\\lib\\site-packages\\xlrd\\book.py\u001b[0m in \u001b[0;36mgetbof\u001b[1;34m(self, rqd_stream)\u001b[0m\n\u001b[0;32m   1269\u001b[0m             \u001b[0mbof_error\u001b[0m\u001b[1;33m(\u001b[0m\u001b[1;34m'Expected BOF record; met end of file'\u001b[0m\u001b[1;33m)\u001b[0m\u001b[1;33m\u001b[0m\u001b[0m\n\u001b[0;32m   1270\u001b[0m         \u001b[1;32mif\u001b[0m \u001b[0mopcode\u001b[0m \u001b[1;32mnot\u001b[0m \u001b[1;32min\u001b[0m \u001b[0mbofcodes\u001b[0m\u001b[1;33m:\u001b[0m\u001b[1;33m\u001b[0m\u001b[0m\n\u001b[1;32m-> 1271\u001b[1;33m             \u001b[0mbof_error\u001b[0m\u001b[1;33m(\u001b[0m\u001b[1;34m'Expected BOF record; found %r'\u001b[0m \u001b[1;33m%\u001b[0m \u001b[0mself\u001b[0m\u001b[1;33m.\u001b[0m\u001b[0mmem\u001b[0m\u001b[1;33m[\u001b[0m\u001b[0msavpos\u001b[0m\u001b[1;33m:\u001b[0m\u001b[0msavpos\u001b[0m\u001b[1;33m+\u001b[0m\u001b[1;36m8\u001b[0m\u001b[1;33m]\u001b[0m\u001b[1;33m)\u001b[0m\u001b[1;33m\u001b[0m\u001b[0m\n\u001b[0m\u001b[0;32m   1272\u001b[0m         \u001b[0mlength\u001b[0m \u001b[1;33m=\u001b[0m \u001b[0mself\u001b[0m\u001b[1;33m.\u001b[0m\u001b[0mget2bytes\u001b[0m\u001b[1;33m(\u001b[0m\u001b[1;33m)\u001b[0m\u001b[1;33m\u001b[0m\u001b[0m\n\u001b[0;32m   1273\u001b[0m         \u001b[1;32mif\u001b[0m \u001b[0mlength\u001b[0m \u001b[1;33m==\u001b[0m \u001b[0mMY_EOF\u001b[0m\u001b[1;33m:\u001b[0m\u001b[1;33m\u001b[0m\u001b[0m\n",
      "\u001b[1;32m~\\AppData\\Local\\Continuum\\anaconda3\\lib\\site-packages\\xlrd\\book.py\u001b[0m in \u001b[0;36mbof_error\u001b[1;34m(msg)\u001b[0m\n\u001b[0;32m   1263\u001b[0m         \u001b[1;32mif\u001b[0m \u001b[0mDEBUG\u001b[0m\u001b[1;33m:\u001b[0m \u001b[0mprint\u001b[0m\u001b[1;33m(\u001b[0m\u001b[1;34m\"reqd: 0x%04x\"\u001b[0m \u001b[1;33m%\u001b[0m \u001b[0mrqd_stream\u001b[0m\u001b[1;33m,\u001b[0m \u001b[0mfile\u001b[0m\u001b[1;33m=\u001b[0m\u001b[0mself\u001b[0m\u001b[1;33m.\u001b[0m\u001b[0mlogfile\u001b[0m\u001b[1;33m)\u001b[0m\u001b[1;33m\u001b[0m\u001b[0m\n\u001b[0;32m   1264\u001b[0m         \u001b[1;32mdef\u001b[0m \u001b[0mbof_error\u001b[0m\u001b[1;33m(\u001b[0m\u001b[0mmsg\u001b[0m\u001b[1;33m)\u001b[0m\u001b[1;33m:\u001b[0m\u001b[1;33m\u001b[0m\u001b[0m\n\u001b[1;32m-> 1265\u001b[1;33m             \u001b[1;32mraise\u001b[0m \u001b[0mXLRDError\u001b[0m\u001b[1;33m(\u001b[0m\u001b[1;34m'Unsupported format, or corrupt file: '\u001b[0m \u001b[1;33m+\u001b[0m \u001b[0mmsg\u001b[0m\u001b[1;33m)\u001b[0m\u001b[1;33m\u001b[0m\u001b[0m\n\u001b[0m\u001b[0;32m   1266\u001b[0m         \u001b[0msavpos\u001b[0m \u001b[1;33m=\u001b[0m \u001b[0mself\u001b[0m\u001b[1;33m.\u001b[0m\u001b[0m_position\u001b[0m\u001b[1;33m\u001b[0m\u001b[0m\n\u001b[0;32m   1267\u001b[0m         \u001b[0mopcode\u001b[0m \u001b[1;33m=\u001b[0m \u001b[0mself\u001b[0m\u001b[1;33m.\u001b[0m\u001b[0mget2bytes\u001b[0m\u001b[1;33m(\u001b[0m\u001b[1;33m)\u001b[0m\u001b[1;33m\u001b[0m\u001b[0m\n",
      "\u001b[1;31mXLRDError\u001b[0m: Unsupported format, or corrupt file: Expected BOF record; found b'\\n\\n\\n\\n\\n<!D'"
     ]
    }
   ],
   "source": [
    "# set up the parameters\n",
    "parameters = {\n",
    "    'feature_path': './data/features/features.xlsx', # path to csv/xls file with features\n",
    "    'outcome_path': './data/features/extended_clinical_df.xlsx', #path to csv/xls file with outcome\n",
    "    'patient_column': 'Patient', # name of column with patient id\n",
    "    'patient_in_outcome_column': 'PatientID', # name of column with patient id in clinical data file\n",
    "    'outcome_column': '1yearsurvival' # name of outcome column\n",
    "}\n",
    "\n",
    "# initialize feature set\n",
    "rad_features = features_set(**parameters)\n",
    "# excluding patients with unknown outcome (in case they are represented)\n",
    "rad_features.handle_nan(axis=1)"
   ]
  },
  {
   "cell_type": "code",
   "execution_count": 9,
   "metadata": {},
   "outputs": [
    {
     "data": {
      "text/html": [
       "<div>\n",
       "<style scoped>\n",
       "    .dataframe tbody tr th:only-of-type {\n",
       "        vertical-align: middle;\n",
       "    }\n",
       "\n",
       "    .dataframe tbody tr th {\n",
       "        vertical-align: top;\n",
       "    }\n",
       "\n",
       "    .dataframe thead th {\n",
       "        text-align: right;\n",
       "    }\n",
       "</style>\n",
       "<table border=\"1\" class=\"dataframe\">\n",
       "  <thead>\n",
       "    <tr style=\"text-align: right;\">\n",
       "      <th></th>\n",
       "      <th>original_shape_Elongation</th>\n",
       "      <th>original_shape_Flatness</th>\n",
       "      <th>original_shape_LeastAxisLength</th>\n",
       "      <th>original_shape_MajorAxisLength</th>\n",
       "      <th>original_shape_Maximum2DDiameterColumn</th>\n",
       "      <th>original_shape_Maximum2DDiameterRow</th>\n",
       "      <th>original_shape_Maximum2DDiameterSlice</th>\n",
       "      <th>original_shape_Maximum3DDiameter</th>\n",
       "      <th>original_shape_MeshVolume</th>\n",
       "      <th>original_shape_MinorAxisLength</th>\n",
       "      <th>...</th>\n",
       "      <th>wavelet-LLL_gldm_HighGrayLevelEmphasis</th>\n",
       "      <th>wavelet-LLL_gldm_LargeDependenceEmphasis</th>\n",
       "      <th>wavelet-LLL_gldm_LargeDependenceHighGrayLevelEmphasis</th>\n",
       "      <th>wavelet-LLL_gldm_LargeDependenceLowGrayLevelEmphasis</th>\n",
       "      <th>wavelet-LLL_gldm_LowGrayLevelEmphasis</th>\n",
       "      <th>wavelet-LLL_gldm_SmallDependenceEmphasis</th>\n",
       "      <th>wavelet-LLL_gldm_SmallDependenceHighGrayLevelEmphasis</th>\n",
       "      <th>wavelet-LLL_gldm_SmallDependenceLowGrayLevelEmphasis</th>\n",
       "      <th>ROI</th>\n",
       "      <th>1yearsurvival</th>\n",
       "    </tr>\n",
       "    <tr>\n",
       "      <th>Patient</th>\n",
       "      <th></th>\n",
       "      <th></th>\n",
       "      <th></th>\n",
       "      <th></th>\n",
       "      <th></th>\n",
       "      <th></th>\n",
       "      <th></th>\n",
       "      <th></th>\n",
       "      <th></th>\n",
       "      <th></th>\n",
       "      <th></th>\n",
       "      <th></th>\n",
       "      <th></th>\n",
       "      <th></th>\n",
       "      <th></th>\n",
       "      <th></th>\n",
       "      <th></th>\n",
       "      <th></th>\n",
       "      <th></th>\n",
       "      <th></th>\n",
       "      <th></th>\n",
       "    </tr>\n",
       "  </thead>\n",
       "  <tbody>\n",
       "    <tr>\n",
       "      <th>LUNG1-001_20180209_CT_2_GTV-1_mask</th>\n",
       "      <td>0.732658</td>\n",
       "      <td>0.548834</td>\n",
       "      <td>46.151744</td>\n",
       "      <td>84.090588</td>\n",
       "      <td>95.336247</td>\n",
       "      <td>83.186537</td>\n",
       "      <td>95.425364</td>\n",
       "      <td>96.104110</td>\n",
       "      <td>155379.500000</td>\n",
       "      <td>61.609664</td>\n",
       "      <td>...</td>\n",
       "      <td>14462.536758</td>\n",
       "      <td>33.609142</td>\n",
       "      <td>548084.071741</td>\n",
       "      <td>0.002759</td>\n",
       "      <td>0.000139</td>\n",
       "      <td>0.267761</td>\n",
       "      <td>2959.571494</td>\n",
       "      <td>0.000058</td>\n",
       "      <td>GTV-1_mask</td>\n",
       "      <td>1</td>\n",
       "    </tr>\n",
       "    <tr>\n",
       "      <th>LUNG1-002_20180526_CT_1_GTV-1_mask</th>\n",
       "      <td>0.878035</td>\n",
       "      <td>0.755488</td>\n",
       "      <td>70.110114</td>\n",
       "      <td>92.801132</td>\n",
       "      <td>116.931604</td>\n",
       "      <td>101.833197</td>\n",
       "      <td>104.316825</td>\n",
       "      <td>125.674182</td>\n",
       "      <td>358446.791667</td>\n",
       "      <td>81.482668</td>\n",
       "      <td>...</td>\n",
       "      <td>13208.125493</td>\n",
       "      <td>55.600107</td>\n",
       "      <td>832176.248523</td>\n",
       "      <td>0.004497</td>\n",
       "      <td>0.000162</td>\n",
       "      <td>0.188931</td>\n",
       "      <td>1733.836805</td>\n",
       "      <td>0.000053</td>\n",
       "      <td>GTV-1_mask</td>\n",
       "      <td>0</td>\n",
       "    </tr>\n",
       "    <tr>\n",
       "      <th>LUNG1-003_20180209_CT_1_GTV-1_mask</th>\n",
       "      <td>0.544631</td>\n",
       "      <td>0.356597</td>\n",
       "      <td>25.559022</td>\n",
       "      <td>71.674815</td>\n",
       "      <td>56.639209</td>\n",
       "      <td>83.528438</td>\n",
       "      <td>62.265560</td>\n",
       "      <td>84.011904</td>\n",
       "      <td>34987.000000</td>\n",
       "      <td>39.036358</td>\n",
       "      <td>...</td>\n",
       "      <td>9142.646956</td>\n",
       "      <td>17.909008</td>\n",
       "      <td>209143.444093</td>\n",
       "      <td>0.002673</td>\n",
       "      <td>0.000367</td>\n",
       "      <td>0.402930</td>\n",
       "      <td>2838.784544</td>\n",
       "      <td>0.000191</td>\n",
       "      <td>GTV-1_mask</td>\n",
       "      <td>0</td>\n",
       "    </tr>\n",
       "    <tr>\n",
       "      <th>LUNG1-003_20180209_CT_1_GTV-2_mask</th>\n",
       "      <td>0.803906</td>\n",
       "      <td>0.745582</td>\n",
       "      <td>33.756505</td>\n",
       "      <td>45.275381</td>\n",
       "      <td>46.173586</td>\n",
       "      <td>52.801515</td>\n",
       "      <td>52.201533</td>\n",
       "      <td>54.626001</td>\n",
       "      <td>37989.625000</td>\n",
       "      <td>36.397153</td>\n",
       "      <td>...</td>\n",
       "      <td>1959.587091</td>\n",
       "      <td>57.127037</td>\n",
       "      <td>110707.131452</td>\n",
       "      <td>0.030103</td>\n",
       "      <td>0.000576</td>\n",
       "      <td>0.087440</td>\n",
       "      <td>201.127071</td>\n",
       "      <td>0.000084</td>\n",
       "      <td>GTV-2_mask</td>\n",
       "      <td>0</td>\n",
       "    </tr>\n",
       "    <tr>\n",
       "      <th>LUNG1-003_20180209_CT_1_GTV-3_mask</th>\n",
       "      <td>0.377035</td>\n",
       "      <td>0.264280</td>\n",
       "      <td>17.982429</td>\n",
       "      <td>68.043203</td>\n",
       "      <td>52.924474</td>\n",
       "      <td>34.828150</td>\n",
       "      <td>52.952809</td>\n",
       "      <td>54.872580</td>\n",
       "      <td>8490.875000</td>\n",
       "      <td>25.654681</td>\n",
       "      <td>...</td>\n",
       "      <td>12522.929148</td>\n",
       "      <td>21.910558</td>\n",
       "      <td>283996.495148</td>\n",
       "      <td>0.001835</td>\n",
       "      <td>0.000204</td>\n",
       "      <td>0.180937</td>\n",
       "      <td>2164.128733</td>\n",
       "      <td>0.000139</td>\n",
       "      <td>GTV-3_mask</td>\n",
       "      <td>0</td>\n",
       "    </tr>\n",
       "  </tbody>\n",
       "</table>\n",
       "<p>5 rows × 1220 columns</p>\n",
       "</div>"
      ],
      "text/plain": [
       "                                    original_shape_Elongation  \\\n",
       "Patient                                                         \n",
       "LUNG1-001_20180209_CT_2_GTV-1_mask                   0.732658   \n",
       "LUNG1-002_20180526_CT_1_GTV-1_mask                   0.878035   \n",
       "LUNG1-003_20180209_CT_1_GTV-1_mask                   0.544631   \n",
       "LUNG1-003_20180209_CT_1_GTV-2_mask                   0.803906   \n",
       "LUNG1-003_20180209_CT_1_GTV-3_mask                   0.377035   \n",
       "\n",
       "                                    original_shape_Flatness  \\\n",
       "Patient                                                       \n",
       "LUNG1-001_20180209_CT_2_GTV-1_mask                 0.548834   \n",
       "LUNG1-002_20180526_CT_1_GTV-1_mask                 0.755488   \n",
       "LUNG1-003_20180209_CT_1_GTV-1_mask                 0.356597   \n",
       "LUNG1-003_20180209_CT_1_GTV-2_mask                 0.745582   \n",
       "LUNG1-003_20180209_CT_1_GTV-3_mask                 0.264280   \n",
       "\n",
       "                                    original_shape_LeastAxisLength  \\\n",
       "Patient                                                              \n",
       "LUNG1-001_20180209_CT_2_GTV-1_mask                       46.151744   \n",
       "LUNG1-002_20180526_CT_1_GTV-1_mask                       70.110114   \n",
       "LUNG1-003_20180209_CT_1_GTV-1_mask                       25.559022   \n",
       "LUNG1-003_20180209_CT_1_GTV-2_mask                       33.756505   \n",
       "LUNG1-003_20180209_CT_1_GTV-3_mask                       17.982429   \n",
       "\n",
       "                                    original_shape_MajorAxisLength  \\\n",
       "Patient                                                              \n",
       "LUNG1-001_20180209_CT_2_GTV-1_mask                       84.090588   \n",
       "LUNG1-002_20180526_CT_1_GTV-1_mask                       92.801132   \n",
       "LUNG1-003_20180209_CT_1_GTV-1_mask                       71.674815   \n",
       "LUNG1-003_20180209_CT_1_GTV-2_mask                       45.275381   \n",
       "LUNG1-003_20180209_CT_1_GTV-3_mask                       68.043203   \n",
       "\n",
       "                                    original_shape_Maximum2DDiameterColumn  \\\n",
       "Patient                                                                      \n",
       "LUNG1-001_20180209_CT_2_GTV-1_mask                               95.336247   \n",
       "LUNG1-002_20180526_CT_1_GTV-1_mask                              116.931604   \n",
       "LUNG1-003_20180209_CT_1_GTV-1_mask                               56.639209   \n",
       "LUNG1-003_20180209_CT_1_GTV-2_mask                               46.173586   \n",
       "LUNG1-003_20180209_CT_1_GTV-3_mask                               52.924474   \n",
       "\n",
       "                                    original_shape_Maximum2DDiameterRow  \\\n",
       "Patient                                                                   \n",
       "LUNG1-001_20180209_CT_2_GTV-1_mask                            83.186537   \n",
       "LUNG1-002_20180526_CT_1_GTV-1_mask                           101.833197   \n",
       "LUNG1-003_20180209_CT_1_GTV-1_mask                            83.528438   \n",
       "LUNG1-003_20180209_CT_1_GTV-2_mask                            52.801515   \n",
       "LUNG1-003_20180209_CT_1_GTV-3_mask                            34.828150   \n",
       "\n",
       "                                    original_shape_Maximum2DDiameterSlice  \\\n",
       "Patient                                                                     \n",
       "LUNG1-001_20180209_CT_2_GTV-1_mask                              95.425364   \n",
       "LUNG1-002_20180526_CT_1_GTV-1_mask                             104.316825   \n",
       "LUNG1-003_20180209_CT_1_GTV-1_mask                              62.265560   \n",
       "LUNG1-003_20180209_CT_1_GTV-2_mask                              52.201533   \n",
       "LUNG1-003_20180209_CT_1_GTV-3_mask                              52.952809   \n",
       "\n",
       "                                    original_shape_Maximum3DDiameter  \\\n",
       "Patient                                                                \n",
       "LUNG1-001_20180209_CT_2_GTV-1_mask                         96.104110   \n",
       "LUNG1-002_20180526_CT_1_GTV-1_mask                        125.674182   \n",
       "LUNG1-003_20180209_CT_1_GTV-1_mask                         84.011904   \n",
       "LUNG1-003_20180209_CT_1_GTV-2_mask                         54.626001   \n",
       "LUNG1-003_20180209_CT_1_GTV-3_mask                         54.872580   \n",
       "\n",
       "                                    original_shape_MeshVolume  \\\n",
       "Patient                                                         \n",
       "LUNG1-001_20180209_CT_2_GTV-1_mask              155379.500000   \n",
       "LUNG1-002_20180526_CT_1_GTV-1_mask              358446.791667   \n",
       "LUNG1-003_20180209_CT_1_GTV-1_mask               34987.000000   \n",
       "LUNG1-003_20180209_CT_1_GTV-2_mask               37989.625000   \n",
       "LUNG1-003_20180209_CT_1_GTV-3_mask                8490.875000   \n",
       "\n",
       "                                    original_shape_MinorAxisLength  ...  \\\n",
       "Patient                                                             ...   \n",
       "LUNG1-001_20180209_CT_2_GTV-1_mask                       61.609664  ...   \n",
       "LUNG1-002_20180526_CT_1_GTV-1_mask                       81.482668  ...   \n",
       "LUNG1-003_20180209_CT_1_GTV-1_mask                       39.036358  ...   \n",
       "LUNG1-003_20180209_CT_1_GTV-2_mask                       36.397153  ...   \n",
       "LUNG1-003_20180209_CT_1_GTV-3_mask                       25.654681  ...   \n",
       "\n",
       "                                    wavelet-LLL_gldm_HighGrayLevelEmphasis  \\\n",
       "Patient                                                                      \n",
       "LUNG1-001_20180209_CT_2_GTV-1_mask                            14462.536758   \n",
       "LUNG1-002_20180526_CT_1_GTV-1_mask                            13208.125493   \n",
       "LUNG1-003_20180209_CT_1_GTV-1_mask                             9142.646956   \n",
       "LUNG1-003_20180209_CT_1_GTV-2_mask                             1959.587091   \n",
       "LUNG1-003_20180209_CT_1_GTV-3_mask                            12522.929148   \n",
       "\n",
       "                                    wavelet-LLL_gldm_LargeDependenceEmphasis  \\\n",
       "Patient                                                                        \n",
       "LUNG1-001_20180209_CT_2_GTV-1_mask                                 33.609142   \n",
       "LUNG1-002_20180526_CT_1_GTV-1_mask                                 55.600107   \n",
       "LUNG1-003_20180209_CT_1_GTV-1_mask                                 17.909008   \n",
       "LUNG1-003_20180209_CT_1_GTV-2_mask                                 57.127037   \n",
       "LUNG1-003_20180209_CT_1_GTV-3_mask                                 21.910558   \n",
       "\n",
       "                                    wavelet-LLL_gldm_LargeDependenceHighGrayLevelEmphasis  \\\n",
       "Patient                                                                                     \n",
       "LUNG1-001_20180209_CT_2_GTV-1_mask                                      548084.071741       \n",
       "LUNG1-002_20180526_CT_1_GTV-1_mask                                      832176.248523       \n",
       "LUNG1-003_20180209_CT_1_GTV-1_mask                                      209143.444093       \n",
       "LUNG1-003_20180209_CT_1_GTV-2_mask                                      110707.131452       \n",
       "LUNG1-003_20180209_CT_1_GTV-3_mask                                      283996.495148       \n",
       "\n",
       "                                    wavelet-LLL_gldm_LargeDependenceLowGrayLevelEmphasis  \\\n",
       "Patient                                                                                    \n",
       "LUNG1-001_20180209_CT_2_GTV-1_mask                                           0.002759      \n",
       "LUNG1-002_20180526_CT_1_GTV-1_mask                                           0.004497      \n",
       "LUNG1-003_20180209_CT_1_GTV-1_mask                                           0.002673      \n",
       "LUNG1-003_20180209_CT_1_GTV-2_mask                                           0.030103      \n",
       "LUNG1-003_20180209_CT_1_GTV-3_mask                                           0.001835      \n",
       "\n",
       "                                    wavelet-LLL_gldm_LowGrayLevelEmphasis  \\\n",
       "Patient                                                                     \n",
       "LUNG1-001_20180209_CT_2_GTV-1_mask                               0.000139   \n",
       "LUNG1-002_20180526_CT_1_GTV-1_mask                               0.000162   \n",
       "LUNG1-003_20180209_CT_1_GTV-1_mask                               0.000367   \n",
       "LUNG1-003_20180209_CT_1_GTV-2_mask                               0.000576   \n",
       "LUNG1-003_20180209_CT_1_GTV-3_mask                               0.000204   \n",
       "\n",
       "                                    wavelet-LLL_gldm_SmallDependenceEmphasis  \\\n",
       "Patient                                                                        \n",
       "LUNG1-001_20180209_CT_2_GTV-1_mask                                  0.267761   \n",
       "LUNG1-002_20180526_CT_1_GTV-1_mask                                  0.188931   \n",
       "LUNG1-003_20180209_CT_1_GTV-1_mask                                  0.402930   \n",
       "LUNG1-003_20180209_CT_1_GTV-2_mask                                  0.087440   \n",
       "LUNG1-003_20180209_CT_1_GTV-3_mask                                  0.180937   \n",
       "\n",
       "                                    wavelet-LLL_gldm_SmallDependenceHighGrayLevelEmphasis  \\\n",
       "Patient                                                                                     \n",
       "LUNG1-001_20180209_CT_2_GTV-1_mask                                        2959.571494       \n",
       "LUNG1-002_20180526_CT_1_GTV-1_mask                                        1733.836805       \n",
       "LUNG1-003_20180209_CT_1_GTV-1_mask                                        2838.784544       \n",
       "LUNG1-003_20180209_CT_1_GTV-2_mask                                         201.127071       \n",
       "LUNG1-003_20180209_CT_1_GTV-3_mask                                        2164.128733       \n",
       "\n",
       "                                    wavelet-LLL_gldm_SmallDependenceLowGrayLevelEmphasis  \\\n",
       "Patient                                                                                    \n",
       "LUNG1-001_20180209_CT_2_GTV-1_mask                                           0.000058      \n",
       "LUNG1-002_20180526_CT_1_GTV-1_mask                                           0.000053      \n",
       "LUNG1-003_20180209_CT_1_GTV-1_mask                                           0.000191      \n",
       "LUNG1-003_20180209_CT_1_GTV-2_mask                                           0.000084      \n",
       "LUNG1-003_20180209_CT_1_GTV-3_mask                                           0.000139      \n",
       "\n",
       "                                           ROI  1yearsurvival  \n",
       "Patient                                                        \n",
       "LUNG1-001_20180209_CT_2_GTV-1_mask  GTV-1_mask              1  \n",
       "LUNG1-002_20180526_CT_1_GTV-1_mask  GTV-1_mask              0  \n",
       "LUNG1-003_20180209_CT_1_GTV-1_mask  GTV-1_mask              0  \n",
       "LUNG1-003_20180209_CT_1_GTV-2_mask  GTV-2_mask              0  \n",
       "LUNG1-003_20180209_CT_1_GTV-3_mask  GTV-3_mask              0  \n",
       "\n",
       "[5 rows x 1220 columns]"
      ]
     },
     "execution_count": 9,
     "metadata": {},
     "output_type": "execute_result"
    }
   ],
   "source": [
    "#display feature dataframe\n",
    "rad_features._feature_outcome_dataframe.head(5)"
   ]
  },
  {
   "cell_type": "code",
   "execution_count": null,
   "metadata": {},
   "outputs": [],
   "source": []
  },
  {
   "cell_type": "markdown",
   "metadata": {},
   "source": [
    "### Visualization of features distribution\n",
    "Visualization functions are made to be interactive. Each visualization function will generate a separate html file and open it in your browser window. You can also render them by pressing on <b>\"download plot as a png\"</b> button on the control panel in right top corner."
   ]
  },
  {
   "cell_type": "code",
   "execution_count": 5,
   "metadata": {},
   "outputs": [],
   "source": [
    "# visualization of feature values distribution in classes (in .html report)\n",
    "rad_features.plot_binary_distribution(rad_features._feature_column[:100])"
   ]
  },
  {
   "cell_type": "markdown",
   "metadata": {},
   "source": [
    "Example of plotted distributions of feature values in classes:\n",
    " \n",
    "<img src=\"./res/images/distr.png\" width=\"1000\" />"
   ]
  },
  {
   "cell_type": "code",
   "execution_count": null,
   "metadata": {},
   "outputs": [],
   "source": []
  },
  {
   "cell_type": "markdown",
   "metadata": {},
   "source": [
    "### Visualization of features correlation"
   ]
  },
  {
   "cell_type": "code",
   "execution_count": 6,
   "metadata": {},
   "outputs": [
    {
     "ename": "NameError",
     "evalue": "name 'fs' is not defined",
     "output_type": "error",
     "traceback": [
      "\u001b[1;31m---------------------------------------------------------------------------\u001b[0m",
      "\u001b[1;31mNameError\u001b[0m                                 Traceback (most recent call last)",
      "\u001b[1;32m<ipython-input-6-a86744f4daa7>\u001b[0m in \u001b[0;36m<module>\u001b[1;34m()\u001b[0m\n\u001b[0;32m      1\u001b[0m \u001b[1;31m# visualization of feature mutual (Spearman) correlation coefficient matrix (in .html report)\u001b[0m\u001b[1;33m\u001b[0m\u001b[1;33m\u001b[0m\u001b[0m\n\u001b[1;32m----> 2\u001b[1;33m \u001b[0mrad_features\u001b[0m\u001b[1;33m.\u001b[0m\u001b[0mplot_correlation_matrix\u001b[0m\u001b[1;33m(\u001b[0m\u001b[0mfs\u001b[0m\u001b[1;33m.\u001b[0m\u001b[0m_feature_column\u001b[0m\u001b[1;33m[\u001b[0m\u001b[1;33m:\u001b[0m\u001b[1;36m100\u001b[0m\u001b[1;33m]\u001b[0m\u001b[1;33m)\u001b[0m\u001b[1;33m\u001b[0m\u001b[0m\n\u001b[0m",
      "\u001b[1;31mNameError\u001b[0m: name 'fs' is not defined"
     ]
    }
   ],
   "source": [
    "# visualization of feature mutual (Spearman) correlation coefficient matrix (in .html report)\n",
    "rad_features.plot_correlation_matrix(rad_features._feature_column[:100])"
   ]
  },
  {
   "cell_type": "markdown",
   "metadata": {},
   "source": [
    "Example of feature correlation matrix:\n",
    "<img src=\"./res/images/corr.png\" width=\"800\" />"
   ]
  },
  {
   "cell_type": "code",
   "execution_count": null,
   "metadata": {},
   "outputs": [],
   "source": []
  },
  {
   "cell_type": "markdown",
   "metadata": {},
   "source": [
    "### Mann-Whitney Bonferroni corrected p-values test (binary classes)"
   ]
  },
  {
   "cell_type": "code",
   "execution_count": null,
   "metadata": {},
   "outputs": [],
   "source": [
    "# visualization of Mann-Whitney Bonferroni corrected p-values for binary classes test (in .html report)\n",
    "rad_features.plot_MW_p(rad_features._feature_column[:100])"
   ]
  },
  {
   "cell_type": "markdown",
   "metadata": {},
   "source": [
    "Example of Mann-Whitney p-values:\n",
    "<img src=\"./res/images/p_MW.png\" width=\"800\" />"
   ]
  },
  {
   "cell_type": "code",
   "execution_count": null,
   "metadata": {},
   "outputs": [],
   "source": []
  },
  {
   "cell_type": "markdown",
   "metadata": {},
   "source": [
    "### Univariate ROC-curves"
   ]
  },
  {
   "cell_type": "code",
   "execution_count": 4,
   "metadata": {},
   "outputs": [
    {
     "ename": "NameError",
     "evalue": "name 'rad_features' is not defined",
     "output_type": "error",
     "traceback": [
      "\u001b[1;31m---------------------------------------------------------------------------\u001b[0m",
      "\u001b[1;31mNameError\u001b[0m                                 Traceback (most recent call last)",
      "\u001b[1;32m<ipython-input-4-4309115143b5>\u001b[0m in \u001b[0;36m<module>\u001b[1;34m()\u001b[0m\n\u001b[0;32m      1\u001b[0m \u001b[1;31m# visualization of univariate ROC-curves (in .html report)\u001b[0m\u001b[1;33m\u001b[0m\u001b[1;33m\u001b[0m\u001b[0m\n\u001b[1;32m----> 2\u001b[1;33m \u001b[0mrad_features\u001b[0m\u001b[1;33m.\u001b[0m\u001b[0mplot_univariate_roc\u001b[0m\u001b[1;33m(\u001b[0m\u001b[0mfs\u001b[0m\u001b[1;33m.\u001b[0m\u001b[0m_feature_column\u001b[0m\u001b[1;33m[\u001b[0m\u001b[1;33m:\u001b[0m\u001b[1;36m100\u001b[0m\u001b[1;33m]\u001b[0m\u001b[1;33m)\u001b[0m\u001b[1;33m\u001b[0m\u001b[0m\n\u001b[0m",
      "\u001b[1;31mNameError\u001b[0m: name 'rad_features' is not defined"
     ]
    }
   ],
   "source": [
    "# visualization of univariate ROC-curves (in .html report)\n",
    "rad_features.plot_univariate_roc(rad_features._feature_column[:100])"
   ]
  },
  {
   "cell_type": "markdown",
   "metadata": {},
   "source": [
    "Example of univariate feature ROC:\n",
    "![](./data/images/roc.png)"
   ]
  },
  {
   "cell_type": "code",
   "execution_count": null,
   "metadata": {},
   "outputs": [],
   "source": []
  },
  {
   "cell_type": "markdown",
   "metadata": {},
   "source": [
    "### Features statistics & correlation with volume"
   ]
  },
  {
   "cell_type": "code",
   "execution_count": 5,
   "metadata": {},
   "outputs": [
    {
     "ename": "NameError",
     "evalue": "name 'rad_features' is not defined",
     "output_type": "error",
     "traceback": [
      "\u001b[1;31m---------------------------------------------------------------------------\u001b[0m",
      "\u001b[1;31mNameError\u001b[0m                                 Traceback (most recent call last)",
      "\u001b[1;32m<ipython-input-5-658af8c995a4>\u001b[0m in \u001b[0;36m<module>\u001b[1;34m()\u001b[0m\n\u001b[0;32m      1\u001b[0m \u001b[1;31m# calculation of basic statistics for each feature (in .xlsx):\u001b[0m\u001b[1;33m\u001b[0m\u001b[1;33m\u001b[0m\u001b[0m\n\u001b[0;32m      2\u001b[0m \u001b[1;31m# number of NaN, mean, std, min, max; if applicable: MW-p, univariate ROC AUC, volume correlation\u001b[0m\u001b[1;33m\u001b[0m\u001b[1;33m\u001b[0m\u001b[0m\n\u001b[1;32m----> 3\u001b[1;33m \u001b[0mrad_features\u001b[0m\u001b[1;33m.\u001b[0m\u001b[0mcalculate_basic_stats\u001b[0m\u001b[1;33m(\u001b[0m\u001b[0mvolume_feature\u001b[0m\u001b[1;33m=\u001b[0m\u001b[1;34m'original_shape_VoxelVolume'\u001b[0m\u001b[1;33m)\u001b[0m\u001b[1;33m\u001b[0m\u001b[0m\n\u001b[0m\u001b[0;32m      4\u001b[0m \u001b[0mdisplay\u001b[0m\u001b[1;33m(\u001b[0m\u001b[0mpd\u001b[0m\u001b[1;33m.\u001b[0m\u001b[0mread_excel\u001b[0m\u001b[1;33m(\u001b[0m\u001b[1;34m'./data/features/features_basic_stats.xlsx'\u001b[0m\u001b[1;33m)\u001b[0m\u001b[1;33m.\u001b[0m\u001b[0mhead\u001b[0m\u001b[1;33m(\u001b[0m\u001b[1;33m)\u001b[0m\u001b[1;33m)\u001b[0m\u001b[1;33m\u001b[0m\u001b[0m\n",
      "\u001b[1;31mNameError\u001b[0m: name 'rad_features' is not defined"
     ]
    }
   ],
   "source": [
    "# calculation of basic statistics for each feature (in .xlsx):\n",
    "# number of NaN, mean, std, min, max; if applicable: MW-p, univariate ROC AUC, volume correlation\n",
    "rad_features.calculate_basic_stats(volume_feature='original_shape_VoxelVolume')\n",
    "display(pd.read_excel('./data/features/features_basic_stats.xlsx').head())"
   ]
  },
  {
   "cell_type": "code",
   "execution_count": null,
   "metadata": {},
   "outputs": [],
   "source": []
  },
  {
   "cell_type": "markdown",
   "metadata": {},
   "source": [
    "### Analyze the volume alone performance "
   ]
  },
  {
   "cell_type": "code",
   "execution_count": 42,
   "metadata": {},
   "outputs": [],
   "source": [
    "# volume analysis\n",
    "rad_features.volume_analysis(volume_feature='original_shape_VoxelVolume')\n"
   ]
  },
  {
   "cell_type": "markdown",
   "metadata": {},
   "source": [
    "<div id=\"the whole thing\" style=\"height:100%; width:100%; overflow: hidden;\">\n",
    "    <div id=\"leftThing\" style=\"float: left; width:40%;\"> Example of volume precision-recall curve:\n",
    "        <img src=\"./res/images/vol_prc.png\" width=\"500\" />\n",
    "    </div>\n",
    "    <div id=\"leftThing\" style=\"float: left; width:60%;\"> Example of volume Spearman correlation coefficients:\n",
    "        <img src=\"./res/images/vol_corr.png\" width=\"500\" />\n",
    "    </div>\n",
    "</div>"
   ]
  },
  {
   "cell_type": "markdown",
   "metadata": {},
   "source": []
  },
  {
   "cell_type": "code",
   "execution_count": null,
   "metadata": {},
   "outputs": [],
   "source": []
  }
 ],
 "metadata": {
  "kernelspec": {
   "display_name": "Python 3",
   "language": "python",
   "name": "python3"
  },
  "language_info": {
   "codemirror_mode": {
    "name": "ipython",
    "version": 3
   },
   "file_extension": ".py",
   "mimetype": "text/x-python",
   "name": "python",
   "nbconvert_exporter": "python",
   "pygments_lexer": "ipython3",
   "version": "3.6.4"
  }
 },
 "nbformat": 4,
 "nbformat_minor": 2
}
